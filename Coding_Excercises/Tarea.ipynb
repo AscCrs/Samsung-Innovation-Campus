{
 "cells": [
  {
   "cell_type": "markdown",
   "id": "5880eb49-c374-4358-b1a5-bac145eecc5b",
   "metadata": {
    "id": "5880eb49-c374-4358-b1a5-bac145eecc5b"
   },
   "source": [
    "# Capítulo 3. Análisis exploratorio de los datos\n",
    "\n",
    "Exploración óptima de datos con Pandas\n",
    "<br>\n",
    "\n",
    "\n",
    "<br>\n",
    "\n",
    "En esta Unidad, nos enfocaremos en el uso de la librería **Pandas**, una de las librerías más populares y potentes en Python para la manipulación y análisis de datos. Diseñada específicamente para trabajar con datos estructurados. Pandas nos ofrece distintas herramientas que facilitarán tareas específicas de Ciencias de Datos e Inteligencia Artificial, entre ellas: limpieza, transformación, agregación y análisis de grandes volúmenes de datos de forma rápida y eficiente.\n",
    "\n",
    "El contenido de esta unidad se desglosa a continuación:\n",
    "\n",
    "- `1. Pipelines: Estructura de datos según el tipo de datos`\n",
    "- `2. Serie Pandas y DataFrames`\n",
    "- `3. Fusión y vinculación de DataFrames`\n",
    "- `4. Análisis de las características de los datos a través de estadísticas descriptivas y muestras de datos`\n",
    "\n",
    "Es importante entender algunos conceptos clave en este capítulo:\n",
    "\n",
    "- **Pipeline:** flujo de procesamiento de datos que organiza y encadena las etapas de limpieza y transformación de datos en pandas.\n",
    "- **Serie:** estructura unidimensional de datos en pandas, similar a una columna, que permite manipulación y análisis rápidos de datos individuales.\n",
    "- **DataFrame:** estructura bidimensional de pandas similar a una tabla, que facilita el trabajo con datos organizados en filas y columnas.\n",
    "- **Fusión y vinculación:** métodos para combinar DataFrames y unificar datos de múltiples fuentes.\n",
    "-  **Estadísticas descriptivas:** medidas para explorar y resumir características clave de los datos (media, mediana, desviación estándar).\n",
    "\n",
    "\n",
    "Pandas, al igual que otras librerías, nos proporciona documentación que podemos requerir para tareas específicas, la documentación la puedes encontrar en: https://pandas.pydata.org/docs/user_guide/index.html#user-guide\n",
    "\n",
    "Para la instalación, desde la terminal podemos utilizar el comando `pip install pandas`, o bien, directamente desde un código podemos utilizar el código:\n",
    "\n",
    "``` python\n",
    "import sys\n",
    "import subprocess\n",
    "\n",
    "subprocess.check_call([sys.executable, \"-m\", \"pip\", \"install\", \"pandas\"]) if \"pandas\" not in sys.modules else None\n",
    "```\n",
    "\n",
    "¡Empecemos!\n",
    "\n",
    "<div style=\"text-align: center;\">\n",
    "    <img src=\"attachment:9f777b45-1cee-45f7-bc91-73a1d4a7bf4e.webp\" alt=\"DALL·E meme\" width=\"300\"/>\n",
    "</div>\n",
    "\n",
    "\n"
   ]
  },
  {
   "cell_type": "markdown",
   "id": "Z5NFTDHdx9m2",
   "metadata": {
    "id": "Z5NFTDHdx9m2"
   },
   "source": []
  },
  {
   "cell_type": "markdown",
   "id": "c484f32a-32b2-4c13-9a52-6cb76dc590da",
   "metadata": {
    "id": "c484f32a-32b2-4c13-9a52-6cb76dc590da"
   },
   "source": [
    "## 2.1 Pipeline en Pandas\n",
    "\n",
    "Ejemplo de un Pipeline en Pandas con Datos Estructurados"
   ]
  },
  {
   "cell_type": "markdown",
   "id": "rFtaju85x_uN",
   "metadata": {
    "id": "rFtaju85x_uN"
   },
   "source": []
  },
  {
   "cell_type": "code",
   "execution_count": null,
   "id": "176aa13f-f95d-462a-af4c-ea31170c0f7e",
   "metadata": {
    "id": "176aa13f-f95d-462a-af4c-ea31170c0f7e",
    "outputId": "4070ee00-59b0-4063-af4e-018ec31f59ef"
   },
   "outputs": [
    {
     "name": "stdout",
     "output_type": "stream",
     "text": [
      "  Empleado  Edad  Salario\n",
      "0      Ana  26.0  50000.0\n",
      "2     Luis  31.0  60000.0\n",
      "3    María  46.0  80000.0\n"
     ]
    }
   ],
   "source": [
    "import pandas as pd\n",
    "\n",
    "# Crear un DataFrame de ejemplo\n",
    "data = {\n",
    "    'Nombre': ['Ana', 'Juan', 'Luis', 'María', 'Carlos'],\n",
    "    'Edad': [25, None, 30, 45, None],\n",
    "    'Salario': [50000, 60000, None, 80000, 50000]\n",
    "}\n",
    "df = pd.DataFrame(data)\n",
    "\n",
    "# Aplicar un pipeline de transformación\n",
    "df = (\n",
    "    df\n",
    "    .dropna(subset=['Edad'])                      # Eliminar filas con valores nulos en la columna 'Edad' (Limpieza de datos)\n",
    "    .fillna({'Salario': df['Salario'].mean()})    # Rellenar nulos en 'Salario' con el promedio de la columna (Imputación de datos)\n",
    "    .assign(Edad=df['Edad'] + 1)                  # Aumentar la edad en 1 año (Transformación de datos - Actualización - Mantenimiento)\n",
    "    .rename(columns={'Nombre': 'Empleado'})       # Renombrar columna 'Nombre' a 'Empleado' (Manipulación de características)\n",
    ")\n",
    "\n",
    "print(df)"
   ]
  },
  {
   "cell_type": "markdown",
   "id": "3aeee2b0-2935-4f05-afd4-ed59c1cf7c94",
   "metadata": {
    "id": "3aeee2b0-2935-4f05-afd4-ed59c1cf7c94"
   },
   "source": [
    "Ejemplo de un Pipeline en Pandas con Datos no Estructurados"
   ]
  },
  {
   "cell_type": "code",
   "execution_count": null,
   "id": "1494faf2-3982-4690-8f8e-78ec3163c9a6",
   "metadata": {
    "id": "1494faf2-3982-4690-8f8e-78ec3163c9a6",
    "outputId": "0def93bd-1d59-4f91-b5f1-1aa589a385b3"
   },
   "outputs": [
    {
     "name": "stdout",
     "output_type": "stream",
     "text": [
      "  Empleado  Es_Empleado_Mes  Es_Ascendido      Rendimiento\n",
      "0      Ana             True         False        Excelente\n",
      "1     Juan            False          True  Sin información\n",
      "2     Luis            False         False         Promedio\n",
      "3    María            False         False            Bueno\n",
      "4   Carlos            False         False  Sin información\n"
     ]
    }
   ],
   "source": [
    "import pandas as pd\n",
    "\n",
    "# Crear un DataFrame de ejemplo con datos no estructurados\n",
    "data = {\n",
    "    'Empleado': ['Ana', 'Juan', 'Luis', 'María', 'Carlos'],\n",
    "    'Comentarios': [\n",
    "        \"Empleado del mes en Enero. Excelente rendimiento.\",\n",
    "        \"Ascendido a gerente en 2023, gran potencial.\",\n",
    "        \"Rendimiento promedio, mejorar puntualidad.\",\n",
    "        \"Empleado destacado. Reconocimiento en Febrero.\",\n",
    "        \"Sin comentarios adicionales.\"\n",
    "    ]\n",
    "}\n",
    "df = pd.DataFrame(data)\n",
    "\n",
    "# Pipeline de procesamiento para transformar datos no estructurados\n",
    "df = (\n",
    "    df\n",
    "    .assign(\n",
    "        # Convertir texto a minúsculas\n",
    "        Comentarios=lambda x: x['Comentarios'].str.lower(),\n",
    "\n",
    "        # Extraer palabras clave como \"empleado del mes\" o \"ascendido\"\n",
    "        Es_Empleado_Mes=lambda x: x['Comentarios'].str.contains(\"empleado del mes\"),\n",
    "        Es_Ascendido=lambda x: x['Comentarios'].str.contains(\"ascendido\"),\n",
    "\n",
    "        # Clasificar el rendimiento basado en palabras clave\n",
    "        Rendimiento=lambda x: x['Comentarios'].apply(\n",
    "            lambda comentario: \"Excelente\" if \"excelente\" in comentario else\n",
    "                               \"Bueno\" if \"destacado\" in comentario else\n",
    "                               \"Promedio\" if \"promedio\" in comentario else\n",
    "                               \"Sin información\"\n",
    "        )\n",
    "    )\n",
    "\n",
    "    # Eliminar la columna de comentarios originales si no es necesaria\n",
    "    .drop(columns=['Comentarios'])\n",
    ")\n",
    "\n",
    "print(df)"
   ]
  },
  {
   "cell_type": "markdown",
   "id": "6f0e382d-f588-4e1c-8885-c1a250224d0c",
   "metadata": {
    "id": "6f0e382d-f588-4e1c-8885-c1a250224d0c"
   },
   "source": [
    "## 2.2 Serie Pandas y DataFrames\n",
    "\n",
    "### Series Pandas"
   ]
  },
  {
   "cell_type": "code",
   "execution_count": null,
   "id": "43c2f4bb-cff5-4cf4-9a13-0f8ccea6934a",
   "metadata": {
    "id": "43c2f4bb-cff5-4cf4-9a13-0f8ccea6934a"
   },
   "outputs": [],
   "source": [
    "# En un ambiente de análisis de datos/IA es necesario importar también numpy\n",
    "\n",
    "import numpy as np\n",
    "import pandas as pd"
   ]
  },
  {
   "cell_type": "code",
   "execution_count": null,
   "id": "1c874a22-371a-4dd2-b89f-e1e9b1c4f9c2",
   "metadata": {
    "id": "1c874a22-371a-4dd2-b89f-e1e9b1c4f9c2",
    "outputId": "7c1ce21e-3d46-4fe7-bb22-d468657100e5"
   },
   "outputs": [
    {
     "data": {
      "text/plain": [
       "0      Male\n",
       "1    Female\n",
       "2      Male\n",
       "3      Male\n",
       "4    Female\n",
       "5    Female\n",
       "6    Female\n",
       "dtype: object"
      ]
     },
     "execution_count": 16,
     "metadata": {},
     "output_type": "execute_result"
    }
   ],
   "source": [
    "# Pandas puede soportar trabajar con listas y convertirla a series\n",
    "pd.Series(['Male', 'Female', 'Male', 'Male', 'Female', 'Female', 'Female'])"
   ]
  },
  {
   "cell_type": "code",
   "execution_count": null,
   "id": "fe81a189-ee0f-4f2c-9825-510ccb2cd9fc",
   "metadata": {
    "id": "fe81a189-ee0f-4f2c-9825-510ccb2cd9fc",
    "outputId": "4ad9f2a0-137d-4c20-f1fa-b4487ac73106"
   },
   "outputs": [
    {
     "data": {
      "text/plain": [
       "0      Male\n",
       "1    Female\n",
       "2      Male\n",
       "3      Male\n",
       "4    Female\n",
       "5    Female\n",
       "6    Female\n",
       "dtype: object"
      ]
     },
     "execution_count": 17,
     "metadata": {},
     "output_type": "execute_result"
    }
   ],
   "source": [
    "# También, Pandas soporta trabajar con ndarrays y convertirla a series\n",
    "pd.Series(np.array(['Male', 'Female', 'Male', 'Male', 'Female', 'Female', 'Female']))"
   ]
  },
  {
   "cell_type": "code",
   "execution_count": null,
   "id": "f5b30591-6845-4295-aad0-1dfbc538a224",
   "metadata": {
    "id": "f5b30591-6845-4295-aad0-1dfbc538a224",
    "outputId": "1e1b64d5-6546-42b7-9986-078c0cbe1d14"
   },
   "outputs": [
    {
     "data": {
      "text/plain": [
       "pandas.core.series.Series"
      ]
     },
     "execution_count": 18,
     "metadata": {},
     "output_type": "execute_result"
    }
   ],
   "source": [
    "# Podemos verificar el tipo de dato que es una serie de esta forma\n",
    "ser=pd.Series(np.array(['Male', 'Female', 'Male', 'Male', 'Female', 'Female', 'Female']))\n",
    "type(ser)"
   ]
  },
  {
   "cell_type": "code",
   "execution_count": null,
   "id": "ecb00e5b-cc15-4dbb-a979-d1f4235e0a32",
   "metadata": {
    "id": "ecb00e5b-cc15-4dbb-a979-d1f4235e0a32",
    "outputId": "0f59c893-f4b6-41c0-b600-23447083a21b"
   },
   "outputs": [
    {
     "name": "stdout",
     "output_type": "stream",
     "text": [
      "a    1\n",
      "b    2\n",
      "c    3\n",
      "dtype: int64\n"
     ]
    },
    {
     "data": {
      "text/plain": [
       "pandas.core.series.Series"
      ]
     },
     "execution_count": 19,
     "metadata": {},
     "output_type": "execute_result"
    }
   ],
   "source": [
    "# También se presentarán casos en donde tenemos diccionarios y podemos convertirlo a series\n",
    "dict_data={'a':1, 'b':2, 'c':3}\n",
    "\n",
    "ser1=pd.Series(dict_data)\n",
    "print(ser1)\n",
    "type(ser1)"
   ]
  },
  {
   "cell_type": "code",
   "execution_count": null,
   "id": "0ac64f49-420c-4d04-a2c7-6ad56be6c1b8",
   "metadata": {
    "id": "0ac64f49-420c-4d04-a2c7-6ad56be6c1b8",
    "outputId": "fe8e029b-a7ae-48a2-a794-47b68a7fa2b5"
   },
   "outputs": [
    {
     "name": "stdout",
     "output_type": "stream",
     "text": [
      "Index(['a', 'b', 'c'], dtype='object')\n",
      "[1 2 3]\n"
     ]
    }
   ],
   "source": [
    "# Cuando tenemos una Serie, nos van a importar dos características: índice y valores\n",
    "\n",
    "print(ser1.index)\n",
    "print(ser1.values)"
   ]
  },
  {
   "cell_type": "code",
   "execution_count": null,
   "id": "e473bc51-db1d-4f66-946f-f21dbf56dfbe",
   "metadata": {
    "id": "e473bc51-db1d-4f66-946f-f21dbf56dfbe",
    "outputId": "0125722e-e56f-45f3-8262-2acf33d7743c"
   },
   "outputs": [
    {
     "name": "stdout",
     "output_type": "stream",
     "text": [
      "0    2019-01-02\n",
      "1          3.14\n",
      "2           ABC\n",
      "3           100\n",
      "4          True\n",
      "dtype: object\n",
      "RangeIndex(start=0, stop=5, step=1)\n"
     ]
    }
   ],
   "source": [
    "# Pandas tiene la capacidad de trabajar con datos no homogéneos (por lo que hay que tener cuidado en aplicaciones reales)\n",
    "\n",
    "list_data=['2019-01-02', 3.14, 'ABC', 100, True]\n",
    "ser2=pd.Series(list_data)\n",
    "print(ser2)\n",
    "print(ser2.index) # Si no se tiene un índice explícito, Pandas generará un rango (RangeIndex) por defecto"
   ]
  },
  {
   "cell_type": "code",
   "execution_count": null,
   "id": "79e94083-dd4f-4c86-b22d-a234579b3664",
   "metadata": {
    "id": "79e94083-dd4f-4c86-b22d-a234579b3664",
    "outputId": "9a20b59b-f061-4df9-afff-36cf71aa4d4a"
   },
   "outputs": [
    {
     "name": "stdout",
     "output_type": "stream",
     "text": [
      "Brown    220\n",
      "Blue     215\n",
      "Blue      93\n",
      "Hazel     64\n",
      "Green     64\n",
      "dtype: int64\n"
     ]
    }
   ],
   "source": [
    "# Se puede crear una Serie utilizando listas de valores y especificando los índices\n",
    "\n",
    "valores =[220, 215, 93, 64, 64]\n",
    "eye =pd.Series(data=valores, index=['Brown', 'Blue', 'Blue', 'Hazel', 'Green'])\n",
    "\n",
    "print(eye)"
   ]
  },
  {
   "cell_type": "markdown",
   "id": "90c09e78-0600-49f3-87d8-10d640806341",
   "metadata": {
    "id": "90c09e78-0600-49f3-87d8-10d640806341"
   },
   "source": [
    "### Elementos y propiedades de las Series"
   ]
  },
  {
   "cell_type": "code",
   "execution_count": null,
   "id": "c6238dfa-79ec-41f3-a9e5-83d130b6e104",
   "metadata": {
    "id": "c6238dfa-79ec-41f3-a9e5-83d130b6e104",
    "outputId": "638d73d8-79f1-47bf-c95f-74671a8f2b6b"
   },
   "outputs": [
    {
     "name": "stdout",
     "output_type": "stream",
     "text": [
      "Nombre original:  None\n",
      "Nombre cambiado:  eye_color\n"
     ]
    }
   ],
   "source": [
    "eye=pd.Series({'Brown':220, 'Blue':215, 'Hazel':93, 'Green':64})\n",
    "\n",
    "# Podemos ponerle un nombre a una serie, esto nos ayudará para cuando queramos concatenar una serie en una base de datos\n",
    "\n",
    "print(\"Nombre original: \",eye.name)\n",
    "\n",
    "eye.name=\"eye_color\"\n",
    "\n",
    "print(\"Nombre cambiado: \",eye.name)"
   ]
  },
  {
   "cell_type": "code",
   "execution_count": null,
   "id": "96754be3-5793-474f-a82a-fd0a93184032",
   "metadata": {
    "id": "96754be3-5793-474f-a82a-fd0a93184032",
    "outputId": "a69b401d-0486-4b82-c41b-294c82ad57d5"
   },
   "outputs": [
    {
     "name": "stdout",
     "output_type": "stream",
     "text": [
      "Brown              220.0\n",
      "Blue               215.0\n",
      "Hazel               93.0\n",
      "Green               64.0\n",
      "Canelita Pasion      NaN\n",
      "dtype: float64\n",
      "Green               64.0\n",
      "Hazel               93.0\n",
      "Blue               215.0\n",
      "Brown              220.0\n",
      "Canelita Pasion      NaN\n",
      "dtype: float64\n",
      "Canelita Pasion      NaN\n",
      "Brown              220.0\n",
      "Blue               215.0\n",
      "Hazel               93.0\n",
      "Green               64.0\n",
      "dtype: float64\n"
     ]
    }
   ],
   "source": [
    "# Podemos acomodar la serie por valores\n",
    "eye=pd.Series({'Brown':220, 'Blue':215, 'Hazel':93, 'Green':64, 'Canelita Pasion':None})\n",
    "\n",
    "print(eye)\n",
    "print(eye.sort_values())\n",
    "print(eye.sort_values(ascending=False,na_position=\"first\"))"
   ]
  },
  {
   "cell_type": "code",
   "execution_count": null,
   "id": "20bd2bfd-cd37-4fbd-9640-d70d2d675e4b",
   "metadata": {
    "id": "20bd2bfd-cd37-4fbd-9640-d70d2d675e4b",
    "outputId": "2f100eef-908f-45cb-e49e-8f9d818d2050"
   },
   "outputs": [
    {
     "name": "stdout",
     "output_type": "stream",
     "text": [
      "Brown    220\n",
      "Blue     215\n",
      "Hazel     93\n",
      "Green     64\n",
      "dtype: int64\n",
      "Blue     215\n",
      "Brown    220\n",
      "Green     64\n",
      "Hazel     93\n",
      "dtype: int64\n",
      "Hazel     93\n",
      "Green     64\n",
      "Brown    220\n",
      "Blue     215\n",
      "dtype: int64\n"
     ]
    }
   ],
   "source": [
    "# Podemos acomodar la serie por índices\n",
    "eye=pd.Series({'Brown':220, 'Blue':215, 'Hazel':93, 'Green':64})\n",
    "\n",
    "print(eye)\n",
    "print(eye.sort_index())\n",
    "print(eye.sort_index(ascending=False,na_position=\"first\"))"
   ]
  },
  {
   "cell_type": "code",
   "execution_count": null,
   "id": "a4572a52-b1a0-4183-b024-2b2eb5f6c67c",
   "metadata": {
    "id": "a4572a52-b1a0-4183-b024-2b2eb5f6c67c",
    "outputId": "036ac357-5bc6-41f7-a0fc-b66d509e3212"
   },
   "outputs": [
    {
     "name": "stdout",
     "output_type": "stream",
     "text": [
      "Valores únicos:  [220 215  93  64] \n",
      "\n",
      "Número de valores únicos:  4 \n",
      "\n",
      "Contar el total de apariciones:\n",
      " 220    2\n",
      "215    1\n",
      "93     1\n",
      "64     1\n",
      "Name: count, dtype: int64\n"
     ]
    }
   ],
   "source": [
    "# Podemos obtener información de los valores únicos en la serie y el número de valores únicos\n",
    "\n",
    "eye=pd.Series({'Brown':220, 'Blue':215, 'Hazel':93, 'Green':64, 'Canelita Pasion':220})\n",
    "\n",
    "print(\"Valores únicos: \",eye.unique(),\"\\n\")\n",
    "print(\"Número de valores únicos: \",eye.nunique(),\"\\n\")\n",
    "print(\"Contar el total de apariciones:\\n\",eye.value_counts())"
   ]
  },
  {
   "cell_type": "code",
   "execution_count": null,
   "id": "9e9dc155-89de-416d-8d47-bb3476bacbbb",
   "metadata": {
    "id": "9e9dc155-89de-416d-8d47-bb3476bacbbb",
    "outputId": "c40deac6-0f09-48e0-b450-e717941983f2"
   },
   "outputs": [
    {
     "name": "stdout",
     "output_type": "stream",
     "text": [
      "Accediendo a valores específicos:  30 30 \n",
      "\n",
      "Accediendo a rangos específicos:\n",
      " b    10\n",
      "c    20\n",
      "dtype: int64\n"
     ]
    }
   ],
   "source": [
    "# Podemos acceder a valores de una serie con la posición o con el índice\n",
    "ser=pd.Series([0,10,20,30,40], index=['a','b','c','d','e'])\n",
    "\n",
    "print(\"Accediendo a valores específicos: \",ser[3],ser['d'],'\\n')\n",
    "\n",
    "# También podemos acceder a porciones de la serie utilizando rangos\n",
    "print(\"Accediendo a rangos específicos:\\n\",ser[1:3])"
   ]
  },
  {
   "cell_type": "markdown",
   "id": "800d00bb-d3c2-4681-880b-36ff2b21a87c",
   "metadata": {
    "id": "800d00bb-d3c2-4681-880b-36ff2b21a87c"
   },
   "source": [
    "### Operaciones con series"
   ]
  },
  {
   "cell_type": "code",
   "execution_count": null,
   "id": "cddbcbcc-c69f-47d9-a862-3f7ac3e589db",
   "metadata": {
    "id": "cddbcbcc-c69f-47d9-a862-3f7ac3e589db",
    "outputId": "9c399af4-007c-4f7e-ea08-d1f2c9e8c20f"
   },
   "outputs": [
    {
     "name": "stdout",
     "output_type": "stream",
     "text": [
      "0    0\n",
      "1    1\n",
      "2    2\n",
      "3    3\n",
      "4    4\n",
      "dtype: int64\n",
      "4    0\n",
      "3    1\n",
      "2    2\n",
      "1    3\n",
      "0    4\n",
      "dtype: int64\n"
     ]
    }
   ],
   "source": [
    "ser1=pd.Series([0,1,2,3,4], index=[0,1,2,3,4])\n",
    "ser2=pd.Series([0,1,2,3,4], index=[4,3,2,1,0])\n",
    "print(ser1)\n",
    "print(ser2)"
   ]
  },
  {
   "cell_type": "code",
   "execution_count": null,
   "id": "fa2bd04b-cb82-4a2b-98e7-7fe40a512d74",
   "metadata": {
    "id": "fa2bd04b-cb82-4a2b-98e7-7fe40a512d74",
    "outputId": "f6e3f87a-d05a-47db-d171-a968ff130f99"
   },
   "outputs": [
    {
     "name": "stdout",
     "output_type": "stream",
     "text": [
      "Suma de series: \n",
      " 0    4\n",
      "1    4\n",
      "2    4\n",
      "3    4\n",
      "4    4\n",
      "dtype: int64 \n",
      "\n",
      "Mult de series: \n",
      " 0    0\n",
      "1    3\n",
      "2    4\n",
      "3    3\n",
      "4    0\n",
      "dtype: int64 \n",
      "\n",
      "Div de series: \n",
      " 0    0.000000\n",
      "1    0.333333\n",
      "2    1.000000\n",
      "3    3.000000\n",
      "4         inf\n",
      "dtype: float64\n"
     ]
    }
   ],
   "source": [
    "# Operaciones con operadores matemáticos\n",
    "\n",
    "print(\"Suma de series: \\n\",ser1+ser2,\"\\n\")\n",
    "print(\"Mult de series: \\n\",ser1*ser2,\"\\n\")\n",
    "print(\"Div de series: \\n\",ser1/ser2)"
   ]
  },
  {
   "cell_type": "code",
   "execution_count": null,
   "id": "c9ea9728-44ea-40d6-a2fa-9cd87cccfdf0",
   "metadata": {
    "id": "c9ea9728-44ea-40d6-a2fa-9cd87cccfdf0",
    "outputId": "96f13ac7-cafc-4990-e90e-79363fe853f4"
   },
   "outputs": [
    {
     "name": "stdout",
     "output_type": "stream",
     "text": [
      "Suma:  10\n",
      "\n",
      "Promedio:  2.0\n",
      "\n",
      "Mediana:  2.0\n",
      "\n",
      "Min, Max:  0 4\n",
      "\n",
      "Desviación Estándar:  1.5811388300841898\n"
     ]
    }
   ],
   "source": [
    "# Operaciones con funciones\n",
    "\n",
    "print(\"Suma: \",ser1.sum())\n",
    "print(\"\\nPromedio: \",ser1.mean())\n",
    "print(\"\\nMediana: \",ser1.median())\n",
    "print(\"\\nMin, Max: \",ser1.min(),ser1.max())\n",
    "print(\"\\nDesviación Estándar: \",ser1.std())"
   ]
  },
  {
   "cell_type": "code",
   "execution_count": null,
   "id": "7589ec35-d604-42d8-a183-cc6856b70d03",
   "metadata": {
    "id": "7589ec35-d604-42d8-a183-cc6856b70d03",
    "outputId": "c5dbc1fc-9d3a-4d48-fc4e-361ca2be792e"
   },
   "outputs": [
    {
     "name": "stdout",
     "output_type": "stream",
     "text": [
      "0    160\n",
      "1    170\n",
      "2    180\n",
      "Name: height, dtype: int64\n"
     ]
    },
    {
     "data": {
      "text/plain": [
       "0    170\n",
       "1    180\n",
       "2    190\n",
       "Name: height, dtype: int64"
      ]
     },
     "execution_count": 89,
     "metadata": {},
     "output_type": "execute_result"
    }
   ],
   "source": [
    "# Podemos utilizar la función apply y la función lambda para aplicar un procesamiento a toda la serie\n",
    "\n",
    "ser_height=pd.Series([160,170,180],name='height')\n",
    "print(ser_height)\n",
    "\n",
    "plus_10=lambda x:x+10\n",
    "ser_height.apply(lambda x:x+10)"
   ]
  },
  {
   "cell_type": "markdown",
   "id": "f7ee3436-3254-4dbe-bd41-a33c59770927",
   "metadata": {
    "id": "f7ee3436-3254-4dbe-bd41-a33c59770927"
   },
   "source": [
    "## DataFrames"
   ]
  },
  {
   "cell_type": "code",
   "execution_count": null,
   "id": "672466b9-8f84-4666-a34e-c366c51d9ffc",
   "metadata": {
    "id": "672466b9-8f84-4666-a34e-c366c51d9ffc",
    "outputId": "4159f1ab-2727-4b6c-c961-b5a28fa45c65"
   },
   "outputs": [
    {
     "data": {
      "text/html": [
       "<div>\n",
       "<style scoped>\n",
       "    .dataframe tbody tr th:only-of-type {\n",
       "        vertical-align: middle;\n",
       "    }\n",
       "\n",
       "    .dataframe tbody tr th {\n",
       "        vertical-align: top;\n",
       "    }\n",
       "\n",
       "    .dataframe thead th {\n",
       "        text-align: right;\n",
       "    }\n",
       "</style>\n",
       "<table border=\"1\" class=\"dataframe\">\n",
       "  <thead>\n",
       "    <tr style=\"text-align: right;\">\n",
       "      <th></th>\n",
       "      <th>Name</th>\n",
       "      <th>Age</th>\n",
       "      <th>Sex</th>\n",
       "    </tr>\n",
       "  </thead>\n",
       "  <tbody>\n",
       "    <tr>\n",
       "      <th>0</th>\n",
       "      <td>Braund, Mr, Owen Harries</td>\n",
       "      <td>22</td>\n",
       "      <td>male</td>\n",
       "    </tr>\n",
       "    <tr>\n",
       "      <th>1</th>\n",
       "      <td>Allen, Mr. William Henry</td>\n",
       "      <td>35</td>\n",
       "      <td>make</td>\n",
       "    </tr>\n",
       "    <tr>\n",
       "      <th>2</th>\n",
       "      <td>Bonnel, Miss. Elizabeth</td>\n",
       "      <td>58</td>\n",
       "      <td>female</td>\n",
       "    </tr>\n",
       "  </tbody>\n",
       "</table>\n",
       "</div>"
      ],
      "text/plain": [
       "                       Name  Age     Sex\n",
       "0  Braund, Mr, Owen Harries   22    male\n",
       "1  Allen, Mr. William Henry   35    make\n",
       "2   Bonnel, Miss. Elizabeth   58  female"
      ]
     },
     "execution_count": 28,
     "metadata": {},
     "output_type": "execute_result"
    }
   ],
   "source": [
    "# Un dataframe se crea de series\n",
    "\n",
    "df = pd.DataFrame({\"Name\": [\"Braund, Mr, Owen Harries\",\n",
    "                       \"Allen, Mr. William Henry\",\n",
    "                       \"Bonnel, Miss. Elizabeth\"],\n",
    "              \"Age\": [22, 35, 58],\n",
    "              \"Sex\": [\"male\", \"male\", \"female\"]})\n",
    "df"
   ]
  },
  {
   "cell_type": "code",
   "execution_count": null,
   "id": "97109d73-a79c-423b-88aa-b3cfcd9efe74",
   "metadata": {
    "id": "97109d73-a79c-423b-88aa-b3cfcd9efe74",
    "outputId": "de53d43b-cfd0-4fba-8fdd-ae16a41df85d"
   },
   "outputs": [
    {
     "name": "stdout",
     "output_type": "stream",
     "text": [
      "0    22\n",
      "1    35\n",
      "2    58\n",
      "Name: Age, dtype: int64\n",
      "22\n",
      "<class 'pandas.core.series.Series'> <class 'numpy.int64'>\n"
     ]
    }
   ],
   "source": [
    "print(df['Age'])     # Accediendo a una serie/característica\n",
    "print(df['Age'][0])  # Accediendo a un dato en específico\n",
    "\n",
    "print(type(df['Age']),type(df['Age'][0]))"
   ]
  },
  {
   "cell_type": "code",
   "execution_count": null,
   "id": "be03cab7-aee2-4647-b0fe-27f7e7eedbd7",
   "metadata": {
    "id": "be03cab7-aee2-4647-b0fe-27f7e7eedbd7",
    "outputId": "d05dd1a4-a132-4df2-cf3f-06f3d4e5386c"
   },
   "outputs": [
    {
     "data": {
      "text/html": [
       "<div>\n",
       "<style scoped>\n",
       "    .dataframe tbody tr th:only-of-type {\n",
       "        vertical-align: middle;\n",
       "    }\n",
       "\n",
       "    .dataframe tbody tr th {\n",
       "        vertical-align: top;\n",
       "    }\n",
       "\n",
       "    .dataframe thead th {\n",
       "        text-align: right;\n",
       "    }\n",
       "</style>\n",
       "<table border=\"1\" class=\"dataframe\">\n",
       "  <thead>\n",
       "    <tr style=\"text-align: right;\">\n",
       "      <th></th>\n",
       "      <th>0</th>\n",
       "      <th>1</th>\n",
       "      <th>2</th>\n",
       "    </tr>\n",
       "  </thead>\n",
       "  <tbody>\n",
       "    <tr>\n",
       "      <th>0</th>\n",
       "      <td>1</td>\n",
       "      <td>2</td>\n",
       "      <td>3</td>\n",
       "    </tr>\n",
       "    <tr>\n",
       "      <th>1</th>\n",
       "      <td>4</td>\n",
       "      <td>5</td>\n",
       "      <td>6</td>\n",
       "    </tr>\n",
       "    <tr>\n",
       "      <th>2</th>\n",
       "      <td>7</td>\n",
       "      <td>8</td>\n",
       "      <td>0</td>\n",
       "    </tr>\n",
       "  </tbody>\n",
       "</table>\n",
       "</div>"
      ],
      "text/plain": [
       "   0  1  2\n",
       "0  1  2  3\n",
       "1  4  5  6\n",
       "2  7  8  0"
      ]
     },
     "execution_count": 33,
     "metadata": {},
     "output_type": "execute_result"
    }
   ],
   "source": [
    "# Dataframe con datos numéricos (similar a una matriz de numpy)\n",
    "\n",
    "df = pd.DataFrame([[1,2,3],[4,5,6],[7,8,0]])\n",
    "\n",
    "df #df[0]"
   ]
  },
  {
   "cell_type": "markdown",
   "id": "6b7a4ae5-5311-498d-bbb3-5c6955698a13",
   "metadata": {
    "id": "6b7a4ae5-5311-498d-bbb3-5c6955698a13"
   },
   "source": [
    "### Inspección de un DataFrame"
   ]
  },
  {
   "cell_type": "code",
   "execution_count": null,
   "id": "875d9880-1aa3-4d63-891b-9fdb61fe6126",
   "metadata": {
    "id": "875d9880-1aa3-4d63-891b-9fdb61fe6126",
    "outputId": "3ea5bd11-bfc1-417e-9964-8d4bff074794"
   },
   "outputs": [
    {
     "name": "stdout",
     "output_type": "stream",
     "text": [
      "                       Name  Age   Sex\n",
      "0  Braund, Mr, Owen Harries   22  male\n",
      "1  Allen, Mr. William Henry   35  male \n",
      "\n",
      "<class 'pandas.core.frame.DataFrame'>\n",
      "RangeIndex: 3 entries, 0 to 2\n",
      "Data columns (total 3 columns):\n",
      " #   Column  Non-Null Count  Dtype \n",
      "---  ------  --------------  ----- \n",
      " 0   Name    3 non-null      object\n",
      " 1   Age     3 non-null      int64 \n",
      " 2   Sex     3 non-null      object\n",
      "dtypes: int64(1), object(2)\n",
      "memory usage: 200.0+ bytes\n",
      "None \n",
      "\n",
      "             Age\n",
      "count   3.000000\n",
      "mean   38.333333\n",
      "std    18.230012\n",
      "min    22.000000\n",
      "25%    28.500000\n",
      "50%    35.000000\n",
      "75%    46.500000\n",
      "max    58.000000\n"
     ]
    }
   ],
   "source": [
    "df = pd.DataFrame({\"Name\": [\"Braund, Mr, Owen Harries\",\n",
    "                       \"Allen, Mr. William Henry\",\n",
    "                       \"Bonnel, Miss. Elizabeth\"],\n",
    "              \"Age\": [22, 35, 58],\n",
    "              \"Sex\": [\"male\", \"male\", \"female\"]})\n",
    "\n",
    "# Podemos acceder a las primeras filas del dataframe\n",
    "print(df.head(2),\"\\n\")\n",
    "\n",
    "# También es posible mostrar información general del DataFrame\n",
    "print(df.info(),\"\\n\")\n",
    "\n",
    "# Resumen estadístico de las columnas numéricas\n",
    "print(df.describe())"
   ]
  },
  {
   "cell_type": "markdown",
   "id": "cafdf8d7-5a18-4425-bbfd-631a85dedd8c",
   "metadata": {
    "id": "cafdf8d7-5a18-4425-bbfd-631a85dedd8c"
   },
   "source": [
    "### Selección y filtrado básico de datos"
   ]
  },
  {
   "cell_type": "code",
   "execution_count": null,
   "id": "ff31f11f-768b-4aba-b775-ec8580ea5799",
   "metadata": {
    "id": "ff31f11f-768b-4aba-b775-ec8580ea5799",
    "outputId": "e1eba695-1afe-455f-f80a-28bb1e5b7a42"
   },
   "outputs": [
    {
     "name": "stdout",
     "output_type": "stream",
     "text": [
      "a    23\n",
      "b    25\n",
      "c    30\n",
      "Name: Edad, dtype: int64 \n",
      "\n",
      "   Nombre     Ciudad\n",
      "a     Ana     Madrid\n",
      "b    Luis  Barcelona\n",
      "c  Carlos   Valencia \n",
      "\n",
      "Nombre       Ana\n",
      "Edad          23\n",
      "Ciudad    Madrid\n",
      "Name: a, dtype: object \n",
      "\n",
      "Nombre         Luis\n",
      "Edad             25\n",
      "Ciudad    Barcelona\n",
      "Name: b, dtype: object \n",
      "\n",
      "  Nombre  Edad     Ciudad\n",
      "a    Ana    23     Madrid\n",
      "b   Luis    25  Barcelona \n",
      "\n",
      "   Nombre  Edad     Ciudad\n",
      "b    Luis    25  Barcelona\n",
      "c  Carlos    30   Valencia\n"
     ]
    }
   ],
   "source": [
    "data = {\n",
    "    'Nombre': ['Ana', 'Luis', 'Carlos'],\n",
    "    'Edad': [23, 25, 30],\n",
    "    'Ciudad': ['Madrid', 'Barcelona', 'Valencia']\n",
    "}\n",
    "df = pd.DataFrame(data,index=['a','b','c'])\n",
    "\n",
    "# Seleccionar una columna (como Serie)\n",
    "print(df['Edad'],\"\\n\")\n",
    "\n",
    "# Seleccionar múltiples columnas\n",
    "print(df[['Nombre', 'Ciudad']],\"\\n\")\n",
    "\n",
    "# Seleccionar filas por índice (iloc) o por etiquetas (loc)\n",
    "print(df.iloc[0],\"\\n\")  # Primera fila\n",
    "print(df.loc['b'],\"\\n\")   # Primera fila\n",
    "print(df.iloc[:2],\"\\n\") # Primeras dos filas\n",
    "print(df[df['Edad'] > 24])  # Filtrar filas según una condición"
   ]
  },
  {
   "cell_type": "markdown",
   "id": "be865eab-a766-411e-a058-04d9d8abb0d0",
   "metadata": {
    "id": "be865eab-a766-411e-a058-04d9d8abb0d0"
   },
   "source": [
    "### Añadir y modificar datos"
   ]
  },
  {
   "cell_type": "code",
   "execution_count": null,
   "id": "8ca3c43c-1809-4224-b864-4d8b7b8e3bb7",
   "metadata": {
    "id": "8ca3c43c-1809-4224-b864-4d8b7b8e3bb7",
    "outputId": "95b715d3-a77b-4590-a0f8-5168b3f7fa4f"
   },
   "outputs": [
    {
     "name": "stdout",
     "output_type": "stream",
     "text": [
      "   Nombre  Edad     Ciudad  Salario\n",
      "a     Ana    24     Madrid    50000\n",
      "b    Luis    26  Barcelona    55000\n",
      "c  Carlos    31   Valencia    60000\n"
     ]
    }
   ],
   "source": [
    "# Añadir una nueva columna\n",
    "df['Salario'] = [50000, 55000, 60000]\n",
    "\n",
    "# Modificar una columna existente\n",
    "df['Edad'] = df['Edad'] + 1\n",
    "print(df)"
   ]
  },
  {
   "cell_type": "markdown",
   "id": "89113241-a38b-40ce-81a2-3d0b846cc48a",
   "metadata": {
    "id": "89113241-a38b-40ce-81a2-3d0b846cc48a"
   },
   "source": [
    "### Eliminar datos por columnas o filas"
   ]
  },
  {
   "cell_type": "code",
   "execution_count": null,
   "id": "35a5a7a8-e4fc-49b0-adfb-36b71f6e3838",
   "metadata": {
    "id": "35a5a7a8-e4fc-49b0-adfb-36b71f6e3838",
    "outputId": "e16daac7-6d1e-47df-db7f-c1e65ff26db5"
   },
   "outputs": [
    {
     "name": "stdout",
     "output_type": "stream",
     "text": [
      "   Nombre  Edad     Ciudad  Salario\n",
      "a     Ana    24     Madrid    50000\n",
      "b    Luis    26  Barcelona    55000\n",
      "c  Carlos    31   Valencia    60000 \n",
      "\n",
      "   Nombre  Edad     Ciudad\n",
      "a     Ana    24     Madrid\n",
      "b    Luis    26  Barcelona\n",
      "c  Carlos    31   Valencia \n",
      "\n",
      "  Nombre  Edad     Ciudad\n",
      "a    Ana    24     Madrid\n",
      "b   Luis    26  Barcelona\n"
     ]
    }
   ],
   "source": [
    "# Eliminar una columna\n",
    "\n",
    "df2 = df.copy()\n",
    "print(df2,\"\\n\")\n",
    "df2 = df.drop(columns=['Salario'])\n",
    "print(df2,\"\\n\")\n",
    "# Eliminar una fila\n",
    "df2 = df2.drop(index='c')  # Elimina la fila con índice 1 (segunda fila)\n",
    "print(df2)"
   ]
  },
  {
   "cell_type": "markdown",
   "id": "9f383032-b0e3-4694-975d-37b77aef7fe0",
   "metadata": {
    "id": "9f383032-b0e3-4694-975d-37b77aef7fe0"
   },
   "source": [
    "### Operaciones de agrupamiento y agregación"
   ]
  },
  {
   "cell_type": "code",
   "execution_count": null,
   "id": "01075ee4-7d7d-48ff-8043-d91e94b5c326",
   "metadata": {
    "id": "01075ee4-7d7d-48ff-8043-d91e94b5c326",
    "outputId": "cc674977-debb-4ec7-d3ab-21bd829dc4f1"
   },
   "outputs": [
    {
     "name": "stdout",
     "output_type": "stream",
     "text": [
      "        Edad  Salario\n",
      "Nombre               \n",
      "Ana     22.5  51000.0\n",
      "Carlos  30.0  60000.0\n",
      "Luis    25.0  55000.0\n"
     ]
    }
   ],
   "source": [
    "# Agrupar datos por una columna y calcular la media\n",
    "data = {\n",
    "    'Nombre': ['Ana', 'Luis', 'Carlos', 'Ana'],\n",
    "    'Edad': [23, 25, 30, 22],\n",
    "    'Salario': [50000, 55000, 60000, 52000]\n",
    "}\n",
    "df = pd.DataFrame(data)\n",
    "\n",
    "# Agrupar por nombre y calcular el promedio de Edad y Salario\n",
    "print(df.groupby('Nombre').mean())"
   ]
  },
  {
   "cell_type": "markdown",
   "id": "ac235122-d0e6-4668-a25d-9c77c63e4a75",
   "metadata": {
    "id": "ac235122-d0e6-4668-a25d-9c77c63e4a75"
   },
   "source": [
    "### Fusionar (merging) y unir DF"
   ]
  },
  {
   "cell_type": "code",
   "execution_count": null,
   "id": "ea6d103b-7cb9-4466-a2c7-114ace7c330e",
   "metadata": {
    "id": "ea6d103b-7cb9-4466-a2c7-114ace7c330e",
    "outputId": "539e2818-2793-46a0-fecc-6acaed68e81b"
   },
   "outputs": [
    {
     "name": "stdout",
     "output_type": "stream",
     "text": [
      "DataFrame unido con merge:\n",
      "    ID Nombre  Salario\n",
      "0   1    Ana    50000\n",
      "1   2   Luis    55000\n",
      "\n",
      "Concatenación vertical con concat:\n",
      "    ID  Nombre  Salario\n",
      "0   1     Ana      NaN\n",
      "1   2    Luis      NaN\n",
      "2   3  Carlos      NaN\n",
      "3   1     NaN  50000.0\n",
      "4   2     NaN  55000.0\n",
      "5   4     NaN  60000.0\n",
      "\n",
      "Concatenación horizontal con concat:\n",
      "    ID  Nombre  ID  Salario\n",
      "0   1     Ana   1    50000\n",
      "1   2    Luis   2    55000\n",
      "2   3  Carlos   4    60000\n"
     ]
    }
   ],
   "source": [
    "# Crear dos DataFrames\n",
    "df1 = pd.DataFrame({'ID': [1, 2, 3], 'Nombre': ['Ana', 'Luis', 'Carlos']})\n",
    "df2 = pd.DataFrame({'ID': [1, 2, 4], 'Salario': [50000, 55000, 60000]})\n",
    "\n",
    "# Usar merge para unir DataFrames en base a la columna 'ID'\n",
    "df_merged = pd.merge(df1, df2, on='ID')\n",
    "print(\"DataFrame unido con merge:\\n\", df_merged)\n",
    "\n",
    "# Concatenación vertical (uno debajo del otro)\n",
    "# Ejemplo de cómo combinar DataFrames que tienen las mismas columnas\n",
    "df_concat_vertical = pd.concat([df1, df2], ignore_index=True)\n",
    "print(\"\\nConcatenación vertical con concat:\\n\", df_concat_vertical)\n",
    "\n",
    "# Concatenación horizontal (uno al lado del otro)\n",
    "# Combinar dos DataFrames con diferentes columnas\n",
    "df_concat_horizontal = pd.concat([df1, df2], axis=1)\n",
    "print(\"\\nConcatenación horizontal con concat:\\n\", df_concat_horizontal)"
   ]
  },
  {
   "cell_type": "markdown",
   "id": "10dcf91e-d8a5-4f6c-9e43-a4db8c94868a",
   "metadata": {
    "id": "10dcf91e-d8a5-4f6c-9e43-a4db8c94868a"
   },
   "source": [
    "### Funciones apply y operaciones en columna"
   ]
  },
  {
   "cell_type": "code",
   "execution_count": null,
   "id": "046f30d9-91cd-4b14-8010-39768d193ab0",
   "metadata": {
    "id": "046f30d9-91cd-4b14-8010-39768d193ab0",
    "outputId": "870fb9ab-1b9f-44d9-e25e-4405534e784b"
   },
   "outputs": [
    {
     "name": "stdout",
     "output_type": "stream",
     "text": [
      "   Nombre  Edad  Salario  Edad_cuadrado\n",
      "0     Ana    23    50000            529\n",
      "1    Luis    25    55000            625\n",
      "2  Carlos    30    60000            900\n",
      "3     Ana    22    52000            484 \n",
      "\n",
      "   Nombre  Edad  Salario  Edad_cuadrado  Edad_doble\n",
      "0     Ana    23    50000            529          46\n",
      "1    Luis    25    55000            625          50\n",
      "2  Carlos    30    60000            900          60\n",
      "3     Ana    22    52000            484          44\n"
     ]
    }
   ],
   "source": [
    "# Aplicar una función lambda para transformar una columna\n",
    "df['Edad_cuadrado'] = df['Edad'].apply(lambda x: x**2)\n",
    "print(df,'\\n')\n",
    "\n",
    "# Operaciones matemáticas directas\n",
    "df['Edad_doble'] = df['Edad'] * 2\n",
    "print(df)"
   ]
  },
  {
   "cell_type": "markdown",
   "id": "af705470-4b0b-4f52-afee-89a8c371a783",
   "metadata": {
    "id": "af705470-4b0b-4f52-afee-89a8c371a783"
   },
   "source": [
    "### Manejo de valores nulos"
   ]
  },
  {
   "cell_type": "code",
   "execution_count": null,
   "id": "985fb3f6-607c-44dd-ac5a-2071001f9346",
   "metadata": {
    "id": "985fb3f6-607c-44dd-ac5a-2071001f9346",
    "outputId": "5af56200-4b5a-4d86-e85a-caa15abcb5bc"
   },
   "outputs": [
    {
     "name": "stdout",
     "output_type": "stream",
     "text": [
      "   Nombre   Edad  Salario\n",
      "0   False  False    False\n",
      "1    True   True    False\n",
      "2   False  False     True \n",
      "\n",
      "        Nombre  Edad  Salario\n",
      "0          Ana  23.0  50000.0\n",
      "1  Desconocido  26.5  55000.0\n",
      "2       Carlos  30.0      NaN \n",
      "\n",
      "        Nombre  Edad  Salario\n",
      "0          Ana  23.0  50000.0\n",
      "1  Desconocido  26.5  55000.0\n"
     ]
    }
   ],
   "source": [
    "# Crear un DataFrame con valores nulos\n",
    "df = pd.DataFrame({\n",
    "    'Nombre': ['Ana', None, 'Carlos'],\n",
    "    'Edad': [23, None, 30],\n",
    "    'Salario': [50000, 55000, None]\n",
    "})\n",
    "\n",
    "# Detectar valores nulos\n",
    "print(df.isnull(),\"\\n\")\n",
    "\n",
    "# Rellenar valores nulos con un valor específico\n",
    "df = df.fillna({'Nombre': 'Desconocido', 'Edad': df['Edad'].mean()})\n",
    "print(df,\"\\n\")\n",
    "\n",
    "# Eliminar filas con valores nulos\n",
    "df = df.dropna()\n",
    "print(df)"
   ]
  },
  {
   "cell_type": "markdown",
   "id": "e7a50229-af87-4032-ac9a-ab330cc14551",
   "metadata": {
    "id": "e7a50229-af87-4032-ac9a-ab330cc14551"
   },
   "source": [
    "### Filtrado condicionado"
   ]
  },
  {
   "cell_type": "code",
   "execution_count": null,
   "id": "a6e2064b-24b0-4ee5-a9d9-ccfa8cf63808",
   "metadata": {
    "id": "a6e2064b-24b0-4ee5-a9d9-ccfa8cf63808",
    "outputId": "f11e1df4-5513-47a8-e0ee-1b81aa1a0655"
   },
   "outputs": [
    {
     "name": "stdout",
     "output_type": "stream",
     "text": [
      "   Nombre  Edad     Ciudad\n",
      "b    Luis    25  Barcelona\n",
      "c  Carlos    30   Valencia \n",
      "\n",
      "  Nombre  Edad  Ciudad\n",
      "a    Ana    23  Madrid\n"
     ]
    }
   ],
   "source": [
    "data = {\n",
    "    'Nombre': ['Ana', 'Luis', 'Carlos'],\n",
    "    'Edad': [23, 25, 30],\n",
    "    'Ciudad': ['Madrid', 'Barcelona', 'Valencia']\n",
    "}\n",
    "df = pd.DataFrame(data,index=['a','b','c'])\n",
    "\n",
    "# Seleccionar filas donde la 'Edad' es mayor de 24\n",
    "print(df[df['Edad'] > 24],'\\n')\n",
    "\n",
    "# Seleccionar filas donde la 'Ciudad' es 'Madrid'\n",
    "print(df[df['Ciudad'] == 'Madrid'])"
   ]
  },
  {
   "cell_type": "markdown",
   "id": "b21f4dc7-b81d-4a7b-9072-22db03082b57",
   "metadata": {
    "id": "b21f4dc7-b81d-4a7b-9072-22db03082b57"
   },
   "source": [
    "### Multi-indexing"
   ]
  },
  {
   "cell_type": "code",
   "execution_count": null,
   "id": "090f3b7f-b148-4d8d-9483-7c0aa6a6aa7a",
   "metadata": {
    "id": "090f3b7f-b148-4d8d-9483-7c0aa6a6aa7a",
    "outputId": "74ffab99-98a7-4089-9927-cebf8a2d8acd"
   },
   "outputs": [
    {
     "data": {
      "text/html": [
       "<div>\n",
       "<style scoped>\n",
       "    .dataframe tbody tr th:only-of-type {\n",
       "        vertical-align: middle;\n",
       "    }\n",
       "\n",
       "    .dataframe tbody tr th {\n",
       "        vertical-align: top;\n",
       "    }\n",
       "\n",
       "    .dataframe thead th {\n",
       "        text-align: right;\n",
       "    }\n",
       "</style>\n",
       "<table border=\"1\" class=\"dataframe\">\n",
       "  <thead>\n",
       "    <tr style=\"text-align: right;\">\n",
       "      <th></th>\n",
       "      <th></th>\n",
       "      <th>a</th>\n",
       "      <th>b</th>\n",
       "      <th>c</th>\n",
       "    </tr>\n",
       "  </thead>\n",
       "  <tbody>\n",
       "    <tr>\n",
       "      <th rowspan=\"3\" valign=\"top\">G1</th>\n",
       "      <th>1</th>\n",
       "      <td>2.256280</td>\n",
       "      <td>-0.349974</td>\n",
       "      <td>0.207661</td>\n",
       "    </tr>\n",
       "    <tr>\n",
       "      <th>2</th>\n",
       "      <td>1.637501</td>\n",
       "      <td>1.096154</td>\n",
       "      <td>0.313767</td>\n",
       "    </tr>\n",
       "    <tr>\n",
       "      <th>3</th>\n",
       "      <td>0.139829</td>\n",
       "      <td>-0.572065</td>\n",
       "      <td>0.877973</td>\n",
       "    </tr>\n",
       "    <tr>\n",
       "      <th rowspan=\"3\" valign=\"top\">G2</th>\n",
       "      <th>1</th>\n",
       "      <td>0.714631</td>\n",
       "      <td>-0.378125</td>\n",
       "      <td>0.866275</td>\n",
       "    </tr>\n",
       "    <tr>\n",
       "      <th>2</th>\n",
       "      <td>0.023009</td>\n",
       "      <td>0.359407</td>\n",
       "      <td>-1.172692</td>\n",
       "    </tr>\n",
       "    <tr>\n",
       "      <th>3</th>\n",
       "      <td>-0.199917</td>\n",
       "      <td>-0.756763</td>\n",
       "      <td>-0.824518</td>\n",
       "    </tr>\n",
       "  </tbody>\n",
       "</table>\n",
       "</div>"
      ],
      "text/plain": [
       "             a         b         c\n",
       "G1 1  2.256280 -0.349974  0.207661\n",
       "   2  1.637501  1.096154  0.313767\n",
       "   3  0.139829 -0.572065  0.877973\n",
       "G2 1  0.714631 -0.378125  0.866275\n",
       "   2  0.023009  0.359407 -1.172692\n",
       "   3 -0.199917 -0.756763 -0.824518"
      ]
     },
     "execution_count": 8,
     "metadata": {},
     "output_type": "execute_result"
    }
   ],
   "source": [
    "import numpy as np\n",
    "\n",
    "# Definir los nombres de las columnas\n",
    "my_header = ['a', 'b', 'c']\n",
    "\n",
    "# Crear la primera parte del índice (nivel superior) con dos grupos 'G1' y 'G2', cada uno con 3 elementos\n",
    "my_index_out = ['G1'] * 3 + ['G2'] * 3\n",
    "\n",
    "# Crear la segunda parte del índice (nivel inferior) con los números 1, 2 y 3, repetidos para cada grupo\n",
    "my_index_in = [1, 2, 3] * 2\n",
    "\n",
    "# Combinar ambos niveles en tuplas (por ejemplo: ('G1', 1), ('G1', 2), ...)\n",
    "my_index_zipped = list(zip(my_index_out, my_index_in))\n",
    "\n",
    "# Crear un MultiIndex a partir de las tuplas, para que el DataFrame tenga dos niveles de índice\n",
    "my_index = pd.MultiIndex.from_tuples(my_index_zipped)\n",
    "\n",
    "# Crear el DataFrame con datos aleatorios de 6 filas y 3 columnas, utilizando el índice jerárquico y las columnas definidas\n",
    "df = pd.DataFrame(data=np.random.randn(6, 3), index=my_index, columns=my_header)\n",
    "\n",
    "# Mostrar el DataFrame resultante\n",
    "df"
   ]
  },
  {
   "cell_type": "markdown",
   "id": "7e28a4c8-29e5-4aaa-9a3d-d219ed3381e9",
   "metadata": {
    "id": "7e28a4c8-29e5-4aaa-9a3d-d219ed3381e9"
   },
   "source": [
    "## Ejemplo práctico de uso de Pandas"
   ]
  },
  {
   "cell_type": "markdown",
   "id": "f6bb3e32-7f02-4032-8c53-0244f59bf56b",
   "metadata": {
    "id": "f6bb3e32-7f02-4032-8c53-0244f59bf56b"
   },
   "source": [
    "### Ejemplo 1"
   ]
  },
  {
   "cell_type": "code",
   "execution_count": null,
   "id": "cafc3bc0-ca30-4fe4-9314-844115698d91",
   "metadata": {
    "id": "cafc3bc0-ca30-4fe4-9314-844115698d91",
    "outputId": "09e7483d-c5e0-4856-ac3e-1349beb7f85a"
   },
   "outputs": [
    {
     "data": {
      "text/html": [
       "<div>\n",
       "<style scoped>\n",
       "    .dataframe tbody tr th:only-of-type {\n",
       "        vertical-align: middle;\n",
       "    }\n",
       "\n",
       "    .dataframe tbody tr th {\n",
       "        vertical-align: top;\n",
       "    }\n",
       "\n",
       "    .dataframe thead th {\n",
       "        text-align: right;\n",
       "    }\n",
       "</style>\n",
       "<table border=\"1\" class=\"dataframe\">\n",
       "  <thead>\n",
       "    <tr style=\"text-align: right;\">\n",
       "      <th></th>\n",
       "      <th>Sepal.Length</th>\n",
       "      <th>Sepal.Width</th>\n",
       "      <th>Petal.Length</th>\n",
       "      <th>Petal.Width</th>\n",
       "      <th>Species</th>\n",
       "    </tr>\n",
       "  </thead>\n",
       "  <tbody>\n",
       "    <tr>\n",
       "      <th>0</th>\n",
       "      <td>5.1</td>\n",
       "      <td>3.5</td>\n",
       "      <td>1.4</td>\n",
       "      <td>0.2</td>\n",
       "      <td>setosa</td>\n",
       "    </tr>\n",
       "    <tr>\n",
       "      <th>1</th>\n",
       "      <td>4.9</td>\n",
       "      <td>3.0</td>\n",
       "      <td>1.4</td>\n",
       "      <td>0.2</td>\n",
       "      <td>setosa</td>\n",
       "    </tr>\n",
       "    <tr>\n",
       "      <th>2</th>\n",
       "      <td>4.7</td>\n",
       "      <td>3.2</td>\n",
       "      <td>1.3</td>\n",
       "      <td>0.2</td>\n",
       "      <td>setosa</td>\n",
       "    </tr>\n",
       "    <tr>\n",
       "      <th>3</th>\n",
       "      <td>4.6</td>\n",
       "      <td>3.1</td>\n",
       "      <td>1.5</td>\n",
       "      <td>0.2</td>\n",
       "      <td>setosa</td>\n",
       "    </tr>\n",
       "    <tr>\n",
       "      <th>4</th>\n",
       "      <td>5.0</td>\n",
       "      <td>3.6</td>\n",
       "      <td>1.4</td>\n",
       "      <td>0.2</td>\n",
       "      <td>setosa</td>\n",
       "    </tr>\n",
       "    <tr>\n",
       "      <th>...</th>\n",
       "      <td>...</td>\n",
       "      <td>...</td>\n",
       "      <td>...</td>\n",
       "      <td>...</td>\n",
       "      <td>...</td>\n",
       "    </tr>\n",
       "    <tr>\n",
       "      <th>145</th>\n",
       "      <td>6.7</td>\n",
       "      <td>3.0</td>\n",
       "      <td>5.2</td>\n",
       "      <td>2.3</td>\n",
       "      <td>virginica</td>\n",
       "    </tr>\n",
       "    <tr>\n",
       "      <th>146</th>\n",
       "      <td>6.3</td>\n",
       "      <td>2.5</td>\n",
       "      <td>5.0</td>\n",
       "      <td>1.9</td>\n",
       "      <td>virginica</td>\n",
       "    </tr>\n",
       "    <tr>\n",
       "      <th>147</th>\n",
       "      <td>6.5</td>\n",
       "      <td>3.0</td>\n",
       "      <td>5.2</td>\n",
       "      <td>2.0</td>\n",
       "      <td>virginica</td>\n",
       "    </tr>\n",
       "    <tr>\n",
       "      <th>148</th>\n",
       "      <td>6.2</td>\n",
       "      <td>3.4</td>\n",
       "      <td>5.4</td>\n",
       "      <td>2.3</td>\n",
       "      <td>virginica</td>\n",
       "    </tr>\n",
       "    <tr>\n",
       "      <th>149</th>\n",
       "      <td>5.9</td>\n",
       "      <td>3.0</td>\n",
       "      <td>5.1</td>\n",
       "      <td>1.8</td>\n",
       "      <td>virginica</td>\n",
       "    </tr>\n",
       "  </tbody>\n",
       "</table>\n",
       "<p>150 rows × 5 columns</p>\n",
       "</div>"
      ],
      "text/plain": [
       "     Sepal.Length  Sepal.Width  Petal.Length  Petal.Width    Species\n",
       "0             5.1          3.5           1.4          0.2     setosa\n",
       "1             4.9          3.0           1.4          0.2     setosa\n",
       "2             4.7          3.2           1.3          0.2     setosa\n",
       "3             4.6          3.1           1.5          0.2     setosa\n",
       "4             5.0          3.6           1.4          0.2     setosa\n",
       "..            ...          ...           ...          ...        ...\n",
       "145           6.7          3.0           5.2          2.3  virginica\n",
       "146           6.3          2.5           5.0          1.9  virginica\n",
       "147           6.5          3.0           5.2          2.0  virginica\n",
       "148           6.2          3.4           5.4          2.3  virginica\n",
       "149           5.9          3.0           5.1          1.8  virginica\n",
       "\n",
       "[150 rows x 5 columns]"
      ]
     },
     "execution_count": 128,
     "metadata": {},
     "output_type": "execute_result"
    }
   ],
   "source": [
    "iris_df=pd.read_csv('data_iris.csv')\n",
    "iris_df"
   ]
  },
  {
   "cell_type": "code",
   "execution_count": null,
   "id": "8fcd96e2-2c4c-400b-8944-ba8e67c7a423",
   "metadata": {
    "id": "8fcd96e2-2c4c-400b-8944-ba8e67c7a423",
    "outputId": "dd35c2bb-46ce-43a9-e369-03e0d3c12926"
   },
   "outputs": [
    {
     "name": "stdout",
     "output_type": "stream",
     "text": [
      "   Sepal_Length  Sepal_Width  Petal_Length  Petal_Width Species\n",
      "0           5.1          3.5           1.4          0.2  setosa\n",
      "1           4.9          3.0           1.4          0.2  setosa\n",
      "2           4.7          3.2           1.3          0.2  setosa\n",
      "3           4.6          3.1           1.5          0.2  setosa\n",
      "4           5.0          3.6           1.4          0.2  setosa \n",
      "\n",
      "     Sepal_Length  Sepal_Width  Petal_Length  Petal_Width    Species\n",
      "145           6.7          3.0           5.2          2.3  virginica\n",
      "146           6.3          2.5           5.0          1.9  virginica\n",
      "147           6.5          3.0           5.2          2.0  virginica\n",
      "148           6.2          3.4           5.4          2.3  virginica\n",
      "149           5.9          3.0           5.1          1.8  virginica \n",
      "\n",
      "Index(['Sepal_Length', 'Sepal_Width', 'Petal_Length', 'Petal_Width',\n",
      "       'Species'],\n",
      "      dtype='object') \n",
      "\n",
      "<class 'pandas.core.frame.DataFrame'>\n",
      "RangeIndex: 150 entries, 0 to 149\n",
      "Data columns (total 5 columns):\n",
      " #   Column        Non-Null Count  Dtype  \n",
      "---  ------        --------------  -----  \n",
      " 0   Sepal_Length  150 non-null    float64\n",
      " 1   Sepal_Width   150 non-null    float64\n",
      " 2   Petal_Length  150 non-null    float64\n",
      " 3   Petal_Width   150 non-null    float64\n",
      " 4   Species       150 non-null    object \n",
      "dtypes: float64(4), object(1)\n",
      "memory usage: 6.0+ KB\n",
      "None\n"
     ]
    }
   ],
   "source": [
    "print(iris_df.head(),\"\\n\")\n",
    "print(iris_df.tail(),\"\\n\")\n",
    "print(iris_df.columns,\"\\n\")\n",
    "print(iris_df.info())"
   ]
  },
  {
   "cell_type": "code",
   "execution_count": null,
   "id": "24ca744b-ae16-430e-9551-6a1e2bbac0b0",
   "metadata": {
    "id": "24ca744b-ae16-430e-9551-6a1e2bbac0b0",
    "outputId": "6fc00774-92f1-4700-9165-40f31d1ac55e"
   },
   "outputs": [
    {
     "data": {
      "text/html": [
       "<div>\n",
       "<style scoped>\n",
       "    .dataframe tbody tr th:only-of-type {\n",
       "        vertical-align: middle;\n",
       "    }\n",
       "\n",
       "    .dataframe tbody tr th {\n",
       "        vertical-align: top;\n",
       "    }\n",
       "\n",
       "    .dataframe thead th {\n",
       "        text-align: right;\n",
       "    }\n",
       "</style>\n",
       "<table border=\"1\" class=\"dataframe\">\n",
       "  <thead>\n",
       "    <tr style=\"text-align: right;\">\n",
       "      <th></th>\n",
       "      <th>Sepal_Length</th>\n",
       "      <th>Sepal_Width</th>\n",
       "      <th>Petal_Length</th>\n",
       "      <th>Petal_Width</th>\n",
       "      <th>Species</th>\n",
       "    </tr>\n",
       "  </thead>\n",
       "  <tbody>\n",
       "    <tr>\n",
       "      <th>0</th>\n",
       "      <td>5.1</td>\n",
       "      <td>3.5</td>\n",
       "      <td>1.4</td>\n",
       "      <td>0.2</td>\n",
       "      <td>setosa</td>\n",
       "    </tr>\n",
       "    <tr>\n",
       "      <th>1</th>\n",
       "      <td>4.9</td>\n",
       "      <td>3.0</td>\n",
       "      <td>1.4</td>\n",
       "      <td>0.2</td>\n",
       "      <td>setosa</td>\n",
       "    </tr>\n",
       "    <tr>\n",
       "      <th>2</th>\n",
       "      <td>4.7</td>\n",
       "      <td>3.2</td>\n",
       "      <td>1.3</td>\n",
       "      <td>0.2</td>\n",
       "      <td>setosa</td>\n",
       "    </tr>\n",
       "    <tr>\n",
       "      <th>3</th>\n",
       "      <td>4.6</td>\n",
       "      <td>3.1</td>\n",
       "      <td>1.5</td>\n",
       "      <td>0.2</td>\n",
       "      <td>setosa</td>\n",
       "    </tr>\n",
       "    <tr>\n",
       "      <th>4</th>\n",
       "      <td>5.0</td>\n",
       "      <td>3.6</td>\n",
       "      <td>1.4</td>\n",
       "      <td>0.2</td>\n",
       "      <td>setosa</td>\n",
       "    </tr>\n",
       "    <tr>\n",
       "      <th>...</th>\n",
       "      <td>...</td>\n",
       "      <td>...</td>\n",
       "      <td>...</td>\n",
       "      <td>...</td>\n",
       "      <td>...</td>\n",
       "    </tr>\n",
       "    <tr>\n",
       "      <th>145</th>\n",
       "      <td>6.7</td>\n",
       "      <td>3.0</td>\n",
       "      <td>5.2</td>\n",
       "      <td>2.3</td>\n",
       "      <td>virginica</td>\n",
       "    </tr>\n",
       "    <tr>\n",
       "      <th>146</th>\n",
       "      <td>6.3</td>\n",
       "      <td>2.5</td>\n",
       "      <td>5.0</td>\n",
       "      <td>1.9</td>\n",
       "      <td>virginica</td>\n",
       "    </tr>\n",
       "    <tr>\n",
       "      <th>147</th>\n",
       "      <td>6.5</td>\n",
       "      <td>3.0</td>\n",
       "      <td>5.2</td>\n",
       "      <td>2.0</td>\n",
       "      <td>virginica</td>\n",
       "    </tr>\n",
       "    <tr>\n",
       "      <th>148</th>\n",
       "      <td>6.2</td>\n",
       "      <td>3.4</td>\n",
       "      <td>5.4</td>\n",
       "      <td>2.3</td>\n",
       "      <td>virginica</td>\n",
       "    </tr>\n",
       "    <tr>\n",
       "      <th>149</th>\n",
       "      <td>5.9</td>\n",
       "      <td>3.0</td>\n",
       "      <td>5.1</td>\n",
       "      <td>1.8</td>\n",
       "      <td>virginica</td>\n",
       "    </tr>\n",
       "  </tbody>\n",
       "</table>\n",
       "<p>150 rows × 5 columns</p>\n",
       "</div>"
      ],
      "text/plain": [
       "     Sepal_Length  Sepal_Width  Petal_Length  Petal_Width    Species\n",
       "0             5.1          3.5           1.4          0.2     setosa\n",
       "1             4.9          3.0           1.4          0.2     setosa\n",
       "2             4.7          3.2           1.3          0.2     setosa\n",
       "3             4.6          3.1           1.5          0.2     setosa\n",
       "4             5.0          3.6           1.4          0.2     setosa\n",
       "..            ...          ...           ...          ...        ...\n",
       "145           6.7          3.0           5.2          2.3  virginica\n",
       "146           6.3          2.5           5.0          1.9  virginica\n",
       "147           6.5          3.0           5.2          2.0  virginica\n",
       "148           6.2          3.4           5.4          2.3  virginica\n",
       "149           5.9          3.0           5.1          1.8  virginica\n",
       "\n",
       "[150 rows x 5 columns]"
      ]
     },
     "execution_count": 132,
     "metadata": {},
     "output_type": "execute_result"
    }
   ],
   "source": [
    "iris_df.columns=['Sepal_Length', 'Sepal_Width', 'Petal_Length', 'Petal_Width', 'Species']\n",
    "iris_df"
   ]
  },
  {
   "cell_type": "code",
   "execution_count": null,
   "id": "2e35bc1c-0357-4359-b6c2-5c8f8dd3c293",
   "metadata": {
    "id": "2e35bc1c-0357-4359-b6c2-5c8f8dd3c293",
    "outputId": "938c8787-777c-4a95-937e-97357d0447f3"
   },
   "outputs": [
    {
     "data": {
      "text/html": [
       "<div>\n",
       "<style scoped>\n",
       "    .dataframe tbody tr th:only-of-type {\n",
       "        vertical-align: middle;\n",
       "    }\n",
       "\n",
       "    .dataframe tbody tr th {\n",
       "        vertical-align: top;\n",
       "    }\n",
       "\n",
       "    .dataframe thead th {\n",
       "        text-align: right;\n",
       "    }\n",
       "</style>\n",
       "<table border=\"1\" class=\"dataframe\">\n",
       "  <thead>\n",
       "    <tr style=\"text-align: right;\">\n",
       "      <th></th>\n",
       "      <th>Sepal_Length</th>\n",
       "    </tr>\n",
       "  </thead>\n",
       "  <tbody>\n",
       "    <tr>\n",
       "      <th>0</th>\n",
       "      <td>5.1</td>\n",
       "    </tr>\n",
       "    <tr>\n",
       "      <th>1</th>\n",
       "      <td>4.9</td>\n",
       "    </tr>\n",
       "    <tr>\n",
       "      <th>2</th>\n",
       "      <td>4.7</td>\n",
       "    </tr>\n",
       "    <tr>\n",
       "      <th>3</th>\n",
       "      <td>4.6</td>\n",
       "    </tr>\n",
       "    <tr>\n",
       "      <th>4</th>\n",
       "      <td>5.0</td>\n",
       "    </tr>\n",
       "    <tr>\n",
       "      <th>...</th>\n",
       "      <td>...</td>\n",
       "    </tr>\n",
       "    <tr>\n",
       "      <th>145</th>\n",
       "      <td>6.7</td>\n",
       "    </tr>\n",
       "    <tr>\n",
       "      <th>146</th>\n",
       "      <td>6.3</td>\n",
       "    </tr>\n",
       "    <tr>\n",
       "      <th>147</th>\n",
       "      <td>6.5</td>\n",
       "    </tr>\n",
       "    <tr>\n",
       "      <th>148</th>\n",
       "      <td>6.2</td>\n",
       "    </tr>\n",
       "    <tr>\n",
       "      <th>149</th>\n",
       "      <td>5.9</td>\n",
       "    </tr>\n",
       "  </tbody>\n",
       "</table>\n",
       "<p>150 rows × 1 columns</p>\n",
       "</div>"
      ],
      "text/plain": [
       "     Sepal_Length\n",
       "0             5.1\n",
       "1             4.9\n",
       "2             4.7\n",
       "3             4.6\n",
       "4             5.0\n",
       "..            ...\n",
       "145           6.7\n",
       "146           6.3\n",
       "147           6.5\n",
       "148           6.2\n",
       "149           5.9\n",
       "\n",
       "[150 rows x 1 columns]"
      ]
     },
     "execution_count": 143,
     "metadata": {},
     "output_type": "execute_result"
    }
   ],
   "source": [
    "iris_df.Sepal_Length\n",
    "iris_df[['Sepal_Length']]"
   ]
  },
  {
   "cell_type": "code",
   "execution_count": null,
   "id": "5874e505-ada6-48e4-bc71-625bcd808ea8",
   "metadata": {
    "id": "5874e505-ada6-48e4-bc71-625bcd808ea8",
    "outputId": "79a52152-aed9-43dd-b7d2-7dc33575c53c"
   },
   "outputs": [
    {
     "data": {
      "text/html": [
       "<div>\n",
       "<style scoped>\n",
       "    .dataframe tbody tr th:only-of-type {\n",
       "        vertical-align: middle;\n",
       "    }\n",
       "\n",
       "    .dataframe tbody tr th {\n",
       "        vertical-align: top;\n",
       "    }\n",
       "\n",
       "    .dataframe thead th {\n",
       "        text-align: right;\n",
       "    }\n",
       "</style>\n",
       "<table border=\"1\" class=\"dataframe\">\n",
       "  <thead>\n",
       "    <tr style=\"text-align: right;\">\n",
       "      <th></th>\n",
       "      <th>Sepal_Length</th>\n",
       "      <th>Sepal_Width</th>\n",
       "    </tr>\n",
       "  </thead>\n",
       "  <tbody>\n",
       "    <tr>\n",
       "      <th>0</th>\n",
       "      <td>5.1</td>\n",
       "      <td>3.5</td>\n",
       "    </tr>\n",
       "    <tr>\n",
       "      <th>1</th>\n",
       "      <td>4.9</td>\n",
       "      <td>3.0</td>\n",
       "    </tr>\n",
       "    <tr>\n",
       "      <th>2</th>\n",
       "      <td>4.7</td>\n",
       "      <td>3.2</td>\n",
       "    </tr>\n",
       "    <tr>\n",
       "      <th>3</th>\n",
       "      <td>4.6</td>\n",
       "      <td>3.1</td>\n",
       "    </tr>\n",
       "    <tr>\n",
       "      <th>4</th>\n",
       "      <td>5.0</td>\n",
       "      <td>3.6</td>\n",
       "    </tr>\n",
       "    <tr>\n",
       "      <th>...</th>\n",
       "      <td>...</td>\n",
       "      <td>...</td>\n",
       "    </tr>\n",
       "    <tr>\n",
       "      <th>145</th>\n",
       "      <td>6.7</td>\n",
       "      <td>3.0</td>\n",
       "    </tr>\n",
       "    <tr>\n",
       "      <th>146</th>\n",
       "      <td>6.3</td>\n",
       "      <td>2.5</td>\n",
       "    </tr>\n",
       "    <tr>\n",
       "      <th>147</th>\n",
       "      <td>6.5</td>\n",
       "      <td>3.0</td>\n",
       "    </tr>\n",
       "    <tr>\n",
       "      <th>148</th>\n",
       "      <td>6.2</td>\n",
       "      <td>3.4</td>\n",
       "    </tr>\n",
       "    <tr>\n",
       "      <th>149</th>\n",
       "      <td>5.9</td>\n",
       "      <td>3.0</td>\n",
       "    </tr>\n",
       "  </tbody>\n",
       "</table>\n",
       "<p>150 rows × 2 columns</p>\n",
       "</div>"
      ],
      "text/plain": [
       "     Sepal_Length  Sepal_Width\n",
       "0             5.1          3.5\n",
       "1             4.9          3.0\n",
       "2             4.7          3.2\n",
       "3             4.6          3.1\n",
       "4             5.0          3.6\n",
       "..            ...          ...\n",
       "145           6.7          3.0\n",
       "146           6.3          2.5\n",
       "147           6.5          3.0\n",
       "148           6.2          3.4\n",
       "149           5.9          3.0\n",
       "\n",
       "[150 rows x 2 columns]"
      ]
     },
     "execution_count": 137,
     "metadata": {},
     "output_type": "execute_result"
    }
   ],
   "source": [
    "iris_df[['Sepal_Length', 'Sepal_Width']]"
   ]
  },
  {
   "cell_type": "code",
   "execution_count": null,
   "id": "dca4cf76-e562-4454-8e94-3eb266aa0b60",
   "metadata": {
    "id": "dca4cf76-e562-4454-8e94-3eb266aa0b60",
    "outputId": "40f9ab49-535c-4bb6-db29-7d7a5f3f9293"
   },
   "outputs": [
    {
     "data": {
      "text/html": [
       "<div>\n",
       "<style scoped>\n",
       "    .dataframe tbody tr th:only-of-type {\n",
       "        vertical-align: middle;\n",
       "    }\n",
       "\n",
       "    .dataframe tbody tr th {\n",
       "        vertical-align: top;\n",
       "    }\n",
       "\n",
       "    .dataframe thead th {\n",
       "        text-align: right;\n",
       "    }\n",
       "</style>\n",
       "<table border=\"1\" class=\"dataframe\">\n",
       "  <thead>\n",
       "    <tr style=\"text-align: right;\">\n",
       "      <th></th>\n",
       "      <th>Sepal_Length</th>\n",
       "    </tr>\n",
       "  </thead>\n",
       "  <tbody>\n",
       "    <tr>\n",
       "      <th>0</th>\n",
       "      <td>5.1</td>\n",
       "    </tr>\n",
       "    <tr>\n",
       "      <th>1</th>\n",
       "      <td>4.9</td>\n",
       "    </tr>\n",
       "    <tr>\n",
       "      <th>2</th>\n",
       "      <td>4.7</td>\n",
       "    </tr>\n",
       "    <tr>\n",
       "      <th>3</th>\n",
       "      <td>4.6</td>\n",
       "    </tr>\n",
       "    <tr>\n",
       "      <th>4</th>\n",
       "      <td>5.0</td>\n",
       "    </tr>\n",
       "    <tr>\n",
       "      <th>...</th>\n",
       "      <td>...</td>\n",
       "    </tr>\n",
       "    <tr>\n",
       "      <th>145</th>\n",
       "      <td>6.7</td>\n",
       "    </tr>\n",
       "    <tr>\n",
       "      <th>146</th>\n",
       "      <td>6.3</td>\n",
       "    </tr>\n",
       "    <tr>\n",
       "      <th>147</th>\n",
       "      <td>6.5</td>\n",
       "    </tr>\n",
       "    <tr>\n",
       "      <th>148</th>\n",
       "      <td>6.2</td>\n",
       "    </tr>\n",
       "    <tr>\n",
       "      <th>149</th>\n",
       "      <td>5.9</td>\n",
       "    </tr>\n",
       "  </tbody>\n",
       "</table>\n",
       "<p>150 rows × 1 columns</p>\n",
       "</div>"
      ],
      "text/plain": [
       "     Sepal_Length\n",
       "0             5.1\n",
       "1             4.9\n",
       "2             4.7\n",
       "3             4.6\n",
       "4             5.0\n",
       "..            ...\n",
       "145           6.7\n",
       "146           6.3\n",
       "147           6.5\n",
       "148           6.2\n",
       "149           5.9\n",
       "\n",
       "[150 rows x 1 columns]"
      ]
     },
     "execution_count": 140,
     "metadata": {},
     "output_type": "execute_result"
    }
   ],
   "source": [
    "iris_df[['Sepal_Length']]"
   ]
  },
  {
   "cell_type": "code",
   "execution_count": null,
   "id": "2fa43940-fe1f-4d9a-ba69-fe41fafc0c6c",
   "metadata": {
    "id": "2fa43940-fe1f-4d9a-ba69-fe41fafc0c6c",
    "outputId": "e117b691-6d41-4288-a83a-94061b306829"
   },
   "outputs": [
    {
     "data": {
      "text/html": [
       "<div>\n",
       "<style scoped>\n",
       "    .dataframe tbody tr th:only-of-type {\n",
       "        vertical-align: middle;\n",
       "    }\n",
       "\n",
       "    .dataframe tbody tr th {\n",
       "        vertical-align: top;\n",
       "    }\n",
       "\n",
       "    .dataframe thead tr th {\n",
       "        text-align: left;\n",
       "    }\n",
       "\n",
       "    .dataframe thead tr:last-of-type th {\n",
       "        text-align: right;\n",
       "    }\n",
       "</style>\n",
       "<table border=\"1\" class=\"dataframe\">\n",
       "  <thead>\n",
       "    <tr>\n",
       "      <th></th>\n",
       "      <th colspan=\"2\" halign=\"left\">Sepal_Length</th>\n",
       "      <th colspan=\"2\" halign=\"left\">Sepal_Width</th>\n",
       "    </tr>\n",
       "    <tr>\n",
       "      <th></th>\n",
       "      <th>mean</th>\n",
       "      <th>std</th>\n",
       "      <th>mean</th>\n",
       "      <th>std</th>\n",
       "    </tr>\n",
       "    <tr>\n",
       "      <th>Species</th>\n",
       "      <th></th>\n",
       "      <th></th>\n",
       "      <th></th>\n",
       "      <th></th>\n",
       "    </tr>\n",
       "  </thead>\n",
       "  <tbody>\n",
       "    <tr>\n",
       "      <th>setosa</th>\n",
       "      <td>5.006</td>\n",
       "      <td>0.352490</td>\n",
       "      <td>3.418</td>\n",
       "      <td>0.381024</td>\n",
       "    </tr>\n",
       "    <tr>\n",
       "      <th>versicolor</th>\n",
       "      <td>5.936</td>\n",
       "      <td>0.516171</td>\n",
       "      <td>2.770</td>\n",
       "      <td>0.313798</td>\n",
       "    </tr>\n",
       "    <tr>\n",
       "      <th>virginica</th>\n",
       "      <td>6.588</td>\n",
       "      <td>0.635880</td>\n",
       "      <td>2.974</td>\n",
       "      <td>0.322497</td>\n",
       "    </tr>\n",
       "  </tbody>\n",
       "</table>\n",
       "</div>"
      ],
      "text/plain": [
       "           Sepal_Length           Sepal_Width          \n",
       "                   mean       std        mean       std\n",
       "Species                                                \n",
       "setosa            5.006  0.352490       3.418  0.381024\n",
       "versicolor        5.936  0.516171       2.770  0.313798\n",
       "virginica         6.588  0.635880       2.974  0.322497"
      ]
     },
     "execution_count": 146,
     "metadata": {},
     "output_type": "execute_result"
    }
   ],
   "source": [
    "# Agrupar por 'Species' y calcular la media y desviación estándar para 'Sepal_Length' y 'Sepal_Width'\n",
    "result = iris_df.groupby('Species')[['Sepal_Length', 'Sepal_Width']].agg(['mean', 'std'])\n",
    "\n",
    "result"
   ]
  },
  {
   "cell_type": "code",
   "execution_count": null,
   "id": "2576bc87-c22d-406b-b256-b587b02b255d",
   "metadata": {
    "id": "2576bc87-c22d-406b-b256-b587b02b255d",
    "outputId": "96ae67c9-83c5-4417-eeaa-9cb2a8f7e4d0"
   },
   "outputs": [
    {
     "data": {
      "text/html": [
       "<div>\n",
       "<style scoped>\n",
       "    .dataframe tbody tr th:only-of-type {\n",
       "        vertical-align: middle;\n",
       "    }\n",
       "\n",
       "    .dataframe tbody tr th {\n",
       "        vertical-align: top;\n",
       "    }\n",
       "\n",
       "    .dataframe thead th {\n",
       "        text-align: right;\n",
       "    }\n",
       "</style>\n",
       "<table border=\"1\" class=\"dataframe\">\n",
       "  <thead>\n",
       "    <tr style=\"text-align: right;\">\n",
       "      <th></th>\n",
       "      <th>Species</th>\n",
       "      <th>setosa</th>\n",
       "      <th>versicolor</th>\n",
       "      <th>virginica</th>\n",
       "    </tr>\n",
       "  </thead>\n",
       "  <tbody>\n",
       "    <tr>\n",
       "      <th rowspan=\"2\" valign=\"top\">Sepal_Length</th>\n",
       "      <th>mean</th>\n",
       "      <td>5.006000</td>\n",
       "      <td>5.936000</td>\n",
       "      <td>6.588000</td>\n",
       "    </tr>\n",
       "    <tr>\n",
       "      <th>std</th>\n",
       "      <td>0.352490</td>\n",
       "      <td>0.516171</td>\n",
       "      <td>0.635880</td>\n",
       "    </tr>\n",
       "    <tr>\n",
       "      <th rowspan=\"2\" valign=\"top\">Sepal_Width</th>\n",
       "      <th>mean</th>\n",
       "      <td>3.418000</td>\n",
       "      <td>2.770000</td>\n",
       "      <td>2.974000</td>\n",
       "    </tr>\n",
       "    <tr>\n",
       "      <th>std</th>\n",
       "      <td>0.381024</td>\n",
       "      <td>0.313798</td>\n",
       "      <td>0.322497</td>\n",
       "    </tr>\n",
       "  </tbody>\n",
       "</table>\n",
       "</div>"
      ],
      "text/plain": [
       "Species              setosa  versicolor  virginica\n",
       "Sepal_Length mean  5.006000    5.936000   6.588000\n",
       "             std   0.352490    0.516171   0.635880\n",
       "Sepal_Width  mean  3.418000    2.770000   2.974000\n",
       "             std   0.381024    0.313798   0.322497"
      ]
     },
     "execution_count": 147,
     "metadata": {},
     "output_type": "execute_result"
    }
   ],
   "source": [
    "result.T"
   ]
  },
  {
   "cell_type": "markdown",
   "id": "6e77dd66-e590-4dab-a816-7bb2c5139b89",
   "metadata": {
    "id": "6e77dd66-e590-4dab-a816-7bb2c5139b89"
   },
   "source": [
    "### Ejemplo 2"
   ]
  },
  {
   "cell_type": "code",
   "execution_count": null,
   "id": "1eb0d862-926a-4aaf-b7df-2bc3f3514aaa",
   "metadata": {
    "id": "1eb0d862-926a-4aaf-b7df-2bc3f3514aaa",
    "outputId": "4718604e-9bc4-48fd-84ab-a1027fb4834a"
   },
   "outputs": [
    {
     "name": "stdout",
     "output_type": "stream",
     "text": [
      "<class 'pandas.core.frame.DataFrame'>\n",
      "RangeIndex: 10 entries, 0 to 9\n",
      "Data columns (total 4 columns):\n",
      " #   Column      Non-Null Count  Dtype  \n",
      "---  ------      --------------  -----  \n",
      " 0   id          10 non-null     int64  \n",
      " 1   stock_name  10 non-null     object \n",
      " 2   value       10 non-null     float64\n",
      " 3   price       10 non-null     int64  \n",
      "dtypes: float64(1), int64(2), object(1)\n",
      "memory usage: 448.0+ bytes\n",
      "Información df1: \n",
      " None\n",
      "       id                               stock_name          value   price\n",
      "0  128940                     Hanmi Pharmaceutical   59385.666667  421000\n",
      "1  130960                                   CJ E&M   58540.666667   98900\n",
      "2  138250                              NS Shopping   14558.666667   13200\n",
      "3  139480                                   E-mart  239230.833333  254500\n",
      "4  142280  Green Cross Medical Science Corporation     468.833333   10200 \n",
      "\n",
      "<class 'pandas.core.frame.DataFrame'>\n",
      "RangeIndex: 10 entries, 0 to 9\n",
      "Data columns (total 6 columns):\n",
      " #   Column  Non-Null Count  Dtype  \n",
      "---  ------  --------------  -----  \n",
      " 0   id      10 non-null     int64  \n",
      " 1   name    10 non-null     object \n",
      " 2   eps     10 non-null     float64\n",
      " 3   bps     10 non-null     int64  \n",
      " 4   per     10 non-null     float64\n",
      " 5   pbr     10 non-null     float64\n",
      "dtypes: float64(3), int64(2), object(1)\n",
      "memory usage: 608.0+ bytes\n",
      "Información df2: \n",
      " None\n",
      "       id                    name           eps     bps        per       pbr\n",
      "0  130960                  CJ E&M   6301.333333   54068  15.695091  1.829178\n",
      "1  136480               Harim Co.    274.166667    3551  11.489362  0.887074\n",
      "2  138040  Meritz Financial Group   2122.333333   14894   6.313806  0.899691\n",
      "3  139480                  E-mart  18268.166667  295780  13.931338  0.860437\n",
      "4  145990                 Samyang   5741.000000  108090  14.283226  0.758627 \n",
      "\n"
     ]
    }
   ],
   "source": [
    "# Con pandas, podemos leer archivos de extensión xlsx y csv\n",
    "\n",
    "df1 = pd.read_excel('stockprice.xlsx')\n",
    "df2 = pd.read_excel('stock valuation.xlsx')\n",
    "\n",
    "print(\"Información df1: \\n\",df1.info())\n",
    "print(df1.head(),\"\\n\")\n",
    "\n",
    "\n",
    "print(\"Información df2: \\n\",df2.info())\n",
    "print(df2.head(),\"\\n\")"
   ]
  },
  {
   "cell_type": "code",
   "execution_count": null,
   "id": "adb679fb-14dc-455f-b91d-24e9826ff142",
   "metadata": {
    "id": "adb679fb-14dc-455f-b91d-24e9826ff142",
    "outputId": "05c1e8dd-1e5d-40a3-87f8-4b4cde3ed427"
   },
   "outputs": [
    {
     "data": {
      "text/html": [
       "<div>\n",
       "<style scoped>\n",
       "    .dataframe tbody tr th:only-of-type {\n",
       "        vertical-align: middle;\n",
       "    }\n",
       "\n",
       "    .dataframe tbody tr th {\n",
       "        vertical-align: top;\n",
       "    }\n",
       "\n",
       "    .dataframe thead th {\n",
       "        text-align: right;\n",
       "    }\n",
       "</style>\n",
       "<table border=\"1\" class=\"dataframe\">\n",
       "  <thead>\n",
       "    <tr style=\"text-align: right;\">\n",
       "      <th></th>\n",
       "      <th>id</th>\n",
       "      <th>stock_name</th>\n",
       "      <th>value</th>\n",
       "      <th>price</th>\n",
       "      <th>name</th>\n",
       "      <th>eps</th>\n",
       "      <th>bps</th>\n",
       "      <th>per</th>\n",
       "      <th>pbr</th>\n",
       "    </tr>\n",
       "  </thead>\n",
       "  <tbody>\n",
       "    <tr>\n",
       "      <th>0</th>\n",
       "      <td>130960</td>\n",
       "      <td>CJ E&amp;M</td>\n",
       "      <td>58540.666667</td>\n",
       "      <td>98900</td>\n",
       "      <td>CJ E&amp;M</td>\n",
       "      <td>6301.333333</td>\n",
       "      <td>54068</td>\n",
       "      <td>15.695091</td>\n",
       "      <td>1.829178</td>\n",
       "    </tr>\n",
       "    <tr>\n",
       "      <th>1</th>\n",
       "      <td>139480</td>\n",
       "      <td>E-mart</td>\n",
       "      <td>239230.833333</td>\n",
       "      <td>254500</td>\n",
       "      <td>E-mart</td>\n",
       "      <td>18268.166667</td>\n",
       "      <td>295780</td>\n",
       "      <td>13.931338</td>\n",
       "      <td>0.860437</td>\n",
       "    </tr>\n",
       "    <tr>\n",
       "      <th>2</th>\n",
       "      <td>145990</td>\n",
       "      <td>Samyang</td>\n",
       "      <td>82750.000000</td>\n",
       "      <td>82000</td>\n",
       "      <td>Samyang</td>\n",
       "      <td>5741.000000</td>\n",
       "      <td>108090</td>\n",
       "      <td>14.283226</td>\n",
       "      <td>0.758627</td>\n",
       "    </tr>\n",
       "    <tr>\n",
       "      <th>3</th>\n",
       "      <td>185750</td>\n",
       "      <td>Chong Kun Dang</td>\n",
       "      <td>40293.666667</td>\n",
       "      <td>100500</td>\n",
       "      <td>Chong Kun Dang</td>\n",
       "      <td>3990.333333</td>\n",
       "      <td>40684</td>\n",
       "      <td>25.185866</td>\n",
       "      <td>2.470259</td>\n",
       "    </tr>\n",
       "    <tr>\n",
       "      <th>4</th>\n",
       "      <td>204210</td>\n",
       "      <td>Mode Tour Reit</td>\n",
       "      <td>3093.333333</td>\n",
       "      <td>3475</td>\n",
       "      <td>Mode Tour Reit</td>\n",
       "      <td>85.166667</td>\n",
       "      <td>5335</td>\n",
       "      <td>40.802348</td>\n",
       "      <td>0.651359</td>\n",
       "    </tr>\n",
       "  </tbody>\n",
       "</table>\n",
       "</div>"
      ],
      "text/plain": [
       "       id      stock_name          value   price            name  \\\n",
       "0  130960          CJ E&M   58540.666667   98900          CJ E&M   \n",
       "1  139480          E-mart  239230.833333  254500          E-mart   \n",
       "2  145990         Samyang   82750.000000   82000         Samyang   \n",
       "3  185750  Chong Kun Dang   40293.666667  100500  Chong Kun Dang   \n",
       "4  204210  Mode Tour Reit    3093.333333    3475  Mode Tour Reit   \n",
       "\n",
       "            eps     bps        per       pbr  \n",
       "0   6301.333333   54068  15.695091  1.829178  \n",
       "1  18268.166667  295780  13.931338  0.860437  \n",
       "2   5741.000000  108090  14.283226  0.758627  \n",
       "3   3990.333333   40684  25.185866  2.470259  \n",
       "4     85.166667    5335  40.802348  0.651359  "
      ]
     },
     "execution_count": 5,
     "metadata": {},
     "output_type": "execute_result"
    }
   ],
   "source": [
    "pd.merge(df1, df2)"
   ]
  },
  {
   "cell_type": "code",
   "execution_count": null,
   "id": "2982520a-af89-4057-8198-6357b8b85b9c",
   "metadata": {
    "id": "2982520a-af89-4057-8198-6357b8b85b9c",
    "outputId": "04d592ab-e993-4617-eb4b-df709eb4108c"
   },
   "outputs": [
    {
     "data": {
      "text/html": [
       "<div>\n",
       "<style scoped>\n",
       "    .dataframe tbody tr th:only-of-type {\n",
       "        vertical-align: middle;\n",
       "    }\n",
       "\n",
       "    .dataframe tbody tr th {\n",
       "        vertical-align: top;\n",
       "    }\n",
       "\n",
       "    .dataframe thead th {\n",
       "        text-align: right;\n",
       "    }\n",
       "</style>\n",
       "<table border=\"1\" class=\"dataframe\">\n",
       "  <thead>\n",
       "    <tr style=\"text-align: right;\">\n",
       "      <th></th>\n",
       "      <th>id</th>\n",
       "      <th>stock_name</th>\n",
       "      <th>value</th>\n",
       "      <th>price</th>\n",
       "      <th>name</th>\n",
       "      <th>eps</th>\n",
       "      <th>bps</th>\n",
       "      <th>per</th>\n",
       "      <th>pbr</th>\n",
       "    </tr>\n",
       "  </thead>\n",
       "  <tbody>\n",
       "    <tr>\n",
       "      <th>0</th>\n",
       "      <td>128940</td>\n",
       "      <td>Hanmi Pharmaceutical</td>\n",
       "      <td>59385.666667</td>\n",
       "      <td>421000</td>\n",
       "      <td>NaN</td>\n",
       "      <td>NaN</td>\n",
       "      <td>NaN</td>\n",
       "      <td>NaN</td>\n",
       "      <td>NaN</td>\n",
       "    </tr>\n",
       "    <tr>\n",
       "      <th>1</th>\n",
       "      <td>130960</td>\n",
       "      <td>CJ E&amp;M</td>\n",
       "      <td>58540.666667</td>\n",
       "      <td>98900</td>\n",
       "      <td>CJ E&amp;M</td>\n",
       "      <td>6301.333333</td>\n",
       "      <td>54068.0</td>\n",
       "      <td>15.695091</td>\n",
       "      <td>1.829178</td>\n",
       "    </tr>\n",
       "    <tr>\n",
       "      <th>2</th>\n",
       "      <td>138250</td>\n",
       "      <td>NS Shopping</td>\n",
       "      <td>14558.666667</td>\n",
       "      <td>13200</td>\n",
       "      <td>NaN</td>\n",
       "      <td>NaN</td>\n",
       "      <td>NaN</td>\n",
       "      <td>NaN</td>\n",
       "      <td>NaN</td>\n",
       "    </tr>\n",
       "    <tr>\n",
       "      <th>3</th>\n",
       "      <td>139480</td>\n",
       "      <td>E-mart</td>\n",
       "      <td>239230.833333</td>\n",
       "      <td>254500</td>\n",
       "      <td>E-mart</td>\n",
       "      <td>18268.166667</td>\n",
       "      <td>295780.0</td>\n",
       "      <td>13.931338</td>\n",
       "      <td>0.860437</td>\n",
       "    </tr>\n",
       "    <tr>\n",
       "      <th>4</th>\n",
       "      <td>142280</td>\n",
       "      <td>Green Cross Medical Science Corporation</td>\n",
       "      <td>468.833333</td>\n",
       "      <td>10200</td>\n",
       "      <td>NaN</td>\n",
       "      <td>NaN</td>\n",
       "      <td>NaN</td>\n",
       "      <td>NaN</td>\n",
       "      <td>NaN</td>\n",
       "    </tr>\n",
       "    <tr>\n",
       "      <th>5</th>\n",
       "      <td>145990</td>\n",
       "      <td>Samyang</td>\n",
       "      <td>82750.000000</td>\n",
       "      <td>82000</td>\n",
       "      <td>Samyang</td>\n",
       "      <td>5741.000000</td>\n",
       "      <td>108090.0</td>\n",
       "      <td>14.283226</td>\n",
       "      <td>0.758627</td>\n",
       "    </tr>\n",
       "    <tr>\n",
       "      <th>6</th>\n",
       "      <td>185750</td>\n",
       "      <td>Chong Kun Dang</td>\n",
       "      <td>40293.666667</td>\n",
       "      <td>100500</td>\n",
       "      <td>Chong Kun Dang</td>\n",
       "      <td>3990.333333</td>\n",
       "      <td>40684.0</td>\n",
       "      <td>25.185866</td>\n",
       "      <td>2.470259</td>\n",
       "    </tr>\n",
       "    <tr>\n",
       "      <th>7</th>\n",
       "      <td>192400</td>\n",
       "      <td>Cuckoo Holdings</td>\n",
       "      <td>179204.666667</td>\n",
       "      <td>177500</td>\n",
       "      <td>NaN</td>\n",
       "      <td>NaN</td>\n",
       "      <td>NaN</td>\n",
       "      <td>NaN</td>\n",
       "      <td>NaN</td>\n",
       "    </tr>\n",
       "    <tr>\n",
       "      <th>8</th>\n",
       "      <td>199800</td>\n",
       "      <td>Toolgen</td>\n",
       "      <td>-2514.333333</td>\n",
       "      <td>115400</td>\n",
       "      <td>NaN</td>\n",
       "      <td>NaN</td>\n",
       "      <td>NaN</td>\n",
       "      <td>NaN</td>\n",
       "      <td>NaN</td>\n",
       "    </tr>\n",
       "    <tr>\n",
       "      <th>9</th>\n",
       "      <td>204210</td>\n",
       "      <td>Mode Tour Reit</td>\n",
       "      <td>3093.333333</td>\n",
       "      <td>3475</td>\n",
       "      <td>Mode Tour Reit</td>\n",
       "      <td>85.166667</td>\n",
       "      <td>5335.0</td>\n",
       "      <td>40.802348</td>\n",
       "      <td>0.651359</td>\n",
       "    </tr>\n",
       "  </tbody>\n",
       "</table>\n",
       "</div>"
      ],
      "text/plain": [
       "       id                               stock_name          value   price  \\\n",
       "0  128940                     Hanmi Pharmaceutical   59385.666667  421000   \n",
       "1  130960                                   CJ E&M   58540.666667   98900   \n",
       "2  138250                              NS Shopping   14558.666667   13200   \n",
       "3  139480                                   E-mart  239230.833333  254500   \n",
       "4  142280  Green Cross Medical Science Corporation     468.833333   10200   \n",
       "5  145990                                  Samyang   82750.000000   82000   \n",
       "6  185750                           Chong Kun Dang   40293.666667  100500   \n",
       "7  192400                          Cuckoo Holdings  179204.666667  177500   \n",
       "8  199800                                  Toolgen   -2514.333333  115400   \n",
       "9  204210                           Mode Tour Reit    3093.333333    3475   \n",
       "\n",
       "             name           eps       bps        per       pbr  \n",
       "0             NaN           NaN       NaN        NaN       NaN  \n",
       "1          CJ E&M   6301.333333   54068.0  15.695091  1.829178  \n",
       "2             NaN           NaN       NaN        NaN       NaN  \n",
       "3          E-mart  18268.166667  295780.0  13.931338  0.860437  \n",
       "4             NaN           NaN       NaN        NaN       NaN  \n",
       "5         Samyang   5741.000000  108090.0  14.283226  0.758627  \n",
       "6  Chong Kun Dang   3990.333333   40684.0  25.185866  2.470259  \n",
       "7             NaN           NaN       NaN        NaN       NaN  \n",
       "8             NaN           NaN       NaN        NaN       NaN  \n",
       "9  Mode Tour Reit     85.166667    5335.0  40.802348  0.651359  "
      ]
     },
     "execution_count": 6,
     "metadata": {},
     "output_type": "execute_result"
    }
   ],
   "source": [
    "pd.merge(df1, df2, on='id', how='left')"
   ]
  }
 ],
 "metadata": {
  "colab": {
   "provenance": []
  },
  "kernelspec": {
   "display_name": "Python 3 (ipykernel)",
   "language": "python",
   "name": "python3"
  },
  "language_info": {
   "codemirror_mode": {
    "name": "ipython",
    "version": 3
   },
   "file_extension": ".py",
   "mimetype": "text/x-python",
   "name": "python",
   "nbconvert_exporter": "python",
   "pygments_lexer": "ipython3",
   "version": "3.8.9"
  }
 },
 "nbformat": 4,
 "nbformat_minor": 5
}
