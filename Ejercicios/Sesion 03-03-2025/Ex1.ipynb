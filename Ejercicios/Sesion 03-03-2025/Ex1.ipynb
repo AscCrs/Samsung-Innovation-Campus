{
 "cells": [
  {
   "cell_type": "code",
   "execution_count": 19,
   "metadata": {},
   "outputs": [
    {
     "name": "stdout",
     "output_type": "stream",
     "text": [
      "GPU Disponible:  []\n"
     ]
    }
   ],
   "source": [
    "import tensorflow as tf\n",
    "print(\"GPU Disponible: \", tf.config.list_physical_devices('GPU'))"
   ]
  },
  {
   "cell_type": "code",
   "execution_count": 4,
   "metadata": {},
   "outputs": [
    {
     "name": "stdout",
     "output_type": "stream",
     "text": [
      "Version de Tensorflow:  2.18.0\n"
     ]
    }
   ],
   "source": [
    "import numpy as np\n",
    "\n",
    "print(\"Version de Tensorflow: \", tf.__version__)"
   ]
  },
  {
   "cell_type": "code",
   "execution_count": 6,
   "metadata": {},
   "outputs": [
    {
     "name": "stdout",
     "output_type": "stream",
     "text": [
      "Tensor t_a:  tf.Tensor([1 2 3], shape=(3,), dtype=int32)\n",
      "Tensor t_b:  tf.Tensor([4 5 6], shape=(3,), dtype=int32)\n"
     ]
    }
   ],
   "source": [
    "a = np.array([1, 2, 3], dtype=np.int32)\n",
    "b = [4, 5, 6]\n",
    "\n",
    "t_a = tf.convert_to_tensor(a)\n",
    "t_b = tf.convert_to_tensor(b)\n",
    "\n",
    "print(\"Tensor t_a: \", t_a)\n",
    "print(\"Tensor t_b: \", t_b)"
   ]
  },
  {
   "cell_type": "code",
   "execution_count": 8,
   "metadata": {},
   "outputs": [
    {
     "name": "stdout",
     "output_type": "stream",
     "text": [
      "Es 'a' un tensor?  False\n",
      "Es 't_b' un tensor?  True\n"
     ]
    }
   ],
   "source": [
    "print(\"Es 'a' un tensor? \", tf.is_tensor(a))\n",
    "print(\"Es 't_b' un tensor? \", tf.is_tensor(t_b))"
   ]
  },
  {
   "cell_type": "code",
   "execution_count": 9,
   "metadata": {},
   "outputs": [
    {
     "name": "stdout",
     "output_type": "stream",
     "text": [
      "Tensor de unos:  tf.Tensor(\n",
      "[[1. 1. 1.]\n",
      " [1. 1. 1.]], shape=(2, 3), dtype=float32)\n",
      "Tensor de unos como array de numpy:  [[1. 1. 1.]\n",
      " [1. 1. 1.]]\n"
     ]
    }
   ],
   "source": [
    "t_ones = tf.ones((2, 3))\n",
    "print(\"Tensor de unos: \", t_ones)\n",
    "\n",
    "print(\"Tensor de unos como array de numpy: \", t_ones.numpy())"
   ]
  },
  {
   "cell_type": "code",
   "execution_count": 10,
   "metadata": {},
   "outputs": [
    {
     "name": "stdout",
     "output_type": "stream",
     "text": [
      "Tensor constante:  tf.Tensor([1.2       5.        3.1415927], shape=(3,), dtype=float32)\n"
     ]
    }
   ],
   "source": [
    "const_tensor = tf.constant([1.2, 5, np.pi], dtype=tf.float32)\n",
    "print(\"Tensor constante: \", const_tensor)"
   ]
  },
  {
   "cell_type": "code",
   "execution_count": 11,
   "metadata": {},
   "outputs": [
    {
     "name": "stdout",
     "output_type": "stream",
     "text": [
      "Tensor lleno de unos:  tf.Tensor(\n",
      "[[1 1 1]\n",
      " [1 1 1]], shape=(2, 3), dtype=int32)\n"
     ]
    }
   ],
   "source": [
    "tensor_lleno = tf.fill((2, 3), 1)\n",
    "print(\"Tensor lleno de unos: \", tensor_lleno)"
   ]
  },
  {
   "cell_type": "code",
   "execution_count": 12,
   "metadata": {},
   "outputs": [
    {
     "name": "stdout",
     "output_type": "stream",
     "text": [
      "Tensor one_hot:  tf.Tensor(\n",
      "[[1. 0. 0. 0.]\n",
      " [0. 1. 0. 0.]\n",
      " [0. 0. 1. 0.]], shape=(3, 4), dtype=float32)\n"
     ]
    }
   ],
   "source": [
    "one_hot_tensor = tf.one_hot([0, 1, 2], 4)\n",
    "\n",
    "print(\"Tensor one_hot: \", one_hot_tensor)"
   ]
  },
  {
   "cell_type": "code",
   "execution_count": 13,
   "metadata": {},
   "outputs": [
    {
     "name": "stdout",
     "output_type": "stream",
     "text": [
      "Nuevo tipo de dato de t_a_new:  tf.Tensor([1 2 3], shape=(3,), dtype=int64)\n"
     ]
    }
   ],
   "source": [
    "t_a_new = tf.cast(t_a, tf.int64)\n",
    "print(\"Nuevo tipo de dato de t_a_new: \", t_a_new)"
   ]
  },
  {
   "cell_type": "code",
   "execution_count": 14,
   "metadata": {},
   "outputs": [
    {
     "name": "stdout",
     "output_type": "stream",
     "text": [
      "Forma original:  (3, 5)  --> Forma transpuesta:  (5, 3)\n"
     ]
    }
   ],
   "source": [
    "t = tf.random.uniform(shape=(3, 5))\n",
    "t_tr = tf.transpose(t)\n",
    "print(\"Forma original: \", t.shape, \" --> Forma transpuesta: \", t_tr.shape)"
   ]
  },
  {
   "cell_type": "code",
   "execution_count": 15,
   "metadata": {},
   "outputs": [
    {
     "name": "stdout",
     "output_type": "stream",
     "text": [
      "Nueva forma del tensor:  (5, 6)\n"
     ]
    }
   ],
   "source": [
    "t = tf.zeros((30,))\n",
    "t_reshape = tf.reshape(t, shape=(5, 6))\n",
    "print(\"Nueva forma del tensor: \", t_reshape.shape)"
   ]
  },
  {
   "cell_type": "code",
   "execution_count": 17,
   "metadata": {},
   "outputs": [
    {
     "name": "stdout",
     "output_type": "stream",
     "text": [
      "Forma original:  (1, 2, 1, 4, 1)  --> Forma comprimida:  (1, 2, 4)\n"
     ]
    }
   ],
   "source": [
    "t = tf.zeros((1, 2, 1, 4, 1))\n",
    "\n",
    "t_sqz = tf.squeeze(t, axis=(2, 4))\n",
    "print(\"Forma original: \", t.shape, \" --> Forma comprimida: \", t_sqz.shape)"
   ]
  },
  {
   "cell_type": "code",
   "execution_count": 20,
   "metadata": {},
   "outputs": [
    {
     "name": "stdout",
     "output_type": "stream",
     "text": [
      "Resultado de la multiplicacion [[-0.26996338 -0.87363994]\n",
      " [-0.01652772 -0.17496566]\n",
      " [-0.296179   -0.13944866]\n",
      " [-0.7272108   0.13463594]\n",
      " [-0.40087393  0.00445268]]\n"
     ]
    }
   ],
   "source": [
    "tf.random.set_seed(1)\n",
    "\n",
    "t1 = tf.random.uniform(shape=(5, 2), minval=-1.0, maxval=1.0)\n",
    "t2 = tf.random.normal(shape=(5, 2), mean=0.0, stddev=1.0)\n",
    "\n",
    "t3 = tf.multiply(t1, t2).numpy()\n",
    "print(\"Resultado de la multiplicacion\", t3)"
   ]
  },
  {
   "cell_type": "code",
   "execution_count": 21,
   "metadata": {},
   "outputs": [
    {
     "name": "stdout",
     "output_type": "stream",
     "text": [
      "Media de t1:  tf.Tensor([0.08957257 0.2074099 ], shape=(2,), dtype=float32)\n"
     ]
    }
   ],
   "source": [
    "t4 = tf.math.reduce_mean(t1, axis=0)\n",
    "print(\"Media de t1: \", t4)"
   ]
  },
  {
   "cell_type": "code",
   "execution_count": 22,
   "metadata": {},
   "outputs": [
    {
     "name": "stdout",
     "output_type": "stream",
     "text": [
      "Resultado de la multiplicacion matricial:  [[-1.1436033   1.1154624  -0.8695717  -0.3210435   0.8555103 ]\n",
      " [ 0.2480186  -0.19149339  0.2504958  -0.0644026  -0.3307204 ]\n",
      " [-0.47782415  0.40717956 -0.43562764  0.02238911  0.5270062 ]\n",
      " [ 0.52479297 -0.23352614  0.74080014 -0.5925749  -1.1940588 ]\n",
      " [-0.09918742  0.26019508  0.12526006 -0.46231267 -0.39642125]]\n"
     ]
    }
   ],
   "source": [
    "t5 = tf.linalg.matmul(t1, t2, transpose_b=True)\n",
    "print(\"Resultado de la multiplicacion matricial: \", t5.numpy())"
   ]
  },
  {
   "cell_type": "code",
   "execution_count": 23,
   "metadata": {},
   "outputs": [
    {
     "name": "stdout",
     "output_type": "stream",
     "text": [
      "Tensor original:  [0.8292774  0.634228   0.5147276  0.39108086 0.5809028  0.04848182]\n",
      "Resultado dividido en 3 partes:  [array([0.8292774, 0.634228 ], dtype=float32), array([0.5147276 , 0.39108086], dtype=float32), array([0.5809028 , 0.04848182], dtype=float32)]\n"
     ]
    }
   ],
   "source": [
    "t = tf.random.uniform((6,))\n",
    "print(\"Tensor original: \", t.numpy())\n",
    "\n",
    "t_split = tf.split(t, 3)\n",
    "print(\"Resultado dividido en 3 partes: \", [item.numpy() for item in t_split])"
   ]
  },
  {
   "cell_type": "code",
   "execution_count": 25,
   "metadata": {},
   "outputs": [
    {
     "name": "stdout",
     "output_type": "stream",
     "text": [
      "Tensor concatenado:  [1. 1. 1. 0. 0.]\n"
     ]
    }
   ],
   "source": [
    "A = tf.ones((3,))\n",
    "B = tf.zeros((2,))\n",
    "\n",
    "C = tf.concat([A, B], axis=0)\n",
    "print(\"Tensor concatenado: \", C.numpy())"
   ]
  },
  {
   "cell_type": "code",
   "execution_count": 26,
   "metadata": {},
   "outputs": [
    {
     "name": "stdout",
     "output_type": "stream",
     "text": [
      "Tensor apilado:  [[1. 0.]\n",
      " [1. 0.]\n",
      " [1. 0.]]\n"
     ]
    }
   ],
   "source": [
    "A = tf.ones((3, ))\n",
    "B = tf.zeros((3, ))\n",
    "\n",
    "S = tf.stack([A, B], axis=1)\n",
    "print(\"Tensor apilado: \", S.numpy())\n"
   ]
  }
 ],
 "metadata": {
  "kernelspec": {
   "display_name": "env",
   "language": "python",
   "name": "python3"
  },
  "language_info": {
   "codemirror_mode": {
    "name": "ipython",
    "version": 3
   },
   "file_extension": ".py",
   "mimetype": "text/x-python",
   "name": "python",
   "nbconvert_exporter": "python",
   "pygments_lexer": "ipython3",
   "version": "3.10.11"
  }
 },
 "nbformat": 4,
 "nbformat_minor": 2
}
