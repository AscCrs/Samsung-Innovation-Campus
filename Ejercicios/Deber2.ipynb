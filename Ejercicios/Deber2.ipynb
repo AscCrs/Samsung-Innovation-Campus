{
 "cells": [
  {
   "cell_type": "markdown",
   "metadata": {},
   "source": [
    "Alumno: Ascencio Cruz Cristopher Eduardo"
   ]
  },
  {
   "cell_type": "markdown",
   "metadata": {},
   "source": [
    "# Entregables\n",
    "\n",
    "- Código completo que resuelve los pasos indicados\n",
    "- Gráficas a criterio personal de cada uno\n",
    "- Código comentado línea por línea"
   ]
  },
  {
   "cell_type": "markdown",
   "metadata": {},
   "source": [
    "# Objetivo de la práctica:\n",
    "El objetivo de este ejercicio es aplicar funciones estadísticas sobre una matriz de calificaciones utilizando la librería NumPy de Python. Analizarás datos de estudiantes y sus calificacionesen diferentes asignaturas, y calcularás diversas estadísticas"
   ]
  },
  {
   "cell_type": "code",
   "execution_count": 1,
   "metadata": {},
   "outputs": [],
   "source": [
    "# Importación de las librerias necesarias \n",
    "import numpy as np \n",
    "import matplotlib.pyplot as plt "
   ]
  },
  {
   "cell_type": "code",
   "execution_count": 2,
   "metadata": {},
   "outputs": [
    {
     "data": {
      "text/plain": [
       "<Figure size 1200x600 with 0 Axes>"
      ]
     },
     "execution_count": 2,
     "metadata": {},
     "output_type": "execute_result"
    },
    {
     "data": {
      "text/plain": [
       "<Figure size 1200x600 with 0 Axes>"
      ]
     },
     "metadata": {},
     "output_type": "display_data"
    }
   ],
   "source": [
    "# Inicialización de la figura a graficar\n",
    "plt.figure(figsize=(12, 6))"
   ]
  },
  {
   "cell_type": "markdown",
   "metadata": {},
   "source": [
    "# Crear la matriz de calificaciones\n",
    "Utiliza NumPy para crear una matriz 5x4 que contenga las calificaciones de 5 estudiantes en 4 asignaturas. \n",
    "Imprime la matriz para asegurarte de que se haya creado correctamente. \n",
    "\n",
    "- Estudiante 1: [7, 8, 6, 5]\n",
    "- Estudiante 2: [9, 7, 8, 6]\n",
    "- Estudiante 3: [6, 5, 9, 7]\n",
    "- Estudiante 4: [8, 6, 7, 8]\n",
    "- Estudiante 5: [5, 4, 6, 5]"
   ]
  },
  {
   "cell_type": "code",
   "execution_count": 3,
   "metadata": {},
   "outputs": [
    {
     "name": "stdout",
     "output_type": "stream",
     "text": [
      "Matriz de calificaciones:\n",
      "[[ 7  8  6  5]\n",
      " [ 9  7  8  6]\n",
      " [ 6  5  9  7]\n",
      " [ 8  6  7  8]\n",
      " [ 5  4  6  5]]\n"
     ]
    }
   ],
   "source": [
    "'''\n",
    "Matriz de 5x4 que representa las calificaciones de 5 estudiantes\n",
    "Donde:\n",
    " - Cada fila representa las calificaciones de un estudiante \n",
    " - Cada fila columna representa las calificaciones obtenidas por asignatura \n",
    "'''\n",
    "calificaciones = np.array([\n",
    "    [7, 8, 6, 5],\n",
    "    [9, 7, 8, 6],\n",
    "    [6, 5, 9, 7],\n",
    "    [8, 6, 7, 8],\n",
    "    [5, 4, 6, 5]\n",
    "])\n",
    "\n",
    "# Formatear e imprimir la matriz\n",
    "print(\"Matriz de calificaciones:\")\n",
    "\"\"\"\n",
    "Formatea e imprime la matriz de calificaciones.\n",
    "\n",
    "La función `np.array2string` convierte la matriz `calificaciones` en una cadena de texto con un formato específico.\n",
    "\n",
    "Parámetros:\n",
    "- calificaciones: numpy.ndarray\n",
    "    Matriz de 5x4 que contiene las calificaciones de 5 estudiantes en 4 asignaturas.\n",
    "- formatter: dict\n",
    "    Un diccionario que especifica cómo formatear los elementos de la matriz. En este caso, se utiliza el formato `'{:2d}'.format` para los enteros, lo que asegura que cada número entero se imprima con al menos dos dígitos de ancho, alineando así las calificaciones en columnas.\n",
    "\n",
    "Salida:\n",
    "- Una cadena de texto que representa la matriz de calificaciones con el formato especificado.\n",
    "\"\"\"\n",
    "print(np.array2string(calificaciones, formatter={'int': '{:2d}'.format}))"
   ]
  },
  {
   "cell_type": "markdown",
   "metadata": {},
   "source": [
    "Definición de una función utilizada para darle formato a las salidas que puedan ser repetitivas. "
   ]
  },
  {
   "cell_type": "code",
   "execution_count": 4,
   "metadata": {},
   "outputs": [],
   "source": [
    "\n",
    "def formatear_salida(matriz, texto: str) -> None:\n",
    "    \"\"\"\n",
    "    Formatea y muestra los elementos de una matriz con un texto descriptivo.\n",
    "\n",
    "    Args:\n",
    "        matriz (list of numpy.ndarray): Lista de arrays de numpy a formatear y mostrar.\n",
    "        texto (str): Texto descriptivo que se mostrará antes del índice y el elemento.\n",
    "\n",
    "    Returns:\n",
    "        None\n",
    "\n",
    "    Ejemplo de uso:\n",
    "        matriz = np.array([1.234, 5.678])\n",
    "        formatear_salida(matriz, \"Elemento\")\n",
    "         Elemento 1: 1.23\n",
    "         Elemento 2: 5.67\n",
    "    \"\"\"\n",
    "    for contador, elemento in enumerate(matriz):\n",
    "        print(f\" {texto} {contador + 1}: {elemento.round(2)}\")"
   ]
  },
  {
   "cell_type": "markdown",
   "metadata": {},
   "source": [
    "# Calcular estadísticas básicas\n",
    "\n",
    "Funciones a utilizar:\n",
    "\n",
    "`np.mean()`\n",
    "`np.var()`\n",
    "`np.std()`"
   ]
  },
  {
   "cell_type": "markdown",
   "metadata": {},
   "source": [
    "## Media por Asignatura\n",
    "Calcula la media de las calificaciones por cada asignatura (es decir, la media de cada columna de la matriz)."
   ]
  },
  {
   "cell_type": "code",
   "execution_count": 5,
   "metadata": {},
   "outputs": [
    {
     "name": "stdout",
     "output_type": "stream",
     "text": [
      "Media por asignatura:\n",
      " Asignatura 1: 7.0\n",
      " Asignatura 2: 6.0\n",
      " Asignatura 3: 7.2\n",
      " Asignatura 4: 6.2\n"
     ]
    }
   ],
   "source": [
    "# Calcular la media por asignatura\n",
    "mean = lambda matriz : np.mean(matriz, axis = 0)\n",
    "\"\"\"\n",
    "Calcula la media por asignatura de una matriz de calificaciones.\n",
    "    \n",
    "Nota:\n",
    "    axis=0: Calcula la media a lo largo de las columnas. \n",
    "    Esto significa que se toma la media de cada columna, \n",
    "    lo que resulta en un arreglo donde cada elemento es \n",
    "    la media de una asignatura (columna).\n",
    "\n",
    "Parámetros:\n",
    "matriz (numpy.ndarray): Una matriz de calificaciones donde cada fila representa un estudiante y cada columna representa una asignatura.\n",
    "\n",
    "Devuelve:\n",
    "numpy.ndarray: Un arreglo que contiene la media de las calificaciones por cada asignatura.\n",
    "\"\"\"\n",
    "media_asignatura = mean(calificaciones)\n",
    "print(\"Media por asignatura:\")\n",
    "formatear_salida(media_asignatura, \"Asignatura\")\n"
   ]
  },
  {
   "cell_type": "markdown",
   "metadata": {},
   "source": [
    "## Varianza por estudiante\n",
    "Calcula la varianza de las calificaciones por cada estudiante (es decir, la varianza de cada fila de la matriz)."
   ]
  },
  {
   "cell_type": "code",
   "execution_count": 6,
   "metadata": {},
   "outputs": [
    {
     "name": "stdout",
     "output_type": "stream",
     "text": [
      "\n",
      "Varianza por estudiante:\n",
      " Estudiante 1: 1.25\n",
      " Estudiante 2: 1.25\n",
      " Estudiante 3: 2.19\n",
      " Estudiante 4: 0.69\n",
      " Estudiante 5: 0.5\n"
     ]
    }
   ],
   "source": [
    "# Calcular la varianza por estudiante\n",
    "var = lambda matriz : np.var(matriz, axis = 1)\n",
    "\"\"\"\n",
    "Calcula la varianza de las calificaciones por estudiante.\n",
    "\n",
    "Parámetros:\n",
    "matriz (numpy.ndarray): Una matriz de calificaciones donde cada fila representa a un estudiante y cada columna representa una calificación.\n",
    "\n",
    "Valor de retorno:\n",
    "numpy.ndarray: Un arreglo que contiene la varianza de las calificaciones para cada estudiante.\n",
    "\n",
    "Nota:\n",
    "    El parámetro `axis=1` indica que la \n",
    "    varianza se calcula a lo largo de las \n",
    "    filas, es decir, para cada estudiante i\n",
    "    ndividualmente.\n",
    "\"\"\"\n",
    "\n",
    "varianza_estudiante = var(calificaciones)\n",
    "print(\"\\nVarianza por estudiante:\")\n",
    "formatear_salida(varianza_estudiante, \"Estudiante\")"
   ]
  },
  {
   "cell_type": "markdown",
   "metadata": {},
   "source": [
    "## Desviación estandar de la matriz completa\n",
    "Calcula la desviación estándar de todas las calificaciones de la matriz."
   ]
  },
  {
   "cell_type": "code",
   "execution_count": 7,
   "metadata": {},
   "outputs": [
    {
     "name": "stdout",
     "output_type": "stream",
     "text": [
      "\n",
      "Desviación estándar de la matriz completa: 1.39\n"
     ]
    }
   ],
   "source": [
    "# Calcular desviación estándar de la matriz completa\n",
    "standard = lambda matriz: np.std(matriz)\n",
    "\"\"\"\n",
    "Calcula la desviación estándar de una matriz.\n",
    "\n",
    "Parámetros:\n",
    "matriz (numpy.ndarray): La matriz de la cual se calculará la desviación estándar.\n",
    "\n",
    "Devuelve:\n",
    "float: La desviación estándar de los elementos de la matriz.\n",
    "\"\"\"\n",
    "desviacion_estandar_total = standard(calificaciones)\n",
    "print(f\"\\nDesviación estándar de la matriz completa: {desviacion_estandar_total:.2f}\")"
   ]
  },
  {
   "cell_type": "markdown",
   "metadata": {},
   "source": [
    "# Generación de gráficos\n",
    "## Media por asignatura"
   ]
  },
  {
   "cell_type": "code",
   "execution_count": 8,
   "metadata": {},
   "outputs": [
    {
     "data": {
      "text/plain": [
       "Text(0, 0.5, 'Media de Calificaciones')"
      ]
     },
     "execution_count": 8,
     "metadata": {},
     "output_type": "execute_result"
    },
    {
     "data": {
      "image/png": "[encoded data removed]",
      "text/plain": [
       "<Figure size 640x480 with 1 Axes>"
      ]
     },
     "metadata": {},
     "output_type": "display_data"
    }
   ],
   "source": [
    "\"\"\"\n",
    "Genera una gráfica de barras que muestra la media de calificaciones por asignatura.\n",
    "\n",
    "Variables:\n",
    "    media_asignatura (list): Lista de valores que representan la media de calificaciones para cada asignatura.\n",
    "\n",
    "Gráfica:\n",
    "    - Eje X: Asignaturas (numeradas del 1 al 4).\n",
    "    - Eje Y: Media de calificaciones.\n",
    "    - Color de las barras: 'skyblue'.\n",
    "    - Título: \"Media por Asignatura\".\n",
    "    - Etiqueta del eje X: \"Asignatura\".\n",
    "    - Etiqueta del eje Y: \"Media de Calificaciones\".\n",
    "\"\"\"\n",
    "# plt.subplot(1, 2, 1)\n",
    "plt.bar(range(1, 5), media_asignatura, color='skyblue')\n",
    "plt.title(\"Media por Asignatura\")\n",
    "plt.xlabel(\"Asignatura\")\n",
    "plt.ylabel(\"Media de Calificaciones\")"
   ]
  },
  {
   "cell_type": "markdown",
   "metadata": {},
   "source": [
    "# Gráfica de la varianza por estudiante"
   ]
  },
  {
   "cell_type": "code",
   "execution_count": 9,
   "metadata": {},
   "outputs": [
    {
     "data": {
      "text/plain": [
       "Text(0, 0.5, 'Varianza de Calificaciones')"
      ]
     },
     "execution_count": 9,
     "metadata": {},
     "output_type": "execute_result"
    },
    {
     "data": {
      "image/png": "[encoded data removed]",
      "text/plain": [
       "<Figure size 640x480 with 1 Axes>"
      ]
     },
     "metadata": {},
     "output_type": "display_data"
    }
   ],
   "source": [
    "# plt.subplot(1, 2, 2)\n",
    "\"\"\"\n",
    "This code snippet creates a bar chart using matplotlib to visualize the variance of grades for students.\n",
    "\n",
    "- The `plt.bar` function is used to create a bar chart.\n",
    "    - The x-axis represents the students, ranging from 1 to 5.\n",
    "    - The y-axis represents the variance of grades for each student.\n",
    "    - The bars are colored 'salmon'.\n",
    "- The `plt.title` function sets the title of the chart to \"Varianza por Estudiante\".\n",
    "- The `plt.xlabel` function labels the x-axis as \"Estudiante\".\n",
    "- The `plt.ylabel` function labels the y-axis as \"Varianza de Calificaciones\".\n",
    "\"\"\"\n",
    "plt.bar(range(1, 6), varianza_estudiante, color='salmon')\n",
    "plt.title(\"Varianza por Estudiante\")\n",
    "plt.xlabel(\"Estudiante\")\n",
    "plt.ylabel(\"Varianza de Calificaciones\")"
   ]
  },
  {
   "cell_type": "markdown",
   "metadata": {},
   "source": [
    "# Obtener valores únicos y ordenarlos\n",
    "Utiliza `np.unique()` para obtener los valores únicos de las calificaciones en toda la matriz.\n",
    "Luego, utiliza `sorted(set())` para ordenar esos valores de mayor a menor"
   ]
  },
  {
   "cell_type": "code",
   "execution_count": 10,
   "metadata": {},
   "outputs": [
    {
     "name": "stdout",
     "output_type": "stream",
     "text": [
      "\n",
      "Valores únicos ordenados: [4, 5, 6, 7, 8, 9]\n"
     ]
    }
   ],
   "source": [
    "\"\"\"\n",
    "Obtiene los valores únicos de la lista de calificaciones, los ordena y los convierte a enteros.\n",
    "\n",
    "1. Se utiliza `np.unique` para obtener los valores únicos de la lista `calificaciones`.\n",
    "2. Se usa `map(int, ...)` para convertir cada valor único a un entero.\n",
    "3. Se ordenan los valores únicos convertidos a enteros utilizando `sorted`.\n",
    "4. Se imprime la lista de valores únicos ordenados.\n",
    "\n",
    "Nota: \n",
    "    Se utilizó `map` en lugar de `set` para mostrar los datos porque `map` \n",
    "    permite aplicar una función (en este caso, `int`) a cada elemento de \n",
    "    una secuencia, mientras que `set` solo elimina duplicados y no realiza \n",
    "    la conversión de tipo. Al usar `map`, nos aseguramos de que todos los \n",
    "    valores sean convertidos a enteros antes de ser ordenados.\n",
    "\"\"\"\n",
    "valores_unicos = sorted(map(int, np.unique(calificaciones)))\n",
    "print(\"\\nValores únicos ordenados:\", valores_unicos)"
   ]
  },
  {
   "cell_type": "markdown",
   "metadata": {},
   "source": [
    "# Filtrar estudiantes con calificaciones mayores a 6\n",
    "Filtra los estudiantes que tienen calificaciones mayores a 6 en todas las asignaturas. \n",
    "Luego, modifica la matriz reemplazando todas las calificaciones menores o iguales a 6 por 10.\n",
    "Funciones a utilizar:\n",
    "`np.all()` para filtrar por filas.\n",
    "`np.where` para reemplazar los valores."
   ]
  },
  {
   "cell_type": "markdown",
   "metadata": {},
   "source": [
    "## Estudiantes con calificaciones mayores a 6 en todas las asignaturas"
   ]
  },
  {
   "cell_type": "code",
   "execution_count": 11,
   "metadata": {},
   "outputs": [
    {
     "name": "stdout",
     "output_type": "stream",
     "text": [
      "\n",
      "Estudiantes con todas las calificaciones mayores a 6: []\n"
     ]
    }
   ],
   "source": [
    "\n",
    "filtro_mayores_6 = np.all(calificaciones > 6, axis=1)\n",
    "\"\"\"\n",
    "Filtra y encuentra estudiantes con todas las calificaciones mayores a 6.\n",
    "\n",
    "Este fragmento de código utiliza un filtro para identificar a los estudiantes\n",
    "cuyas calificaciones son todas mayores a 6. Luego, imprime los índices de \n",
    "estos estudiantes.\n",
    "\n",
    "Variables:\n",
    "    filtro_mayores_6 (numpy.ndarray): Array booleano que indica si todas las \n",
    "                                      calificaciones de cada estudiante son \n",
    "                                      mayores a 6.\n",
    "    estudiantes_mayores_6 (numpy.ndarray): Array de índices de los estudiantes \n",
    "                                           que cumplen con la condición del \n",
    "                                           filtro.\n",
    "\n",
    "Salida:\n",
    "    Imprime los índices de los estudiantes con todas las calificaciones \n",
    "    mayores a 6.\n",
    "\"\"\"\n",
    "estudiantes_mayores_6 = np.where(filtro_mayores_6)[0] + 1\n",
    "print(\"\\nEstudiantes con todas las calificaciones mayores a 6:\", estudiantes_mayores_6)"
   ]
  },
  {
   "cell_type": "markdown",
   "metadata": {},
   "source": [
    "## Reemplazo de calificaciones menores o iguales a 6 con 10"
   ]
  },
  {
   "cell_type": "code",
   "execution_count": 12,
   "metadata": {},
   "outputs": [
    {
     "name": "stdout",
     "output_type": "stream",
     "text": [
      "\n",
      "Matriz con calificaciones menores o iguales a 6 reemplazadas por 10:\n",
      "[[ 7  8 10 10]\n",
      " [ 9  7  8 10]\n",
      " [10 10  9  7]\n",
      " [ 8 10  7  8]\n",
      " [10 10 10 10]] \n",
      "\n"
     ]
    }
   ],
   "source": [
    "\n",
    "calificaciones_modificadas = np.where(calificaciones <= 6, 10, calificaciones)\n",
    "\"\"\"\n",
    "Reemplaza las calificaciones menores o iguales a 6 con 10 en una matriz de calificaciones y la imprime.\n",
    "\n",
    "Utiliza la función np.where para identificar las calificaciones que son menores o iguales a 6 y las reemplaza con 10.\n",
    "Luego, imprime la matriz modificada con un formato específico para los enteros.\n",
    "\n",
    "Variables:\n",
    "    calificaciones (numpy.ndarray): Matriz original de calificaciones.\n",
    "    calificaciones_modificadas (numpy.ndarray): Matriz de calificaciones con valores menores o iguales a 6 reemplazados por 10.\n",
    "\n",
    "Salida:\n",
    "    Imprime la matriz modificada con calificaciones menores o iguales a 6 reemplazadas por 10.\n",
    "\"\"\"\n",
    "print(\"\\nMatriz con calificaciones menores o iguales a 6 reemplazadas por 10:\")\n",
    "print(np.array2string(calificaciones_modificadas, formatter={'int': '{:2d}'.format}), \"\\n\")"
   ]
  },
  {
   "cell_type": "markdown",
   "metadata": {},
   "source": [
    "# Calcular estadísticas por asignatura\n",
    "Calcular las siguientes estadísticas por cada asignatura: $\\\\$\n",
    "Máximo: La calificación más alta. $\\\\$\n",
    "Mínimo: La calificación más baja. $\\\\$\n",
    "Mediana: El valor central de las calificaciones. $\\\\$\n",
    "Funciones a utilizar: $\\\\$\n",
    "`np.max()` $\\\\$\n",
    "`np.min()` $\\\\$\n",
    "`np.median()`\n"
   ]
  },
  {
   "cell_type": "markdown",
   "metadata": {},
   "source": [
    "## Calcular valores máximos"
   ]
  },
  {
   "cell_type": "code",
   "execution_count": 13,
   "metadata": {},
   "outputs": [
    {
     "name": "stdout",
     "output_type": "stream",
     "text": [
      "Valores máximos por asignatura:\n",
      " Asignatura 1: 9\n",
      " Asignatura 2: 8\n",
      " Asignatura 3: 9\n",
      " Asignatura 4: 8\n"
     ]
    }
   ],
   "source": [
    "max_por_asignatura = np.max(calificaciones, axis=0)\n",
    "print(\"Valores máximos por asignatura:\")\n",
    "formatear_salida(max_por_asignatura, \"Asignatura\")"
   ]
  },
  {
   "cell_type": "markdown",
   "metadata": {},
   "source": [
    "## Calcular valores mínimos"
   ]
  },
  {
   "cell_type": "code",
   "execution_count": 14,
   "metadata": {},
   "outputs": [
    {
     "name": "stdout",
     "output_type": "stream",
     "text": [
      "\n",
      "Valores mínimos por asignatura:\n",
      " Asignatura 1: 5\n",
      " Asignatura 2: 4\n",
      " Asignatura 3: 6\n",
      " Asignatura 4: 5\n"
     ]
    }
   ],
   "source": [
    "min_por_asignatura = np.min(calificaciones, axis=0)\n",
    "print(\"\\nValores mínimos por asignatura:\")\n",
    "formatear_salida(min_por_asignatura, \"Asignatura\")"
   ]
  },
  {
   "cell_type": "markdown",
   "metadata": {},
   "source": [
    "## Calcular medianas por asignatura"
   ]
  },
  {
   "cell_type": "code",
   "execution_count": 15,
   "metadata": {},
   "outputs": [
    {
     "name": "stdout",
     "output_type": "stream",
     "text": [
      "\n",
      "Medianas por asignatura:\n",
      " Asignatura 1: 7.0\n",
      " Asignatura 2: 6.0\n",
      " Asignatura 3: 7.0\n",
      " Asignatura 4: 6.0\n"
     ]
    }
   ],
   "source": [
    "mediana_por_asignatura = np.median(calificaciones, axis=0)\n",
    "print(\"\\nMedianas por asignatura:\")\n",
    "formatear_salida(mediana_por_asignatura, \"Asignatura\")"
   ]
  },
  {
   "cell_type": "markdown",
   "metadata": {},
   "source": [
    "# Crear un resumen completo\n",
    "Imprime un resumen que contenga:\n",
    "La media, máximo, mínimo, mediana, y los valores únicos ordenados de cada asignatura. $\\\\$\n",
    "El resumen debe verse de la siguiente forma:$\\\\$\n",
    "\n",
    "Asignatura 1 (Matemáticas):$\\\\$\n",
    "Media: ...$\\\\$\n",
    "Máximo: ...$\\\\$\n",
    "Mínimo: ...$\\\\$\n",
    "Mediana: ...$\\\\$\n",
    "Valores únicos: ..."
   ]
  },
  {
   "cell_type": "code",
   "execution_count": 16,
   "metadata": {},
   "outputs": [
    {
     "name": "stdout",
     "output_type": "stream",
     "text": [
      "Resumen de estadísticas por asignatura:\n",
      "\n",
      " Asignatura 1:\n",
      "   Media: 7.00\n",
      "   Máximo: 9\n",
      "   Mínimo: 5\n",
      "   Mediana: 7.0\n",
      "   Valores únicos: [5, 6, 7, 8, 9]\n",
      "\n",
      " Asignatura 2:\n",
      "   Media: 6.00\n",
      "   Máximo: 8\n",
      "   Mínimo: 4\n",
      "   Mediana: 6.0\n",
      "   Valores únicos: [4, 5, 6, 7, 8]\n",
      "\n",
      " Asignatura 3:\n",
      "   Media: 7.20\n",
      "   Máximo: 9\n",
      "   Mínimo: 6\n",
      "   Mediana: 7.0\n",
      "   Valores únicos: [6, 6, 7, 8, 9]\n",
      "\n",
      " Asignatura 4:\n",
      "   Media: 6.20\n",
      "   Máximo: 8\n",
      "   Mínimo: 5\n",
      "   Mediana: 6.0\n",
      "   Valores únicos: [5, 5, 6, 7, 8]\n"
     ]
    }
   ],
   "source": [
    "\n",
    "print(\"Resumen de estadísticas por asignatura:\")\n",
    "\"\"\"\n",
    "Imprime un resumen de estadísticas por asignatura.\n",
    "\n",
    "Este fragmento de código recorre las estadísticas de varias asignaturas y las imprime en un formato legible.\n",
    "Las estadísticas incluyen la media, el valor máximo, el valor mínimo, la mediana y los valores únicos de las calificaciones.\n",
    "\n",
    "Variables:\n",
    "- media_asignatura: Lista de medias de calificaciones por asignatura.\n",
    "- max_por_asignatura: Lista de valores máximos de calificaciones por asignatura.\n",
    "- min_por_asignatura: Lista de valores mínimos de calificaciones por asignatura.\n",
    "- mediana_por_asignatura: Lista de medianas de calificaciones por asignatura.\n",
    "- calificaciones: Matriz de calificaciones de los estudiantes.\n",
    "\n",
    "Nota: \n",
    "    La función zip se utiliza para agrupar las listas de \n",
    "    estadísticas (media, máximo, mínimo, mediana y valores únicos) \n",
    "    por asignatura. Esto permite iterar sobre todas las estadísticas \n",
    "    de una asignatura en cada iteración del bucle for, facilitando \n",
    "    la impresión de los resultados.\n",
    "\"\"\"\n",
    "for i, (media, max_val, min_val, mediana, unicos) in enumerate(\n",
    "    zip(media_asignatura, max_por_asignatura, min_por_asignatura, mediana_por_asignatura, np.unique(calificaciones, axis=0).T), start=1\n",
    "):\n",
    "    print(f\"\\n Asignatura {i}:\")\n",
    "    print(f\"   Media: {media:.2f}\")\n",
    "    print(f\"   Máximo: {max_val}\")\n",
    "    print(f\"   Mínimo: {min_val}\")\n",
    "    print(f\"   Mediana: {mediana}\")\n",
    "    print(f\"   Valores únicos: {sorted(map(int, unicos))}\")"
   ]
  }
 ],
 "metadata": {
  "kernelspec": {
   "display_name": "env",
   "language": "python",
   "name": "python3"
  },
  "language_info": {
   "codemirror_mode": {
    "name": "ipython",
    "version": 3
   },
   "file_extension": ".py",
   "mimetype": "text/x-python",
   "name": "python",
   "nbconvert_exporter": "python",
   "pygments_lexer": "ipython3",
   "version": "3.12.7"
  }
 },
 "nbformat": 4,
 "nbformat_minor": 2
}
