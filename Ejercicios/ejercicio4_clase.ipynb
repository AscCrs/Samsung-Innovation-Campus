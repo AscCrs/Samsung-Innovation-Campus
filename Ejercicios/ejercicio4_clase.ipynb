{
 "cells": [
  {
   "cell_type": "code",
   "execution_count": null,
   "metadata": {
    "vscode": {
     "languageId": "plaintext"
    }
   },
   "outputs": [],
   "source": [
    "import numpy as np\n",
    "\n",
    "# Declaracion de una matriz 2D de ejemplo (3x3)\n",
    "matriz = np.array([[1, 2, 3],\n",
    "                  [4, 5, 6],\n",
    "                  [7, 8, 9]])\n",
    "\n",
    "\n",
    "# Acceso a elementos especificos de la matriz\n",
    "print(\"Elemento en la primera fila, primera columna: \", matriz[0, 0]) # 1\n",
    "print(\"Elemento en la segunda fila, tercera columna: \", matriz[1, 2]) # 6\n",
    "\n",
    "# Acceder a una fila completa\n",
    "print(\"Primera fila: \", matriz[0]) # [1 2 3]\n",
    "\n",
    "# Muestra una columna completa\n",
    "print(\"Segunda columna: \", matriz[:, 1]) # [2 5 8]\n",
    "\n",
    "# Muestra un conjunto de la matriz (submatriz)\n",
    "print(\"Submatriz (filas 1 y 2, columnas 1 y 2:\\n\", matriz[0:2, 0:2]) # [[1 2] [4 5]]\n",
    "#0:2 Selecciona las filas desde la indice 0 hasta la indice 2, sin incluir la fila en el indeice 2."
   ]
  }
 ],
 "metadata": {
  "language_info": {
   "name": "python"
  }
 },
 "nbformat": 4,
 "nbformat_minor": 2
}
