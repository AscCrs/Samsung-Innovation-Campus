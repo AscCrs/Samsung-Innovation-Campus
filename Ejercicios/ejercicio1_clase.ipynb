{
 "cells": [
  {
   "cell_type": "code",
   "execution_count": null,
   "metadata": {
    "vscode": {
     "languageId": "plaintext"
    }
   },
   "outputs": [],
   "source": [
    "import matplotlib.pyplot as plt\n",
    "import numpy as np\n",
    "\n",
    "x = np.linspace(-1, 1, 10)\n",
    "\n",
    "f = lambda x : 3 * x + 1\n",
    "\n",
    "if __name__ == '__main__':\n",
    "    plt.figure(figsize=(8, 6))\n",
    "    plt.plot(x, f(x), color='black', linewidth=1.5) \n",
    "\n",
    "    plt.scatter([-1/3, 0], [0, 1], color='black') \n",
    "    plt.text(-1/3, -0.15, r'$-\\frac{1}{3}$', ha='center', va='center', fontsize=12)\n",
    "    plt.text(0.05, 1, '1', ha='center', va='center', fontsize=12)\n",
    "\n",
    "    plt.text(0.9, -0.1, '$x$', ha='center', va='center', fontsize=12)\n",
    "    plt.text(-0.1, 2.9, '$y$', ha='center', va='center', fontsize=12)\n",
    "\n",
    "    plt.text(0.5, 2, r'$f(x) = 3x + 1$', fontsize=12)\n",
    "\n",
    "    plt.axhline(0, color='black', linewidth=0.5)\n",
    "    plt.axvline(0, color='black', linewidth=0.5)\n",
    "    plt.xlim(-1, 1)\n",
    "    plt.ylim(-1, 3)\n",
    "\n",
    "    plt.show()\n"
   ]
  }
 ],
 "metadata": {
  "language_info": {
   "name": "python"
  }
 },
 "nbformat": 4,
 "nbformat_minor": 2
}
