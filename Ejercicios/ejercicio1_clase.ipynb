{
 "cells": [
  {
   "cell_type": "code",
   "execution_count": 11,
   "metadata": {},
   "outputs": [],
   "source": [
    "# Importación de las librerias\n",
    "import matplotlib.pyplot as plt\n",
    "import numpy as np"
   ]
  },
  {
   "cell_type": "markdown",
   "metadata": {},
   "source": [
    "#### Se importan las siguientes librerias:\n",
    "\n",
    "- `matplotlib.pyplot`: Esta librería se utiliza para crear gráficos y visualizaciones en Python. Proporciona una interfaz similar a MATLAB para la creación de gráficos estáticos, animados e interactivos.\n",
    "\n",
    "- `numpy`: Esta librería se utiliza para realizar operaciones matemáticas y lógicas en matrices y arreglos multidimensionales. Es fundamental para el cálculo científico y el análisis de datos en Python."
   ]
  },
  {
   "cell_type": "code",
   "execution_count": 12,
   "metadata": {},
   "outputs": [],
   "source": [
    "x = np.linspace(-1, 1, 10) # Genera un vector de 10 elementos entre -1 y 1"
   ]
  },
  {
   "cell_type": "markdown",
   "metadata": {},
   "source": [
    "#### Genera un array de números equiespaciados entre -1 y 1.\n",
    "\n",
    "Utiliza la función `linspace` de NumPy para crear un array de 10 elementos,\n",
    "donde los valores están distribuidos uniformemente entre -1 y 1.\n",
    "\n",
    "Returns:\n",
    "    `numpy.ndarray`: Array de 10 elementos con valores equiespaciados entre -1 y 1."
   ]
  },
  {
   "cell_type": "code",
   "execution_count": 13,
   "metadata": {},
   "outputs": [
    {
     "data": {
      "text/plain": [
       "'\\n    Params:\\n        x : Valor a evaluar en la función\\n    Return:\\n        El resultado de evaluar x en la función\\n'"
      ]
     },
     "execution_count": 13,
     "metadata": {},
     "output_type": "execute_result"
    }
   ],
   "source": [
    "f = lambda x : 3 * x + 1 # Función f(x) = 3x + 1 evaluada por una expresion lambda\n",
    "'''\n",
    "    Params:\n",
    "        x : Valor a evaluar en la función\n",
    "    Return:\n",
    "        El resultado de evaluar x en la función\n",
    "'''"
   ]
  },
  {
   "cell_type": "markdown",
   "metadata": {},
   "source": [
    "#### ¿Qué es una función lambda?\n",
    "Una función lambda en Python es una pequeña función anónima que se define usando la palabra clave `lambda`. Las funciones lambda pueden tener cualquier número de argumentos, pero solo una expresión. La sintaxis general es:\n",
    "\n",
    "``` Python\n",
    "lambda argumentos: expresión\n",
    "```\n",
    "\n",
    "En el contexto de este ejercicio, se utiliza una expresión lambda para la evaluación de la función:\n",
    "\n",
    "$f(x) = 3x + 1$\n",
    "\n",
    "#### Diferencias con otras funciones\n",
    "- Anonimato: Las funciones lambda son anónimas, lo que significa que no tienen un nombre explícito a menos que se asignen a una variable, como en el ejemplo anterior.\n",
    "- Sintaxis: Las funciones lambda se definen en una sola línea de código, mientras que las funciones normales se definen usando la palabra clave `def` y pueden abarcar múltiples líneas.\n",
    "- Uso: Las funciones lambda son útiles para operaciones simples y rápidas, como argumentos para funciones de orden superior (por ejemplo, `map`, `filter`, `sorted`). Las funciones normales son más adecuadas para operaciones más complejas y reutilizables."
   ]
  },
  {
   "cell_type": "code",
   "execution_count": 14,
   "metadata": {},
   "outputs": [
    {
     "data": {
      "text/plain": [
       "<Figure size 800x600 with 0 Axes>"
      ]
     },
     "execution_count": 14,
     "metadata": {},
     "output_type": "execute_result"
    },
    {
     "data": {
      "text/plain": [
       "<Figure size 800x600 with 0 Axes>"
      ]
     },
     "metadata": {},
     "output_type": "display_data"
    }
   ],
   "source": [
    "plt.figure(figsize=(8, 6)) # Tamaño de la figura"
   ]
  },
  {
   "cell_type": "markdown",
   "metadata": {},
   "source": [
    "#### `figure`\n",
    "Es un procedimiento de la clase de `pyplot` de la biblioteca de `Matplotlib`\n",
    "Esta recibe el parametro `figsize`, el cual tiene el valor de una tupla de elementos que almacena las dimensiones de la figura a graficar"
   ]
  },
  {
   "cell_type": "code",
   "execution_count": null,
   "metadata": {},
   "outputs": [],
   "source": [
    "plt.plot(x, f(x), color='black', linewidth=1.5) # Grafica la función f(x) = 3x + 1"
   ]
  },
  {
   "cell_type": "markdown",
   "metadata": {},
   "source": [
    "### `plot` \n",
    "Es una función de `pyplot` utilizado para crear gráficos en 2D.\n",
    "\n",
    "En este caso los valores que recibe la función son:\n",
    "- `x`: Representa una lista o array de valores que representan el eje x\n",
    "- `f(x)`: Representa una lista o arreglo de valores que representan el eje y, obtenidos al aplicar la expresion antes declarada.\n",
    "- `color`: Especifica el color de la línea del gráfico.\n",
    "- `linewidth`: Especifica el grosor de la línea del gráfico. "
   ]
  },
  {
   "cell_type": "code",
   "execution_count": null,
   "metadata": {},
   "outputs": [],
   "source": [
    "plt.text(-1/3, -0.15, r'$-\\frac{1}{3}$', ha='center', va='center', fontsize=12) # Texto en el punto -1/3"
   ]
  },
  {
   "cell_type": "markdown",
   "metadata": {},
   "source": [
    "La función `plt.text` agrega texto en una ubicación específica dentro de un gráfico.\n",
    "\n",
    "Parámetros:\n",
    "- `x`: Coordenada x del punto donde se colocará el texto.\n",
    "- `y`: Coordenada y del punto donde se colocará el texto.\n",
    "- `s`: El texto que se va a mostrar. En este caso, se utiliza una cadena de caracteres con formato LaTeX para mostrar la fracción -1/3.\n",
    "- `ha`: Alineación horizontal del texto. 'center' significa que el texto estará centrado horizontalmente en el punto (x, y).\n",
    "- `va`: Alineación vertical del texto. 'center' significa que el texto estará centrado verticalmente en el punto (x, y).\n",
    "- `fontsize`: Tamaño de la fuente del texto.\n",
    "\n",
    "En este caso, la función coloca el texto '-1/3' en la posición (-1/3, -0.15) del gráfico, centrado tanto horizontal como verticalmente, con un tamaño de fuente de 12."
   ]
  },
  {
   "cell_type": "code",
   "execution_count": null,
   "metadata": {},
   "outputs": [],
   "source": [
    "plt.text(0.05, 1, '1', ha='center', va='center', fontsize=12) # Texto en el punto 1\n",
    "plt.text(0.9, -0.1, '$x$', ha='center', va='center', fontsize=12) # Texto en el eje x\n",
    "plt.text(-0.1, 2.9, '$y$', ha='center', va='center', fontsize=12) # Texto en el eje y\n",
    "plt.text(0.5, 2, r'$f(x) = 3x + 1$', fontsize=12) # Texto de la función"
   ]
  },
  {
   "cell_type": "code",
   "execution_count": null,
   "metadata": {},
   "outputs": [
    {
     "data": {
      "image/png": "[encoded data removed]",
      "text/plain": [
       "<Figure size 640x480 with 1 Axes>"
      ]
     },
     "metadata": {},
     "output_type": "display_data"
    }
   ],
   "source": [
    "plt.axhline(0, color='black', linewidth=0.5) # Eje x\n",
    "plt.axvline(0, color='black', linewidth=0.5) # Eje y\n",
    "plt.xlim(-1, 1) # Limites del eje x\n",
    "plt.ylim(-1, 3) # Limites del eje y\n",
    "\n",
    "plt.show() # Muestra la gráfica"
   ]
  }
 ],
 "metadata": {
  "kernelspec": {
   "display_name": "env",
   "language": "python",
   "name": "python3"
  },
  "language_info": {
   "codemirror_mode": {
    "name": "ipython",
    "version": 3
   },
   "file_extension": ".py",
   "mimetype": "text/x-python",
   "name": "python",
   "nbconvert_exporter": "python",
   "pygments_lexer": "ipython3",
   "version": "3.12.7"
  }
 },
 "nbformat": 4,
 "nbformat_minor": 2
}
