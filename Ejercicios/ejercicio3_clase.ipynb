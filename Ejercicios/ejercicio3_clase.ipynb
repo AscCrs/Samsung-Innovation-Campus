{
 "cells": [
  {
   "cell_type": "code",
   "execution_count": null,
   "metadata": {
    "vscode": {
     "languageId": "plaintext"
    }
   },
   "outputs": [],
   "source": [
    "import numpy as np\n",
    "\n",
    "a = np.array([[1, 3], [5, 7]])\n",
    "b = np.array([[4, -6], [-8, 12]])\n",
    "\n",
    "detA = np.linalg.det(a)\n",
    "Ainv = np.linalg.inv(a)\n",
    "\n",
    "detB = np.linalg.det(b)\n",
    "\n",
    "\n",
    "if detB != 0:\n",
    "    Binv = np.linalg.inv(detB)\n",
    "else:\n",
    "    print(\"B es singular y no tiene inversa\")\n",
    "    Binv = None\n",
    "\n",
    "def print_matrix(label, matrix):\n",
    "    print(f\"{label}\")\n",
    "    for row in matrix:\n",
    "        print(\" \". join(f\" {elem:2}\" for elem in row))\n",
    "    print()\n",
    "\n",
    "print(\"Determinante de A: \", detA)\n",
    "print_matrix(\"Inversa de A \", Ainv)\n",
    "print(\"Determinante de B: \", detB)\n",
    "\n",
    "inversa = np.linalg.inv(np.array([[-0.875, 0.375], [0.625, -0.125]]))\n",
    "unidad = np.dot(a, Ainv)\n",
    "\n",
    "print_matrix(\"Inversa de A \", inversa)\n",
    "print(\"Matriz de unidad\", unidad)"
   ]
  }
 ],
 "metadata": {
  "language_info": {
   "name": "python"
  }
 },
 "nbformat": 4,
 "nbformat_minor": 2
}
