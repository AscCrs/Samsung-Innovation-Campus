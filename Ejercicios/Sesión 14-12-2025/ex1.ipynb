{
 "cells": [
  {
   "cell_type": "code",
   "execution_count": 14,
   "metadata": {},
   "outputs": [
    {
     "name": "stderr",
     "output_type": "stream",
     "text": [
      "[nltk_data] Downloading package stopwords to\n",
      "[nltk_data]     C:\\Users\\crist\\AppData\\Roaming\\nltk_data...\n",
      "[nltk_data]   Package stopwords is already up-to-date!\n"
     ]
    },
    {
     "data": {
      "text/plain": [
       "True"
      ]
     },
     "execution_count": 14,
     "metadata": {},
     "output_type": "execute_result"
    }
   ],
   "source": [
    "import nltk\n",
    "import numpy as np\n",
    "from nltk.corpus import stopwords\n",
    "from sklearn.feature_extraction.text import TfidfVectorizer\n",
    "from sklearn.metrics.pairwise import cosine_similarity\n",
    "nltk.download('stopwords')"
   ]
  },
  {
   "cell_type": "code",
   "execution_count": 15,
   "metadata": {},
   "outputs": [],
   "source": [
    "doc = [\n",
    "    \"AI is a rapidly advancing field that involves the development of intelligent machines\",\n",
    "    \"Machine learning is a subset of AI that focuses on training machines to learn from data.\",\n",
    "    \"Deep learning is a subfield of machine learning that uses neural networks with multiple layers\",\n",
    "    \"AI is applied in various sectors, such as healthcare, transportation, and entertainment.\",\n",
    "    \"Ethical considerations play an important role in the development of AI\",\n",
    "    \"Artificial intelligence can revolutionize many aspects of society\",\n",
    "    \"AI systems, such as chatbots and virtual assistants, are becoming increasingly common\",\n",
    "    \"Natural language processing is a branch of AI that enables machines to understand human language\",\n",
    "    \"The goal of computer vision is for machines to understand visual information\",\n",
    "]"
   ]
  },
  {
   "cell_type": "code",
   "execution_count": 16,
   "metadata": {},
   "outputs": [],
   "source": [
    "# Preprocesamiento: convertir a minúsculas\n",
    "doc = [x.lower() for x in doc]"
   ]
  },
  {
   "cell_type": "code",
   "execution_count": 17,
   "metadata": {},
   "outputs": [],
   "source": [
    "# Parámetros\n",
    "max_features = 18\n",
    "min_df = 1\n",
    "max_df = 3\n",
    "stop_words = stopwords.words('english')"
   ]
  },
  {
   "cell_type": "code",
   "execution_count": 18,
   "metadata": {},
   "outputs": [],
   "source": [
    "# Vectorización TF-IDF\n",
    "vectorizer = TfidfVectorizer(max_features=max_features,\n",
    "                             min_df=min_df,\n",
    "                             max_df=max_df,\n",
    "                             stop_words=stop_words)\n",
    "X = vectorizer.fit_transform(doc).toarray()"
   ]
  },
  {
   "cell_type": "code",
   "execution_count": 19,
   "metadata": {},
   "outputs": [
    {
     "data": {
      "text/plain": [
       "array([[1.        , 0.        , 0.        , 0.        , 0.41635696,\n",
       "        0.        , 0.        , 0.        , 0.        ],\n",
       "       [0.        , 1.        , 0.64286127, 0.        , 0.        ,\n",
       "        0.        , 0.        , 0.        , 0.        ],\n",
       "       [0.        , 0.64286127, 1.        , 0.        , 0.        ,\n",
       "        0.        , 0.        , 0.        , 0.        ],\n",
       "       [0.        , 0.        , 0.        , 1.        , 0.        ,\n",
       "        0.        , 0.        , 0.        , 0.        ],\n",
       "       [0.41635696, 0.        , 0.        , 0.        , 1.        ,\n",
       "        0.        , 0.        , 0.        , 0.        ],\n",
       "       [0.        , 0.        , 0.        , 0.        , 0.        ,\n",
       "        1.        , 0.        , 0.        , 0.        ],\n",
       "       [0.        , 0.        , 0.        , 0.        , 0.        ,\n",
       "        0.        , 1.        , 0.        , 0.        ],\n",
       "       [0.        , 0.        , 0.        , 0.        , 0.        ,\n",
       "        0.        , 0.        , 1.        , 0.22800574],\n",
       "       [0.        , 0.        , 0.        , 0.        , 0.        ,\n",
       "        0.        , 0.        , 0.22800574, 1.        ]])"
      ]
     },
     "execution_count": 19,
     "metadata": {},
     "output_type": "execute_result"
    }
   ],
   "source": [
    "# Calcular similitud coseno\n",
    "cosine_sim = cosine_similarity(X)\n",
    "cosine_sim"
   ]
  },
  {
   "cell_type": "code",
   "execution_count": 20,
   "metadata": {},
   "outputs": [],
   "source": [
    "# Encontrar la declaración más similar\n",
    "np.fill_diagonal(cosine_sim, -1)  # Ignorar la diagonal (similitud consigo mismo)\n",
    "most_similar = np.unravel_index(np.argmax(cosine_sim), cosine_sim.shape)"
   ]
  },
  {
   "cell_type": "code",
   "execution_count": 21,
   "metadata": {},
   "outputs": [
    {
     "name": "stdout",
     "output_type": "stream",
     "text": [
      "Los documentos más similares son:\n",
      "Documento 1: machine learning is a subset of ai that focuses on training machines to learn from data.\n",
      "Documento 2: deep learning is a subfield of machine learning that uses neural networks with multiple layers\n",
      "\n"
     ]
    }
   ],
   "source": [
    "# Resultado\n",
    "print(\"Los documentos más similares son:\")\n",
    "print(f\"Documento {most_similar[0]}: {doc[most_similar[0]]}\")\n",
    "print(f\"Documento {most_similar[1]}: {doc[most_similar[1]]}\\n\")"
   ]
  }
 ],
 "metadata": {
  "kernelspec": {
   "display_name": "env",
   "language": "python",
   "name": "python3"
  },
  "language_info": {
   "codemirror_mode": {
    "name": "ipython",
    "version": 3
   },
   "file_extension": ".py",
   "mimetype": "text/x-python",
   "name": "python",
   "nbconvert_exporter": "python",
   "pygments_lexer": "ipython3",
   "version": "3.10.11"
  }
 },
 "nbformat": 4,
 "nbformat_minor": 2
}
