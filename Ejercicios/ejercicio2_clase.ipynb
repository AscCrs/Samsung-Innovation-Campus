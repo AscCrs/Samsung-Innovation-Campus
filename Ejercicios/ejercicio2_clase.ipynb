{
 "cells": [
  {
   "cell_type": "code",
   "execution_count": 1,
   "metadata": {},
   "outputs": [
    {
     "name": "stdout",
     "output_type": "stream",
     "text": [
      "A + B = \n",
      "  2  -12\n",
      " -12   3\n",
      "\n",
      "A - (1/2)B = \n",
      " 0.5  0.0\n",
      " 0.0  0.0\n",
      "\n",
      "5A = \n",
      "  5  -20\n",
      " -20   5\n",
      "\n"
     ]
    }
   ],
   "source": [
    "import numpy as np\n",
    "\n",
    "A = np.array([[1, -4], \n",
    "              [-4, 1]])\n",
    "B = np.array([[1, -8], \n",
    "              [-8, 2]])\n",
    "\n",
    "def print_matrix(label, matrix):\n",
    "    print(f\"{label}\")\n",
    "    for row in matrix:\n",
    "        print(\" \". join(f\" {elem:2}\" for elem in row))\n",
    "    print()\n",
    "\n",
    "print_matrix(\"A + B = \", A + B)\n",
    "print_matrix(\"A - (1/2)B = \", A - 0.5 * B)\n",
    "print_matrix(\"5A = \", 5 * A)\n"
   ]
  }
 ],
 "metadata": {
  "kernelspec": {
   "display_name": "env",
   "language": "python",
   "name": "python3"
  },
  "language_info": {
   "codemirror_mode": {
    "name": "ipython",
    "version": 3
   },
   "file_extension": ".py",
   "mimetype": "text/x-python",
   "name": "python",
   "nbconvert_exporter": "python",
   "pygments_lexer": "ipython3",
   "version": "3.12.7"
  }
 },
 "nbformat": 4,
 "nbformat_minor": 2
}
