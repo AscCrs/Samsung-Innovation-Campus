{
 "cells": [
  {
   "cell_type": "code",
   "execution_count": null,
   "metadata": {
    "vscode": {
     "languageId": "plaintext"
    }
   },
   "outputs": [],
   "source": [
    "import numpy as np\n",
    "\n",
    "A = np.array([[1, -4], \n",
    "              [-4, 1]])\n",
    "B = np.array([[1, -8], \n",
    "              [-8, 2]])\n",
    "\n",
    "def print_matrix(label, matrix):\n",
    "    print(f\"{label}\")\n",
    "    for row in matrix:\n",
    "        print(\" \". join(f\" {elem:2}\" for elem in row))\n",
    "    print()\n",
    "\n",
    "print_matrix(\"A + B = \", A + B)\n",
    "print_matrix(\"A - (1/2)B = \", A - 0.5 * B)\n",
    "print_matrix(\"5A = \", 5 * A)\n"
   ]
  }
 ],
 "metadata": {
  "language_info": {
   "name": "python"
  }
 },
 "nbformat": 4,
 "nbformat_minor": 2
}
