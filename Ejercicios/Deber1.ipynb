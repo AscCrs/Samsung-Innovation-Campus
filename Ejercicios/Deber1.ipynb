{
 "cells": [
  {
   "cell_type": "code",
   "execution_count": null,
   "metadata": {
    "vscode": {
     "languageId": "plaintext"
    }
   },
   "outputs": [],
   "source": [
    "import matplotlib.pyplot as plt\n",
    "import numpy as np\n",
    "\n",
    "# Definición de los pesos y el sesgo\n",
    "w = 0.5\n",
    "b = -1\n",
    "\n",
    "hours_study = np.array([1, 2, 3, 4, 5, 6, 7])\n",
    "\n",
    "sigmoid_function = lambda z : 1 / (1 + np.exp(-z))\n",
    "calculate_prediction = lambda x : sigmoid_function(w * x + b)\n",
    "\n",
    "def plot_prediction_curve():\n",
    "    x_axis = np.linspace(0, 8, 100)\n",
    "    y_axis = calculate_prediction(x_axis)\n",
    "    plt.plot(x_axis, y_axis, color='black', label='Predicción')\n",
    "\n",
    "def plot_data_points(hours_study):\n",
    "    for idx, hour in enumerate(hours_study):\n",
    "        pred = calculate_prediction(hour)\n",
    "        color = 'crimson' if pred * 100 < 50 else 'green'\n",
    "        plt.scatter(hour, pred, color=color, s=50)\n",
    "        # Visualizacion binaria de los resultados\n",
    "        plt.scatter(idx + 1, 0 if pred * 100 < 50 else 1, color=color, s=50)\n",
    "        plt.annotate(\n",
    "            f\"{'No aprobado' if pred * 100 < 50 else 'Aprobado'}, {pred * 100:.2f}%\",\n",
    "            (hour, pred),\n",
    "            textcoords=\"offset points\",\n",
    "            xytext=(0, 10),\n",
    "            ha='center'\n",
    "        )\n",
    "\n",
    "def configure_plot():\n",
    "    plt.xlabel(\"Horas de estudio\")\n",
    "    plt.ylabel(\"Probabilidad de aprobar\")\n",
    "    plt.axhline(y=0.5, color='gray', linestyle='--', label='Umbral')\n",
    "    plt.scatter([], [], color='crimson', label='No Aprobado')\n",
    "    plt.scatter([], [], color='green', label='Aprobado')\n",
    "    plt.legend(loc='upper left')\n",
    "    plt.grid(True)\n",
    "\n",
    "def main():\n",
    "    plt.figure(figsize=(8, 6), num='Gráfico de Probabilidad de Aprobación utilizando una función Sigmoide')\n",
    "    plot_prediction_curve()\n",
    "    plot_data_points(hours_study)\n",
    "    configure_plot()\n",
    "    plt.show()\n",
    "\n",
    "if __name__ == \"__main__\":\n",
    "    main()\n"
   ]
  }
 ],
 "metadata": {
  "language_info": {
   "name": "python"
  }
 },
 "nbformat": 4,
 "nbformat_minor": 2
}
