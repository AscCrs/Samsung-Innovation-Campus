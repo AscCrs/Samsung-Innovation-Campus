{
 "cells": [
  {
   "cell_type": "code",
   "execution_count": 18,
   "metadata": {},
   "outputs": [],
   "source": [
    "import numpy as np\n",
    "import pandas as pd"
   ]
  },
  {
   "cell_type": "markdown",
   "metadata": {},
   "source": [
    "## 5) Crear un arreglo de Numpy\n",
    "Para poder crear una arreglo de Numpy, primero se debe importar la libreria numpy y utilizar la función array()."
   ]
  },
  {
   "cell_type": "markdown",
   "metadata": {},
   "source": [
    "### `numpy.array`\n",
    "\n",
    "La función `numpy.array` en Numpy se utiliza para crear un arreglo N-dimensional.\n",
    "\n",
    "#### Sintaxis\n",
    "\n",
    "```python\n",
    "numpy.array(object)\n",
    "```\n",
    "\n",
    "\n",
    "\n",
    "##### Parametros\n",
    "\n",
    "- `object`: `array_like`\n",
    "    - Un objeto que expone la interfaz de arreglo, o cualquier (secuencia) de objetos que puedan ser convertidos a un arreglo.\n",
    "\n",
    "\n",
    "```python\n",
    "numpy.array(object, dtype=None, copy=True, order='K', subok=False, ndmin=0)\n",
    "```\n",
    "\n",
    "<details>\n",
    "  <summary>Resto de parametros</summary>\n",
    "  \n",
    "  - `dtype`: `data-type`, *opcional*\n",
    "    - El tipo de datos deseado para el arreglo. Si no se especifica, se infiere del tipo de datos de los elementos en el objeto.\n",
    "  - `copy`: `bool`, *opcional*\n",
    "    - Si es True (por defecto), se copia el objeto. Si es False, se puede evitar la copia si no es necesario.\n",
    "  - `order`: `{'K', 'A', 'C', 'F'}`, *opcional*\n",
    "    - Especifica el orden de la memoria:\n",
    "      - 'C' para filas principales (C-order),\n",
    "      - 'F' para columnas principales (Fortran-order),\n",
    "      - 'A' ('Any') para filas principales a menos que el objeto de entrada sea Fortran contiguous (entonces se usa Fortran-order),\n",
    "      - 'K' ('Keep') para mantener el orden de los elementos en la memoria lo más posible (por defecto).\n",
    "  - `subok`: `bool`, *opcional*\n",
    "    - Si es True, las subclases se pasan a través; de lo contrario, el resultado será forzado a ser una clase base de arreglo.\n",
    "  - `ndmin`: `int`, *opcional*\n",
    "    - Especifica el número mínimo de dimensiones que debe tener el arreglo resultante.\n",
    "</details>\n"
   ]
  },
  {
   "cell_type": "code",
   "execution_count": 21,
   "metadata": {},
   "outputs": [
    {
     "name": "stdout",
     "output_type": "stream",
     "text": [
      "1\n"
     ]
    }
   ],
   "source": [
    "arr1 = np.array([1, 2, 3, 4, 5])\n",
    "print(np.ndim(arr1))"
   ]
  },
  {
   "cell_type": "markdown",
   "metadata": {},
   "source": [
    "## 6) Arreglo de dos dimensiones\n",
    "\n",
    "$$\n",
    "\\begin{bmatrix} \n",
    "1 & 2 & 3 \\\\ \n",
    "4 & 5 & 6 \n",
    "\\end{bmatrix}\n",
    "FilasxColumnas\n",
    "$$\n",
    "\n",
    "$$\n",
    "\\begin{bmatrix}\n",
    "1 & 2 & 3 & 4 & 5 & 6\n",
    "\\end{bmatrix}\n",
    "$$"
   ]
  },
  {
   "cell_type": "code",
   "execution_count": null,
   "metadata": {},
   "outputs": [
    {
     "data": {
      "text/plain": [
       "array([[1, 2, 3],\n",
       "       [4, 5, 6]])"
      ]
     },
     "execution_count": 8,
     "metadata": {},
     "output_type": "execute_result"
    }
   ],
   "source": [
    "arr2 = np.array([[1, 2, 3], \n",
    "                 [4, 5, 6]])\n",
    "arr2"
   ]
  },
  {
   "cell_type": "markdown",
   "metadata": {},
   "source": [
    "\n",
    "## 7) Comprobacion del numero de dimensiones de un arreglo \n",
    "### `numpy.ndim`\n",
    "\n",
    "La función `numpy.ndim` se utiliza para obtener el número de dimensiones (o ejes) de un arreglo.\n",
    "\n",
    "#### Sintaxis\n",
    "\n",
    "``` python\n",
    "numpy.ndim(a)\n",
    "```"
   ]
  },
  {
   "cell_type": "code",
   "execution_count": 11,
   "metadata": {},
   "outputs": [
    {
     "data": {
      "text/plain": [
       "2"
      ]
     },
     "execution_count": 11,
     "metadata": {},
     "output_type": "execute_result"
    }
   ],
   "source": [
    "np.ndim(arr2)"
   ]
  },
  {
   "cell_type": "markdown",
   "metadata": {},
   "source": [
    "## 8) Sintaxis para imprimir el primer elemento de un arreglo\n",
    "`Arreglo` = [1, 2, 3, 4, 5]\n",
    "\n",
    "`Indices` = 0, 1, 2, 3, 4"
   ]
  },
  {
   "cell_type": "code",
   "execution_count": 12,
   "metadata": {},
   "outputs": [
    {
     "name": "stdout",
     "output_type": "stream",
     "text": [
      "1\n"
     ]
    }
   ],
   "source": [
    "print(arr1[0])"
   ]
  },
  {
   "cell_type": "markdown",
   "metadata": {},
   "source": [
    "## 9) Sintaxis correcta para imprimir el numero 8 de una matriz"
   ]
  },
  {
   "cell_type": "code",
   "execution_count": 25,
   "metadata": {},
   "outputs": [
    {
     "data": {
      "text/plain": [
       "np.int64(8)"
      ]
     },
     "execution_count": 25,
     "metadata": {},
     "output_type": "execute_result"
    }
   ],
   "source": [
    "arr = np.array([[1,2,3,4,5], \n",
    "                [6,7,8,9,10]])\n",
    "arr[1, 2]"
   ]
  },
  {
   "cell_type": "markdown",
   "metadata": {},
   "source": [
    "## 10) Sintaxis correcta para imprimir los numeros `[3, 4, 5]` de la matriz `np.array([1, 2, 3, 4, 5, 6, 7])`"
   ]
  },
  {
   "cell_type": "code",
   "execution_count": null,
   "metadata": {},
   "outputs": [
    {
     "data": {
      "text/plain": [
       "array([3, 4, 5])"
      ]
     },
     "execution_count": 16,
     "metadata": {},
     "output_type": "execute_result"
    }
   ],
   "source": [
    "arr = np.array([1, 2, 3, 4, 5, 6, 7])\n",
    "arr[2:5]\n",
    "'''\n",
    "2:5 representa el rango de indices que se desean seleccionar del array\n",
    "2 es el indice inicial y 5 es el indice final, pero no se incluye el indice final\n",
    "'''"
   ]
  },
  {
   "cell_type": "markdown",
   "metadata": {},
   "source": [
    "## 11) Metodo para unir dos o mas arreglos \n",
    "### `numpy.concatenate`\n",
    "\n",
    "La función `numpy.concatenate` se utiliza para unir dos o más arreglos a lo largo de un eje especificado.\n",
    "\n",
    "### Sintaxis\n",
    "\n",
    "```python\n",
    "numpy.concatenate((a1, a2, ...), axis=0, out=None, dtype=None, casting=\"same_kind\")\n",
    "```\n",
    "\n",
    "### Parametros\n",
    "- `a1, a2, ...`: `sequence of array_like`\n",
    "  - Los arreglos que se van a concatenar. Todos deben tener la misma forma, excepto en la dimensión especificada por axis.\n",
    "\n",
    "<details>\n",
    "  <summary>Resto de parametros</summary>\n",
    "\n",
    "  - `axis`: `int`, opcional\n",
    "    - El eje a lo largo del cual se concatenan los arreglos. El valor predeterminado es 0.\n",
    "  - `out`: `ndarray`, opcional\n",
    "    - Si se proporciona, el resultado se coloca en este arreglo.\n",
    "  - `dtype`: `dtype`, opcional\n",
    "    - Si se proporciona, el tipo de datos del resultado.\n",
    "  - `casting`: `{'no', 'equiv', 'safe', 'same_kind', 'unsafe'}`, opcional\n",
    "    - Reglas de casting para la conversión de tipos de datos.\n",
    "\n",
    "</details>\n"
   ]
  },
  {
   "cell_type": "code",
   "execution_count": 17,
   "metadata": {},
   "outputs": [
    {
     "data": {
      "text/plain": [
       "array([1, 2, 3, 4, 5, 6])"
      ]
     },
     "execution_count": 17,
     "metadata": {},
     "output_type": "execute_result"
    }
   ],
   "source": [
    "arr1 = np.array([1, 2, 3])\n",
    "arr2 = np.array([4, 5, 6])\n",
    "np.concatenate((arr1, arr2))"
   ]
  },
  {
   "cell_type": "markdown",
   "metadata": {},
   "source": [
    "### Ejemplo de `numpy.concatenate` con diferentes ejes"
   ]
  },
  {
   "cell_type": "code",
   "execution_count": 21,
   "metadata": {},
   "outputs": [
    {
     "name": "stdout",
     "output_type": "stream",
     "text": [
      "[[1 2]\n",
      " [3 4]\n",
      " [5 6]\n",
      " [7 8]]\n"
     ]
    }
   ],
   "source": [
    "arr1 = np.array([[1, 2], [3, 4]])\n",
    "arr2 = np.array([[5, 6], [7, 8]])\n",
    "concatenado_eje_0 = np.concatenate((arr1, arr2), axis=0)\n",
    "print(concatenado_eje_0)\n",
    "# Salida:\n",
    "# [[1 2]\n",
    "#  [3 4]\n",
    "#  [5 6]\n",
    "#  [7 8]]\n"
   ]
  },
  {
   "cell_type": "code",
   "execution_count": 23,
   "metadata": {},
   "outputs": [
    {
     "name": "stdout",
     "output_type": "stream",
     "text": [
      "[[1 2 5 6]\n",
      " [3 4 7 8]]\n"
     ]
    }
   ],
   "source": [
    "concatenado_eje_1 = np.concatenate((arr1, arr2), axis=1)\n",
    "print(concatenado_eje_1)\n",
    "# Salida:\n",
    "# [[1 2 5 6]\n",
    "#  [3 4 7 8]]"
   ]
  },
  {
   "cell_type": "markdown",
   "metadata": {},
   "source": [
    "## 12) Devolver un número aleatorio entre 0 y 100 con random de Numpy\n",
    "### `numpy.random.randint`\n",
    "\n",
    "La función `numpy.random.randint` se utiliza para generar números enteros aleatorios dentro de un rango especificado.\n",
    "\n",
    "### Sintaxis\n",
    "\n",
    "```python\n",
    "numpy.random.randint(low, high=None, size=None, dtype=int)\n",
    "```\n",
    "### Parametros\n",
    "- `low`: `int`\n",
    "  - El límite inferior (inclusive) del rango de los números aleatorios generados.\n",
    "\n",
    "<details>\n",
    "  <summary>Resto de parametros</summary>\n",
    "  \n",
    "  - `high`: `int`, opcional\n",
    "    - El límite superior (exclusivo) del rango de los números aleatorios generados. Si no se especifica, el rango será [0, low).\n",
    "  - `size`: `int or tuple of ints`, opcional\n",
    "    - La forma del arreglo de salida. Si se especifica un solo entero, se generará un arreglo unidimensional de esa longitud. Si se especifica una tupla, se generará un arreglo con esa forma.\n",
    "  - `dtype`: `dtype`, opcional\n",
    "    - El tipo de datos del arreglo de salida. El valor predeterminado es int.\n",
    "</details>\n",
    "\n"
   ]
  },
  {
   "cell_type": "code",
   "execution_count": null,
   "metadata": {},
   "outputs": [
    {
     "data": {
      "text/plain": [
       "12"
      ]
     },
     "execution_count": 30,
     "metadata": {},
     "output_type": "execute_result"
    }
   ],
   "source": [
    "np.random.randint(100)"
   ]
  },
  {
   "cell_type": "markdown",
   "metadata": {},
   "source": [
    "## 14) Uso de `random.normal` para devolver una distribución normal de datos de 1000 numeros, concetrados al rededor del numero 50 y una desviación estandar de 0.2\n",
    "\n",
    "### `numpy.random.normal`\n",
    "\n",
    "La función `numpy.random.normal` se utiliza para generar números aleatorios siguiendo una distribución normal (gaussiana).\n",
    "\n",
    "#### Sintaxis\n",
    "\n",
    "```python\n",
    "numpy.random.normal(loc=0.0, scale=1.0, size=None)\n",
    "```\n",
    "\n",
    "### Parametros\n",
    "    \n",
    "  - `loc`: `float or array_like of floats`\n",
    "    - La media (o centro) de la distribución. El valor predeterminado es 0.0.\n",
    "  - `scale`: `float or array_like of floats`\n",
    "    - La desviación estándar (o ancho) de la distribución. El valor predeterminado es 1.0.\n",
    "  - `size`: `int or tuple of ints`, opcional\n",
    "    - La forma del arreglo de salida. Si se especifica un solo entero, se generará un arreglo unidimensional de esa longitud. Si se especifica una tupla, se generará un arreglo con esa forma. Si no se especifica, se devolverá un solo valor."
   ]
  },
  {
   "cell_type": "code",
   "execution_count": 3,
   "metadata": {},
   "outputs": [
    {
     "data": {
      "text/plain": [
       "array([50.13881749, 49.90462035, 50.02524587, 49.86813976, 49.99548126,\n",
       "       49.98548772, 50.07709024, 49.96141501, 49.94188076, 49.97490456,\n",
       "       49.81985227, 49.88065419, 50.35000233, 50.07397546, 49.89833934,\n",
       "       49.67730746, 50.01041093, 50.24111551, 49.83608885, 49.76274716,\n",
       "       50.26532047, 49.83617344, 49.99952354, 49.87992225, 50.30702853,\n",
       "       49.970387  , 49.94540599, 50.12388874, 50.07846714, 50.29888564,\n",
       "       49.85780435, 50.3759549 , 49.81617909, 50.21211513, 50.19439849,\n",
       "       49.75377095, 49.91411444, 49.93624731, 49.5779064 , 50.34755062,\n",
       "       50.37483096, 50.00509895, 49.95804819, 49.88382493, 49.72328855,\n",
       "       49.99182165, 49.96211046, 49.97806732, 50.07641573, 50.29151492,\n",
       "       50.16383078, 50.01890408, 50.17909027, 49.59696507, 49.91252557,\n",
       "       50.33424793, 50.18050881, 50.2780442 , 49.86352631, 50.23664732,\n",
       "       49.66616819, 50.28725809, 50.31175481, 50.05015338, 50.0333565 ,\n",
       "       50.24835123, 50.10594617, 50.16838916, 50.02148231, 49.98264428,\n",
       "       49.53580801, 49.88544294, 49.99099366, 49.68966095, 49.83352187,\n",
       "       50.06735117, 50.26179565, 49.66626209, 49.58016638, 49.93748114,\n",
       "       50.12981369, 49.91812776, 49.68912011, 50.13566644, 50.00755765,\n",
       "       49.99580195, 50.07081841, 50.19868279, 50.22927872, 49.92359035,\n",
       "       49.72217076, 50.03448034, 49.72849144, 50.01505899, 49.76973432,\n",
       "       49.93113279, 50.11583037, 50.01079818, 49.76260906, 50.1696551 ,\n",
       "       49.61093599, 50.1511389 , 50.04286468, 50.30380272, 49.81101509,\n",
       "       50.10643984, 50.16930766, 49.73512302, 49.85457094, 50.13644656,\n",
       "       49.94127502, 50.16542545, 50.10233711, 49.95449654, 50.28250029,\n",
       "       50.15296577, 49.50688964, 50.16291002, 49.86816511, 49.76196465,\n",
       "       49.80149182, 50.26274763, 49.79191463, 49.91964988, 50.03692205,\n",
       "       49.92418048, 49.79074294, 49.84736001, 50.17824997, 50.3047396 ,\n",
       "       49.92526296, 49.64557442, 50.14879148, 50.11166709, 50.100862  ,\n",
       "       50.14817236, 49.95298773, 49.58999094, 49.82756676, 50.29291553,\n",
       "       49.86562635, 49.88950482, 49.75530758, 49.9009427 , 50.21938581,\n",
       "       49.98680938, 49.79483775, 50.12131085, 49.93150821, 49.95111141,\n",
       "       49.87488687, 49.61792553, 50.16014807, 49.93937881, 49.89700691,\n",
       "       50.32098292, 50.37944261, 50.08815419, 49.99250548, 49.77780657,\n",
       "       49.63536265, 50.07577929, 49.86841256, 50.01470938, 50.05939285,\n",
       "       49.8000298 , 50.15298521, 49.97499142, 49.94881731, 50.26649807,\n",
       "       49.86010608, 49.99476726, 50.580755  , 49.92902374, 50.03865397,\n",
       "       49.81710968, 49.88459294, 50.0512101 , 50.10546868, 50.00491892,\n",
       "       49.72609499, 49.86816694, 50.17636518, 50.15240746, 50.19682671,\n",
       "       49.89979099, 49.98262194, 49.88409945, 49.77746767, 50.24175876,\n",
       "       49.89275452, 49.78392613, 49.91825837, 49.86375274, 49.82528896,\n",
       "       49.48593361, 50.14517221, 49.82205807, 49.83072367, 49.90599333,\n",
       "       49.99107632, 50.20870416, 50.30467225, 49.92216335, 49.85248745,\n",
       "       49.90847605, 50.01906508, 49.92241677, 50.24941603, 49.8737571 ,\n",
       "       50.25402119, 49.9687378 , 49.91523451, 50.36900069, 50.46665662,\n",
       "       50.6235127 , 49.58455058, 49.83042412, 49.96966337, 50.14260179,\n",
       "       49.68404705, 49.76941496, 49.72802248, 50.25226526, 49.70867669,\n",
       "       49.96497528, 49.99246108, 50.01262661, 50.03042536, 50.05699277,\n",
       "       49.86669469, 49.85578361, 49.56540824, 49.67460355, 49.72613676,\n",
       "       50.06302243, 49.85440178, 49.97387031, 50.02639076, 50.17878175,\n",
       "       49.96931834, 50.13404827, 50.01084501, 49.93409948, 49.87525536,\n",
       "       50.07522657, 49.89492592, 49.98114663, 49.47996913, 49.96563907,\n",
       "       50.08985217, 49.93353637, 49.93686984, 49.71299731, 50.00829086,\n",
       "       49.85548581, 50.32387745, 50.40201156, 50.14867426, 50.00947616,\n",
       "       49.80223925, 49.78822183, 50.02187267, 49.58636498, 50.09466374,\n",
       "       49.7944259 , 50.04686801, 49.84625064, 49.8983657 , 49.88830836,\n",
       "       50.16304335, 49.68825344, 49.77516739, 49.92933585, 50.16935793,\n",
       "       49.85312167, 50.04404342, 49.96231006, 49.93982455, 50.10293162,\n",
       "       50.10154489, 50.36489118, 49.98988103, 50.01922843, 50.23266484,\n",
       "       50.12039198, 50.18404784, 49.80356634, 50.03009539, 50.01879666,\n",
       "       49.84947158, 49.92836506, 50.09325066, 49.68127303, 49.88449761,\n",
       "       49.77456818, 49.77544857, 49.98105855, 49.99060184, 50.27855911,\n",
       "       49.98094906, 49.9290589 , 50.24238149, 49.85247137, 50.41597345,\n",
       "       49.97197057, 50.28497264, 50.00576203, 49.90246185, 49.84838474,\n",
       "       50.31148408, 50.00746873, 50.09033306, 49.9911583 , 49.99803276,\n",
       "       49.60634215, 49.94170905, 49.89988746, 49.8211208 , 50.02052255,\n",
       "       49.49971225, 50.13138326, 49.77517872, 49.8019704 , 50.24034867,\n",
       "       49.68428052, 50.15636799, 50.06786673, 49.64135626, 50.26052583,\n",
       "       49.65843284, 50.26825205, 50.11620113, 50.30792794, 49.80178843,\n",
       "       50.04043656, 50.13167177, 50.03068079, 50.22190176, 50.30144668,\n",
       "       49.92079674, 50.15394528, 49.80120242, 49.94303571, 50.3274168 ,\n",
       "       50.12309473, 49.89661172, 49.89946373, 49.95353241, 49.92943639,\n",
       "       50.05656613, 49.80097607, 49.98686692, 50.08596857, 49.88774615,\n",
       "       49.98014481, 49.60706755, 50.23039713, 50.21119284, 50.21852365,\n",
       "       49.87587703, 50.11927344, 50.19924429, 50.26486894, 50.09673289,\n",
       "       49.98506759, 49.57547241, 50.02790341, 49.81740711, 49.88811168,\n",
       "       49.65689292, 49.95718667, 49.73211332, 50.09707795, 49.75695774,\n",
       "       49.73611499, 49.85622162, 50.10392785, 50.15805912, 49.71307244,\n",
       "       49.75768093, 50.12459846, 49.92347686, 49.83644116, 50.40474798,\n",
       "       50.08806445, 49.73457966, 50.42041374, 49.74186501, 50.17745524,\n",
       "       50.16869333, 49.82817749, 50.10814334, 50.36802079, 49.77434876,\n",
       "       49.94579597, 50.15731296, 50.19345649, 49.57634132, 50.14506314,\n",
       "       49.67637694, 49.83367457, 49.85580748, 49.944878  , 50.03440459,\n",
       "       49.53381386, 50.32132194, 49.90794655, 50.06729439, 49.82617948,\n",
       "       49.61664364, 50.17734961, 50.15811802, 50.37938531, 50.16536263,\n",
       "       49.8500373 , 50.23777927, 50.09117691, 50.21457906, 49.78395665,\n",
       "       50.01582387, 50.22568782, 50.26340797, 49.99597929, 50.06747067,\n",
       "       50.07639074, 49.69901837, 49.57842342, 49.76721107, 50.05749721,\n",
       "       49.89314549, 50.05830919, 50.07900274, 49.98260694, 50.21499206,\n",
       "       49.69445236, 50.03427274, 49.81441215, 50.32781441, 50.10351103,\n",
       "       50.14041495, 49.81639012, 50.2155759 , 49.90612373, 49.72420086,\n",
       "       49.91925908, 50.13989831, 49.67156451, 50.12909407, 50.00014344,\n",
       "       50.01586564, 49.83850687, 50.04589635, 49.64301721, 49.82093451,\n",
       "       50.2735636 , 50.0696253 , 49.95793428, 49.76831752, 50.11798685,\n",
       "       49.59462029, 49.74757277, 49.89677311, 50.0407702 , 49.78436071,\n",
       "       49.85778706, 49.88940592, 49.59562561, 49.8267211 , 49.90019822,\n",
       "       49.78084283, 49.8247538 , 49.97171148, 49.93799911, 49.75897738,\n",
       "       50.13464582, 49.64105799, 50.077815  , 49.86082399, 50.03320171,\n",
       "       50.16149866, 50.01399937, 50.00705745, 50.08611649, 50.07593139,\n",
       "       49.8984024 , 50.42357753, 49.78563781, 50.33155095, 50.01936786,\n",
       "       50.01769119, 50.06225467, 49.99673059, 50.09386641, 49.97120933,\n",
       "       50.36970102, 50.13359933, 50.20338642, 49.95378665, 50.36119148,\n",
       "       49.71952304, 49.68983725, 49.983917  , 49.87055398, 50.45345636,\n",
       "       49.97324181, 50.16371709, 49.65964905, 50.06423793, 50.20202002,\n",
       "       49.96336191, 50.10206008, 49.71669168, 49.87486638, 50.30445081,\n",
       "       50.30608646, 50.17164699, 50.30139556, 50.41721732, 50.07874341,\n",
       "       49.85115127, 49.84248502, 49.82382256, 50.22473268, 49.54393044,\n",
       "       49.94740167, 50.29503618, 49.98096569, 50.31806101, 50.01402696,\n",
       "       50.05085441, 49.83974076, 50.08507372, 50.25193578, 50.14085303,\n",
       "       49.62804548, 49.49299476, 49.94839913, 50.25161361, 50.25346819,\n",
       "       50.13703799, 50.0726885 , 49.77105694, 50.08198953, 49.81589458,\n",
       "       49.66903669, 50.44338531, 49.86790583, 50.30513771, 50.43584055,\n",
       "       49.7809871 , 50.17660837, 49.78092622, 49.89736678, 50.21775847,\n",
       "       49.99424935, 49.80575465, 50.10596881, 49.96540509, 49.82579036,\n",
       "       50.23621887, 49.70821818, 50.13074929, 49.79848243, 49.99287751,\n",
       "       50.41918815, 49.78774381, 50.03369667, 50.12009834, 50.25311996,\n",
       "       49.70290266, 49.76686442, 50.19877459, 50.14998233, 49.97306079,\n",
       "       49.87431901, 50.06390468, 50.30250923, 50.55093532, 49.67767286,\n",
       "       49.61977559, 49.81955659, 50.12953617, 49.88780292, 49.63350717,\n",
       "       49.90024186, 50.07899849, 49.94141636, 49.87010367, 50.13144006,\n",
       "       50.11004197, 49.72331487, 50.25110651, 49.90032019, 50.15437068,\n",
       "       50.2954305 , 49.9859558 , 50.05433029, 49.88079966, 49.76910237,\n",
       "       50.08885425, 50.13069025, 50.03420061, 50.06115839, 50.20758045,\n",
       "       49.79099361, 50.19700092, 49.97503297, 49.53173871, 50.06776826,\n",
       "       50.25848018, 49.77391026, 49.92558281, 49.69263377, 50.06307472,\n",
       "       50.12065782, 50.0122832 , 49.86099233, 49.72523475, 50.22843237,\n",
       "       49.92105691, 50.02926971, 50.1048265 , 49.85126734, 50.14316883,\n",
       "       49.76479479, 49.94727891, 49.69963193, 50.09294979, 50.03739884,\n",
       "       49.99469643, 50.46754494, 50.32900582, 49.82379132, 50.04570833,\n",
       "       50.03569661, 49.90294626, 50.21665757, 50.29339403, 50.11067961,\n",
       "       50.01599611, 50.15956107, 49.73507616, 50.12723591, 49.85381658,\n",
       "       49.88426507, 49.78339825, 49.78054518, 50.49146105, 49.62626479,\n",
       "       50.04216277, 49.78361339, 49.76424776, 49.60545172, 49.83283692,\n",
       "       50.18881477, 49.91438349, 50.25896588, 49.99128983, 50.20112444,\n",
       "       49.8503161 , 50.25338457, 49.49111815, 49.8653695 , 50.17294454,\n",
       "       50.14072477, 49.75796831, 50.08729362, 50.5167185 , 50.04799176,\n",
       "       49.76078105, 49.77578138, 50.09932513, 49.7009735 , 50.18297514,\n",
       "       49.92964147, 50.03171019, 50.21357387, 50.13794485, 49.94730548,\n",
       "       49.93865741, 49.87649785, 50.03814372, 49.88313841, 50.28895967,\n",
       "       50.05624565, 49.85064077, 49.899537  , 50.12181027, 50.01078063,\n",
       "       49.85002627, 50.22360865, 49.91638917, 50.1210442 , 49.84453291,\n",
       "       49.81495316, 49.95130572, 50.02341367, 50.16047561, 49.63671406,\n",
       "       50.01981054, 50.04964665, 50.08970451, 50.21701017, 49.82699404,\n",
       "       49.95507346, 49.72069187, 49.94756591, 49.89766121, 50.03755277,\n",
       "       50.06806589, 49.87034417, 50.43362096, 49.73718748, 49.78526234,\n",
       "       50.20753723, 50.00935615, 50.28597477, 50.26925783, 49.80149302,\n",
       "       49.85983852, 50.04934795, 50.1946531 , 50.21258877, 50.03076208,\n",
       "       50.03678963, 49.94424533, 50.04629193, 49.82897218, 49.92551544,\n",
       "       50.03206058, 49.86959725, 50.21083525, 49.8797982 , 49.84135672,\n",
       "       50.30778026, 50.09760251, 50.05489702, 50.09862329, 49.92814486,\n",
       "       50.15530565, 50.162016  , 50.0853346 , 50.00246021, 50.18733575,\n",
       "       50.18447805, 49.86110216, 49.95829993, 49.63299775, 49.84921711,\n",
       "       49.56891819, 49.82131305, 49.79650778, 50.20119697, 49.87964827,\n",
       "       49.9968349 , 49.92552449, 49.76307354, 49.91579755, 50.13796957,\n",
       "       50.2545648 , 49.51509907, 49.79403729, 50.34048014, 49.98101595,\n",
       "       49.97753573, 49.96404149, 50.3316475 , 49.64500348, 50.12779338,\n",
       "       50.10547056, 50.25973977, 49.78648229, 49.87129004, 50.25196151,\n",
       "       49.85528533, 49.69226474, 50.19751   , 49.6529698 , 50.49356984,\n",
       "       50.40501715, 50.26761193, 49.88846416, 50.37603697, 50.28572404,\n",
       "       50.07958701, 49.92328174, 49.45061701, 49.96640663, 49.94523699,\n",
       "       49.83302985, 49.65336437, 49.49657046, 49.98374786, 50.24700811,\n",
       "       49.72525429, 49.81379391, 50.06428402, 50.23551858, 50.30639515,\n",
       "       49.95399885, 49.92800237, 50.15597006, 49.99093161, 50.16772348,\n",
       "       50.47905464, 49.881434  , 50.05302719, 49.56278613, 49.83688215,\n",
       "       49.94006124, 50.27870108, 50.08040347, 49.60375579, 50.01871219,\n",
       "       50.23025409, 49.86005465, 49.68603784, 50.14252863, 50.10923022,\n",
       "       50.07118423, 50.04258637, 50.05318077, 49.9312246 , 49.87366783,\n",
       "       49.89742509, 49.98019492, 50.3451907 , 50.14215737, 50.24899402,\n",
       "       49.75723198, 49.8170516 , 50.03652204, 50.07621754, 49.86421759,\n",
       "       49.86947788, 50.1243215 , 49.99106142, 49.97037027, 49.82642105,\n",
       "       49.81791462, 49.7814021 , 49.98146807, 50.0627356 , 49.81708967,\n",
       "       50.15389652, 50.19881088, 50.06864511, 49.71709083, 50.01584137,\n",
       "       50.24906289, 50.24108478, 49.96717819, 49.90265637, 50.07410999,\n",
       "       49.9962812 , 49.69523292, 49.9568015 , 50.04863321, 50.4462894 ,\n",
       "       50.02369817, 49.79190586, 49.81843283, 49.99268634, 49.83975751,\n",
       "       49.8602764 , 49.93247158, 50.28408491, 49.73241984, 50.17871691,\n",
       "       49.74089037, 49.76039664, 49.93078796, 49.98559807, 50.19950249,\n",
       "       50.14508508, 49.95879205, 50.1133576 , 50.3242961 , 49.83303529,\n",
       "       49.76805894, 49.60782684, 49.89753898, 50.22483136, 49.94480497,\n",
       "       50.03458373, 50.01995923, 49.75745488, 49.78338869, 49.94530599,\n",
       "       49.89646454, 49.98892194, 50.102394  , 49.61185102, 49.89259421,\n",
       "       50.03387771, 50.3097202 , 49.45980231, 50.15091022, 50.05950688,\n",
       "       49.92391458, 49.88072822, 49.95312358, 49.84179501, 50.30347953,\n",
       "       49.87371787, 50.25619625, 49.77241807, 49.48287809, 49.92041685,\n",
       "       50.13792441, 49.70996959, 49.97834585, 50.10301021, 49.94612107,\n",
       "       50.29729189, 50.49609306, 49.71531438, 50.12223017, 50.17077409,\n",
       "       50.06672803, 49.90620763, 50.04750234, 49.56949338, 49.85375164,\n",
       "       49.88904997, 50.0636432 , 50.0174658 , 50.25522838, 50.18624106,\n",
       "       49.95723988, 50.18630401, 50.16972548, 49.84055464, 50.23138528,\n",
       "       50.10243143, 49.95838392, 50.06160616, 50.06556718, 50.19526301,\n",
       "       50.06395311, 49.91450147, 49.88012364, 49.879884  , 49.9910498 ,\n",
       "       49.84989015, 49.96839709, 50.05534728, 49.96844314, 49.93020313,\n",
       "       49.99179148, 50.19147758, 50.17021211, 50.11442379, 50.05267811,\n",
       "       50.01438866, 49.96932865, 49.76492204, 49.84583695, 49.78805095,\n",
       "       49.92099454, 49.98961577, 50.37996373, 49.65567043, 50.09228841,\n",
       "       49.89328791, 49.98351731, 49.72454111, 50.02244349, 50.11877505,\n",
       "       49.83002571, 49.8822719 , 49.7759325 , 49.62627356, 50.08578734,\n",
       "       49.83218449, 49.94948386, 49.84832917, 50.07149979, 49.99976123,\n",
       "       49.8098595 , 49.93470737, 49.91601227, 49.84415931, 50.06342856,\n",
       "       49.60986805, 49.62373263, 50.3659333 , 49.81482773, 50.15518184,\n",
       "       50.17097631, 49.88066058, 49.97308932, 50.16151366, 49.91265317,\n",
       "       49.84365183, 49.97483615, 50.26284486, 49.69427496, 49.95368523])"
      ]
     },
     "execution_count": 3,
     "metadata": {},
     "output_type": "execute_result"
    }
   ],
   "source": [
    "np.random.normal(size=1000, loc=50, scale=0.2)"
   ]
  },
  {
   "cell_type": "markdown",
   "metadata": {},
   "source": [
    "## 15) Sintaxis correcta par sumar los numeros de dos arreglos.\n",
    "\n",
    "### `numpy.add`\n",
    "\n",
    "La función `numpy.add` se utiliza para sumar dos arreglos elemento por elemento.\n",
    "\n",
    "#### Sintaxis\n",
    "\n",
    "```python\n",
    "numpy.add(x1, x2, out=None, where=True, casting='same_kind', order='K', dtype=None, subok=True[, signature, extobj])\n",
    "```\n",
    "\n",
    "#### Parametros\n",
    "\n",
    "- `x1, x2`: `array_like`\n",
    "  - Los arreglos o escalares que se van a sumar. Deben tener la misma forma o ser transmisibles (broadcastable) a una forma común.\n",
    "\n",
    "<details>\n",
    "  <summary>Resto de parametros</summary>\n",
    "  \n",
    "  - `out`: `ndarray, None, or tuple of ndarray and None`, opcional\n",
    "    - Un lugar donde almacenar el resultado. Si se proporciona, debe tener una forma que el resultado pueda transmitir. Si no se especifica, se devuelve un nuevo arreglo.\n",
    "  - `where`: `array_like`, opcional\n",
    "    - Este valor es transmitido a través de la entrada. El valor predeterminado es True.\n",
    "  - `casting`: `{'no', 'equiv', 'safe', 'same_kind', 'unsafe'}`, opcional\n",
    "    - Reglas de casting para la conversión de tipos de datos. El valor predeterminado es 'same_kind'.\n",
    "  - `order`: `{'C', 'F', 'A', 'K'}`, opcional\n",
    "    - Especifica el orden de la memoria del resultado. El valor predeterminado es 'K'.\n",
    "  - `dtype`: `data-type`, opcional\n",
    "    - El tipo de datos del resultado. Si no se especifica, se infiere del tipo de datos de los operandos.\n",
    "  - `subok`: `bool`, opcional\n",
    "    - Si es `True`, las subclases se pasan a través; de lo contrario, el resultado será forzado a ser una clase base de arreglo.\n",
    "</details>"
   ]
  },
  {
   "cell_type": "code",
   "execution_count": 4,
   "metadata": {},
   "outputs": [
    {
     "data": {
      "text/plain": [
       "array([ 7,  9, 11, 13, 15])"
      ]
     },
     "execution_count": 4,
     "metadata": {},
     "output_type": "execute_result"
    }
   ],
   "source": [
    "arr1 = np.array([1, 2, 3, 4, 5])\n",
    "arr2 = np.array([6, 7, 8, 9, 10])\n",
    "np.add(arr1, arr2)"
   ]
  },
  {
   "cell_type": "markdown",
   "metadata": {},
   "source": [
    "## 16) Sintaxis para restar los numeros de dos arreglos \n",
    "### `numpy.subtract`\n",
    "\n",
    "La función `numpy.subtract` se utiliza para restar los elementos de dos arreglos, elemento por elemento.\n",
    "\n",
    "#### Sintaxis\n",
    "\n",
    "```python\n",
    "numpy.subtract(x1, x2, out=None, where=True, casting='same_kind', order='K', dtype=None, subok=True[, signature, extobj])\n",
    "```\n",
    "\n",
    "#### Parámetros\n",
    "\n",
    "- **x1, x2**: array_like\n",
    "    - Los arreglos o escalares que se van a restar. Deben tener la misma forma o ser transmisibles (broadcastable) a una forma común.\n",
    "\n",
    "<details>\n",
    "  <summary>Resto de parametros</summary>\n",
    "  \n",
    "- **out**: ndarray, None, or tuple of ndarray and None, opcional\n",
    "    \n",
    "    - Un lugar donde almacenar el resultado. Si se proporciona, debe tener una forma que el resultado pueda transmitir. Si no se especifica, se devuelve un nuevo arreglo.\n",
    "- **where**: array_like, opcional\n",
    "    \n",
    "    - Este valor es transmitido a través de la entrada. El valor predeterminado es `True`.\n",
    "- **casting**: {'no', 'equiv', 'safe', 'same_kind', 'unsafe'}, opcional\n",
    "    \n",
    "    - Reglas de casting para la conversión de tipos de datos. El valor predeterminado es 'same_kind'.\n",
    "- **order**: {'C', 'F', 'A', 'K'}, opcional\n",
    "    \n",
    "    - Especifica el orden de la memoria del resultado. El valor predeterminado es 'K'.\n",
    "- **dtype**: data-type, opcional\n",
    "    \n",
    "    - El tipo de datos del resultado. Si no se especifica, se infiere del tipo de datos de los operandos.\n",
    "- **subok**: bool, opcional\n",
    "    \n",
    "    - Si es `True`, las subclases se pasan a través; de lo contrario, el resultado será forzado a ser una clase base de arreglo\n",
    "</details>"
   ]
  },
  {
   "cell_type": "code",
   "execution_count": 14,
   "metadata": {},
   "outputs": [
    {
     "data": {
      "text/plain": [
       "array([5, 5, 5, 5, 5])"
      ]
     },
     "execution_count": 14,
     "metadata": {},
     "output_type": "execute_result"
    }
   ],
   "source": [
    "np.subtract(arr2, arr1)"
   ]
  },
  {
   "cell_type": "markdown",
   "metadata": {},
   "source": [
    "## 17) Redondear decimales en Numpy\n",
    "\n",
    "### `numpy.fix`\n",
    "\n",
    "La función `numpy.fix` redondea los elementos del arreglo hacia cero, eliminando la parte decimal.\n",
    "\n",
    "#### Sintaxis\n",
    "\n",
    "```python\n",
    "numpy.fix(x, out=None)\n",
    "```\n",
    "\n",
    "#### Parámetros\n",
    "\n",
    "- **x**: array_like\n",
    "  - Entrada del arreglo.\n",
    "  \n",
    "- **out**: ndarray, opcional\n",
    "  - Un lugar donde almacenar el resultado. Si se proporciona, debe tener una forma que el resultado pueda transmitir. Si no se especifica, se devuelve un nuevo arreglo.\n",
    "\n",
    "### `numpy.trunc`\n",
    "\n",
    "La función `numpy.trunc` trunca los decimales, eliminando la parte decimal.\n",
    "\n",
    "#### Sintaxis\n",
    "\n",
    "```python\n",
    "numpy.trunc(x, out=None)\n",
    "```\n",
    "\n",
    "#### Parámetros\n",
    "\n",
    "- **x**: array_like\n",
    "  - Entrada del arreglo.\n",
    "  \n",
    "- **out**: ndarray, opcional\n",
    "  - Un lugar donde almacenar el resultado. Si se proporciona, debe tener una forma que el resultado pueda transmitir. Si no se especifica, se devuelve un nuevo arreglo.\n",
    "\n",
    "\n",
    "\n",
    "### `numpy.around`\n",
    "\n",
    "La función `numpy.around` se utiliza para redondear los elementos de un arreglo a un número especificado de decimales.\n",
    "\n",
    "#### Sintaxis\n",
    "\n",
    "```python\n",
    "numpy.around(a, decimals=0, out=None)\n",
    "```\n",
    "\n",
    "#### Parámetros\n",
    "\n",
    "- **a**: array_like\n",
    "  - Entrada del arreglo que se va a redondear.\n",
    "  \n",
    "- **decimals**: int, opcional\n",
    "  - Número de decimales a los que se redondearán los elementos. El valor predeterminado es 0. Si es negativo, se redondea a la izquierda del punto decimal.\n",
    "  \n",
    "- **out**: ndarray, opcional\n",
    "  - Un lugar donde almacenar el resultado. Si se proporciona, debe tener una forma que el resultado pueda transmitir. Si no se especifica, se devuelve un nuevo arreglo."
   ]
  },
  {
   "cell_type": "code",
   "execution_count": 15,
   "metadata": {},
   "outputs": [
    {
     "name": "stdout",
     "output_type": "stream",
     "text": [
      "[ 1. -2.  3. -4.]\n",
      "[ 1. -2.  3. -4.]\n",
      "[1.23 2.35 3.46]\n",
      "[20 20 40]\n"
     ]
    }
   ],
   "source": [
    "a = np.array([1.5, -2.5, 3.7, -4.7])\n",
    "\n",
    "# Redondear hacia cero\n",
    "resultado = np.fix(a)\n",
    "print(resultado)  # Salida: [ 1. -2.  3. -4.]\n",
    "\n",
    "\n",
    "b = np.array([1.5, -2.5, 3.7, -4.7])\n",
    "\n",
    "# Truncar los decimales\n",
    "resultado = np.trunc(b)\n",
    "print(resultado)  # Salida: [ 1. -2.  3. -4.]\n",
    "\n",
    "\n",
    "c = np.array([1.23456, 2.34567, 3.45678])\n",
    "\n",
    "# Redondear a 2 decimales\n",
    "resultado = np.around(c, decimals=2)\n",
    "print(resultado)  # Salida: [1.23 2.35 3.46]\n",
    "\n",
    "# Redondear a -1 decimales (redondeo a la decena más cercana)\n",
    "d = np.array([15, 25, 35])\n",
    "resultado = np.around(d, decimals=-1)\n",
    "print(resultado)  # Salida: [20 30 40]"
   ]
  },
  {
   "cell_type": "markdown",
   "metadata": {},
   "source": [
    "## 18) Respuesta de la suma acumulativa en Numpy\n",
    "### `numpy.cumsum`\n",
    "\n",
    "La función `numpy.cumsum` se utiliza para calcular la suma acumulativa de los elementos a lo largo de un eje especificado.\n",
    "\n",
    "#### Sintaxis\n",
    "\n",
    "```python\n",
    "numpy.cumsum(a, axis=None, dtype=None, out=None)\n",
    "```\n",
    "\n",
    "#### Parámetros\n",
    "\n",
    "- **a**: array_like\n",
    "  - Entrada del arreglo.\n",
    "  \n",
    "- **axis**: int, opcional\n",
    "  - El eje a lo largo del cual se calcula la suma acumulativa. Si no se especifica, se calcula la suma acumulativa de todos los elementos del arreglo.\n",
    "  \n",
    "- **dtype**: dtype, opcional\n",
    "  - El tipo de datos del resultado. Si no se especifica, se utiliza el tipo de datos del arreglo de entrada.\n",
    "  \n",
    "- **out**: ndarray, opcional\n",
    "  - Un lugar donde almacenar el resultado. Si se proporciona, debe tener una forma que el resultado pueda transmitir. Si no se especifica, se devuelve un nuevo arreglo.\n",
    "\n",
    "## Valor de retorno\n",
    "\n",
    "- **cumsum**: ndarray\n",
    "  - Un nuevo arreglo con la suma acumulativa de los elementos a lo largo del eje especificado. Si `out` se proporciona, se devuelve una referencia a `out`."
   ]
  },
  {
   "cell_type": "code",
   "execution_count": 17,
   "metadata": {},
   "outputs": [
    {
     "name": "stdout",
     "output_type": "stream",
     "text": [
      "[1 3 6]\n"
     ]
    }
   ],
   "source": [
    "arr = np.array([1,2,3])\n",
    "print(np.cumsum(arr))"
   ]
  },
  {
   "cell_type": "markdown",
   "metadata": {},
   "source": [
    "## 19) Sintaxis para crear una serie de pandas a partir de una lista\n",
    "\n",
    "### `pd.Series`\n",
    "\n",
    "La clase `pd.Series` en pandas se utiliza para crear una serie unidimensional que puede contener cualquier tipo de datos (enteros, flotantes, cadenas, etc.).\n",
    "\n",
    "### Sintaxis\n",
    "\n",
    "```python\n",
    "pd.Series(data=None, index=None, dtype=None, name=None, copy=False)\n",
    "```\n",
    "\n",
    "#### Parámetros\n",
    "\n",
    "- **data**: array-like, iterable, dict, or scalar value\n",
    "  - Los datos que se utilizarán para crear la serie. Puede ser una lista, un diccionario, un valor escalar, etc.\n",
    "  \n",
    "- **index**: array-like or Index (opcional)\n",
    "  - Los índices para los datos. Si no se proporciona, se generará un índice predeterminado que va de 0 a N-1.\n",
    "  \n",
    "- **dtype**: dtype (opcional)\n",
    "  - El tipo de datos para la serie. Si no se especifica, se inferirá del tipo de datos de `data`.\n",
    "  \n",
    "- **name**: str (opcional)\n",
    "  - El nombre de la serie.\n",
    "  \n",
    "- **copy**: bool (opcional)\n",
    "  - Si es `True`, se copia `data`. El valor predeterminado es `False`."
   ]
  },
  {
   "cell_type": "code",
   "execution_count": 19,
   "metadata": {},
   "outputs": [
    {
     "data": {
      "text/plain": [
       "0    1\n",
       "1    2\n",
       "2    3\n",
       "3    4\n",
       "4    5\n",
       "dtype: int64"
      ]
     },
     "execution_count": 19,
     "metadata": {},
     "output_type": "execute_result"
    }
   ],
   "source": [
    "mylist = [1, 2, 3, 4, 5]\n",
    "\n",
    "# Crear una Series de pandas a partir de la lista\n",
    "serie = pd.Series(mylist)\n",
    "serie"
   ]
  }
 ],
 "metadata": {
  "kernelspec": {
   "display_name": "env",
   "language": "python",
   "name": "python3"
  },
  "language_info": {
   "codemirror_mode": {
    "name": "ipython",
    "version": 3
   },
   "file_extension": ".py",
   "mimetype": "text/x-python",
   "name": "python",
   "nbconvert_exporter": "python",
   "pygments_lexer": "ipython3",
   "version": "3.10.11"
  }
 },
 "nbformat": 4,
 "nbformat_minor": 2
}
